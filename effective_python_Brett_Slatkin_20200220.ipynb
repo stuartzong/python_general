{
 "cells": [
  {
   "cell_type": "code",
   "execution_count": 62,
   "metadata": {},
   "outputs": [],
   "source": [
    "from IPython.core.interactiveshell import InteractiveShell\n",
    "InteractiveShell.ast_node_interactivity = \"all\"\n",
    "\n",
    "import os\n",
    "\n",
    "import numpy as np\n",
    "import itertools"
   ]
  },
  {
   "cell_type": "markdown",
   "metadata": {},
   "source": [
    "### PEP8"
   ]
  },
  {
   "cell_type": "code",
   "execution_count": 12,
   "metadata": {},
   "outputs": [
    {
     "data": {
      "text/plain": [
       "True"
      ]
     },
     "execution_count": 12,
     "metadata": {},
     "output_type": "execute_result"
    },
    {
     "data": {
      "text/plain": [
       "True"
      ]
     },
     "execution_count": 12,
     "metadata": {},
     "output_type": "execute_result"
    },
    {
     "data": {
      "text/plain": [
       "True"
      ]
     },
     "execution_count": 12,
     "metadata": {},
     "output_type": "execute_result"
    },
    {
     "data": {
      "text/plain": [
       "True"
      ]
     },
     "execution_count": 12,
     "metadata": {},
     "output_type": "execute_result"
    },
    {
     "data": {
      "text/plain": [
       "True"
      ]
     },
     "execution_count": 12,
     "metadata": {},
     "output_type": "execute_result"
    },
    {
     "data": {
      "text/plain": [
       "0"
      ]
     },
     "execution_count": 12,
     "metadata": {},
     "output_type": "execute_result"
    }
   ],
   "source": [
    "a = []\n",
    "not a # preferred\n",
    "len(a) == 0 # avoid\n",
    "\n",
    "\n",
    "d = {}\n",
    "not d\n",
    "len(d) == 0 # avoid\n",
    "\n",
    "s = ''\n",
    "not s # preferred\n",
    "len(s) # avoid"
   ]
  },
  {
   "cell_type": "code",
   "execution_count": 13,
   "metadata": {},
   "outputs": [],
   "source": [
    "open??"
   ]
  },
  {
   "cell_type": "markdown",
   "metadata": {},
   "source": [
    "### string and bytes"
   ]
  },
  {
   "cell_type": "markdown",
   "metadata": {},
   "source": [
    "* bytes contain raw, unsigned 8-bit values(often displayed in the ASCII encoding). \n",
    "* ASCII: each byte can store up to 255 numbers. 2**8 -1. for example all english letters and other special important characters can be represented by  numbers 32-127.\n",
    "* Unicode: but we have more than 255 characters in other languages, so ASCII is not enough. use code-points to represent characters, like U+00639, hexdecimal\n",
    "* uft-8: encoding standard, use at least 8-bits to store unicode points. 0-127 using 1 byte(8 bits), 128 and above using 2,3,4 bytes \n",
    "* str contain unicode code points"
   ]
  },
  {
   "cell_type": "code",
   "execution_count": 279,
   "metadata": {},
   "outputs": [
    {
     "data": {
      "text/plain": [
       "'this is a test! e, ̀'"
      ]
     },
     "execution_count": 279,
     "metadata": {},
     "output_type": "execute_result"
    },
    {
     "data": {
      "text/plain": [
       "b'this is a test! e\\\\u0300'"
      ]
     },
     "execution_count": 279,
     "metadata": {},
     "output_type": "execute_result"
    },
    {
     "name": "stdout",
     "output_type": "stream",
     "text": [
      "'this is a test! e, ̀'\n",
      "b'this is a test! e\\\\u0300'\n",
      "[116, 104, 105, 115, 32, 105, 115, 32, 97, 32, 116, 101, 115, 116, 33, 32, 101, 92, 117, 48, 51, 48, 48]\n",
      "['t', 'h', 'i', 's', ' ', 'i', 's', ' ', 'a', ' ', 't', 'e', 's', 't', '!', ' ', 'e', ',', ' ', '̀']\n"
     ]
    }
   ],
   "source": [
    "s = 'this is a test! \\x65, \\u0300'\n",
    "b = b'this is a test! \\x65\\u0300'\n",
    "s\n",
    "b\n",
    "print(repr(s))\n",
    "print(repr(b))\n",
    "print(list(b))\n",
    "print(list(s))"
   ]
  },
  {
   "cell_type": "code",
   "execution_count": 288,
   "metadata": {},
   "outputs": [
    {
     "data": {
      "text/plain": [
       "'this is byte data!'"
      ]
     },
     "execution_count": 288,
     "metadata": {},
     "output_type": "execute_result"
    },
    {
     "data": {
      "text/plain": [
       "str"
      ]
     },
     "execution_count": 288,
     "metadata": {},
     "output_type": "execute_result"
    },
    {
     "data": {
      "text/plain": [
       "b'this is string data type.'"
      ]
     },
     "execution_count": 288,
     "metadata": {},
     "output_type": "execute_result"
    },
    {
     "data": {
      "text/plain": [
       "bytes"
      ]
     },
     "execution_count": 288,
     "metadata": {},
     "output_type": "execute_result"
    }
   ],
   "source": [
    "# string encode to bytes and bytes decode to string\n",
    "a = b'this is byte data!'.decode('utf-8')\n",
    "a;type(a)\n",
    "b = 'this is string data type.'.encode('utf-8')\n",
    "b; type(b)"
   ]
  },
  {
   "cell_type": "code",
   "execution_count": 289,
   "metadata": {},
   "outputs": [
    {
     "data": {
      "text/plain": [
       "False"
      ]
     },
     "execution_count": 289,
     "metadata": {},
     "output_type": "execute_result"
    }
   ],
   "source": [
    "b'foo' == 'foo' # bytes == string always evaluated to Falseb\n"
   ]
  },
  {
   "cell_type": "markdown",
   "metadata": {},
   "source": [
    "### string formatting F-string"
   ]
  },
  {
   "cell_type": "code",
   "execution_count": 301,
   "metadata": {},
   "outputs": [
    {
     "data": {
      "text/plain": [
       "'Aaa'"
      ]
     },
     "execution_count": 301,
     "metadata": {},
     "output_type": "execute_result"
    }
   ],
   "source": [
    "'aaa'.title()"
   ]
  },
  {
   "cell_type": "code",
   "execution_count": 316,
   "metadata": {},
   "outputs": [
    {
     "name": "stdout",
     "output_type": "stream",
     "text": [
      "#1: Avocado    =  1.000,       'avocado'\n",
      "#2: Banana     =  2.000,        'banana'\n",
      "#3: Cherries   = 15.000,      'cherries'\n"
     ]
    }
   ],
   "source": [
    "pantry = [('avocado', 1.25), ('banana', 2.5), ('cherries', 15),]\n",
    "# multiple unpacking preferred over indexing\n",
    "for i, (item, count) in enumerate(pantry):\n",
    "    #  print(item.title(), item)\n",
    "    # < left align, 10 spaces\n",
    "    # !r repr \n",
    "    # 6.3f, numbers occupy 6 spaces, 3 digits after decimal\n",
    "    f_string = f'#{i+1}: {item.title():<10s} = {round(count):6.3f}, {item!r:>15s}'\n",
    "    print(f_string)"
   ]
  },
  {
   "cell_type": "markdown",
   "metadata": {},
   "source": [
    "### enumerate over range"
   ]
  },
  {
   "cell_type": "code",
   "execution_count": 320,
   "metadata": {},
   "outputs": [
    {
     "data": {
      "text/plain": [
       "(0, 'vanilla')"
      ]
     },
     "execution_count": 320,
     "metadata": {},
     "output_type": "execute_result"
    },
    {
     "data": {
      "text/plain": [
       "(1, 'pecan')"
      ]
     },
     "execution_count": 320,
     "metadata": {},
     "output_type": "execute_result"
    },
    {
     "name": "stdout",
     "output_type": "stream",
     "text": [
      "3: vanilla\n",
      "4: pecan\n",
      "5: strawberry\n"
     ]
    }
   ],
   "source": [
    "flavor_list = ['vanilla', 'pecan', 'strawberry']\n",
    "\n",
    "it = enumerate(flavor_list) # generator\n",
    "next(it)\n",
    "next(it)\n",
    "\n",
    "for i, flavor in enumerate(flavor_list, 3): # start from 3 to enumerate\n",
    "    print(f'{i}: {flavor}')"
   ]
  },
  {
   "cell_type": "markdown",
   "metadata": {},
   "source": [
    "### zip and itertools.zip_longest"
   ]
  },
  {
   "cell_type": "code",
   "execution_count": 329,
   "metadata": {},
   "outputs": [
    {
     "data": {
      "text/plain": [
       "['Sonya', 'Kathryne', 'Alisa', 'Owen']"
      ]
     },
     "execution_count": 329,
     "metadata": {},
     "output_type": "execute_result"
    },
    {
     "data": {
      "text/plain": [
       "[5, 8, 5]"
      ]
     },
     "execution_count": 329,
     "metadata": {},
     "output_type": "execute_result"
    },
    {
     "data": {
      "text/plain": [
       "('Sonya', 5)"
      ]
     },
     "execution_count": 329,
     "metadata": {},
     "output_type": "execute_result"
    },
    {
     "data": {
      "text/plain": [
       "('Kathryne', 8)"
      ]
     },
     "execution_count": 329,
     "metadata": {},
     "output_type": "execute_result"
    },
    {
     "name": "stdout",
     "output_type": "stream",
     "text": [
      "Sonya\n",
      "Kathryne\n",
      "Alisa\n",
      "Kathryne\n",
      "Sonya: 5\n",
      "Kathryne: 8\n",
      "Alisa: 5\n",
      "Owen: kkkkk\n"
     ]
    }
   ],
   "source": [
    "import itertools\n",
    "max_count = 0\n",
    "names = ['Sonya', \"Kathryne\", 'Alisa']\n",
    "counts = [len(n) for n in names]\n",
    "names.append('Owen')\n",
    "names\n",
    "counts\n",
    "it = zip(names, counts) # lazy generator, stop when any iterators is exhansted\n",
    "next(it)\n",
    "next(it)\n",
    "\n",
    "for name, count in zip(names, counts):\n",
    "    print(name)\n",
    "    if count > max_count:\n",
    "        longest_name = name\n",
    "        max_count = count\n",
    "print(longest_name)\n",
    "\n",
    "\n",
    "for name, count in itertools.zip_longest(names, counts, fillvalue='kkkkk'):\n",
    "    print(f'{name}: {count}')"
   ]
  },
  {
   "cell_type": "markdown",
   "metadata": {},
   "source": [
    "### walrus assignment expression"
   ]
  },
  {
   "cell_type": "code",
   "execution_count": 334,
   "metadata": {},
   "outputs": [
    {
     "name": "stdout",
     "output_type": "stream",
     "text": [
      "there are still 5 lemons!\n"
     ]
    }
   ],
   "source": [
    "fresh_fruit = {'apple': 10, 'banana': 8, 'lemon': 5}\n",
    "def make_lemonade(count):\n",
    "    pass\n",
    "\n",
    "if count := fresh_fruit.get('lemon', 0):\n",
    "    print(f'there are still {count} lemons!')\n",
    "    make_lemonade(count)\n",
    "else:\n",
    "    out_of_stock()\n",
    "        "
   ]
  },
  {
   "cell_type": "code",
   "execution_count": 338,
   "metadata": {},
   "outputs": [],
   "source": [
    "class OutOfBananas(Exception):\n",
    "    pass\n",
    "\n",
    "\n",
    "def slice_bananas(count):\n",
    "    pass\n",
    "\n",
    "def make_smoothies(pieces):\n",
    "    pass\n",
    "\n",
    "pieces = 0\n",
    "if (count := fresh_fruit.get('banana', 0)) >= 2:\n",
    "    pieces = slice_bananas(count)\n",
    "try:\n",
    "    smoothies = make_smoothies(pieces)\n",
    "except OutOfBananas:\n",
    "    out_of_stock()"
   ]
  },
  {
   "cell_type": "code",
   "execution_count": 342,
   "metadata": {},
   "outputs": [],
   "source": [
    "def pick_fruit():\n",
    "    pass \n",
    "\n",
    "bottles = []\n",
    "while fresh_fruit := pick_fruit():\n",
    "    for fruit, count in fresh_fruit.items():\n",
    "        print(f'fruit: count, {fruit}: {count}')\n",
    "        batch = make_juice(fruit, count)\n",
    "        bottles.extend(batch)"
   ]
  },
  {
   "cell_type": "code",
   "execution_count": 349,
   "metadata": {},
   "outputs": [
    {
     "data": {
      "text/plain": [
       "['h', 'e', 'l', 'l', 'o']"
      ]
     },
     "execution_count": 349,
     "metadata": {},
     "output_type": "execute_result"
    },
    {
     "data": {
      "text/plain": [
       "['h', 'e', 'l', 'l', 'o']"
      ]
     },
     "execution_count": 349,
     "metadata": {},
     "output_type": "execute_result"
    },
    {
     "ename": "IndexError",
     "evalue": "list index out of range",
     "output_type": "error",
     "traceback": [
      "\u001b[0;31m---------------------------------------------------------------------------\u001b[0m",
      "\u001b[0;31mIndexError\u001b[0m                                Traceback (most recent call last)",
      "\u001b[0;32m<ipython-input-349-3acebf5a0cd3>\u001b[0m in \u001b[0;36m<module>\u001b[0;34m\u001b[0m\n\u001b[1;32m      2\u001b[0m \u001b[0mlist\u001b[0m\u001b[0;34m(\u001b[0m\u001b[0;34m'hello'\u001b[0m\u001b[0;34m)\u001b[0m\u001b[0;34m[\u001b[0m\u001b[0;34m-\u001b[0m\u001b[0;36m40\u001b[0m\u001b[0;34m:\u001b[0m\u001b[0;34m]\u001b[0m\u001b[0;34m\u001b[0m\u001b[0;34m\u001b[0m\u001b[0m\n\u001b[1;32m      3\u001b[0m \u001b[0mlist\u001b[0m\u001b[0;34m(\u001b[0m\u001b[0;34m'hello'\u001b[0m\u001b[0;34m)\u001b[0m\u001b[0;34m[\u001b[0m\u001b[0;34m:\u001b[0m\u001b[0;36m40\u001b[0m\u001b[0;34m]\u001b[0m\u001b[0;34m\u001b[0m\u001b[0;34m\u001b[0m\u001b[0m\n\u001b[0;32m----> 4\u001b[0;31m \u001b[0mlist\u001b[0m\u001b[0;34m(\u001b[0m\u001b[0;34m'hello'\u001b[0m\u001b[0;34m)\u001b[0m\u001b[0;34m[\u001b[0m\u001b[0;36m20\u001b[0m\u001b[0;34m]\u001b[0m\u001b[0;34m\u001b[0m\u001b[0;34m\u001b[0m\u001b[0m\n\u001b[0m",
      "\u001b[0;31mIndexError\u001b[0m: list index out of range"
     ]
    }
   ],
   "source": [
    "# no out of range exception here\n",
    "list('hello')[-40:]\n",
    "list('hello')[:40]\n",
    "list('hello')[20]"
   ]
  },
  {
   "cell_type": "code",
   "execution_count": 369,
   "metadata": {},
   "outputs": [
    {
     "data": {
      "text/plain": [
       "['h', 'e', 'l', 'l', 'o']"
      ]
     },
     "execution_count": 369,
     "metadata": {},
     "output_type": "execute_result"
    },
    {
     "data": {
      "text/plain": [
       "['h', 'e', '1', '2', '3', '4', '5', 'o']"
      ]
     },
     "execution_count": 369,
     "metadata": {},
     "output_type": "execute_result"
    },
    {
     "data": {
      "text/plain": [
       "['h', 'e', '3', 'o']"
      ]
     },
     "execution_count": 369,
     "metadata": {},
     "output_type": "execute_result"
    },
    {
     "data": {
      "text/plain": [
       "['o', '3', 'e', 'h']"
      ]
     },
     "execution_count": 369,
     "metadata": {},
     "output_type": "execute_result"
    }
   ],
   "source": [
    "a = list('hello')\n",
    "a\n",
    "# assign a list to a slice, does not need to be the same length\n",
    "a[2:4] = '12345'\n",
    "a\n",
    "a[2:7] = '3'\n",
    "a\n",
    "a[::-1]"
   ]
  },
  {
   "cell_type": "code",
   "execution_count": 367,
   "metadata": {},
   "outputs": [
    {
     "data": {
      "text/plain": [
       "True"
      ]
     },
     "execution_count": 367,
     "metadata": {},
     "output_type": "execute_result"
    },
    {
     "data": {
      "text/plain": [
       "False"
      ]
     },
     "execution_count": 367,
     "metadata": {},
     "output_type": "execute_result"
    },
    {
     "data": {
      "text/plain": [
       "True"
      ]
     },
     "execution_count": 367,
     "metadata": {},
     "output_type": "execute_result"
    },
    {
     "data": {
      "text/plain": [
       "True"
      ]
     },
     "execution_count": 367,
     "metadata": {},
     "output_type": "execute_result"
    },
    {
     "data": {
      "text/plain": [
       "['h', 'e', 'l', 'l', 'o']"
      ]
     },
     "execution_count": 367,
     "metadata": {},
     "output_type": "execute_result"
    },
    {
     "data": {
      "text/plain": [
       "['h', 'e', 'l', 'l', 'o']"
      ]
     },
     "execution_count": 367,
     "metadata": {},
     "output_type": "execute_result"
    },
    {
     "data": {
      "text/plain": [
       "['h', 'e', 'l', '1000', 'o']"
      ]
     },
     "execution_count": 367,
     "metadata": {},
     "output_type": "execute_result"
    },
    {
     "data": {
      "text/plain": [
       "['h', 'e', 'l', '1000', 'o']"
      ]
     },
     "execution_count": 367,
     "metadata": {},
     "output_type": "execute_result"
    }
   ],
   "source": [
    "# slicing produces a new list\n",
    "a = list('hello')\n",
    "b = a[:]\n",
    "a == b\n",
    "a is b\n",
    "\n",
    "# assigning without start and end index, b is a copy of a.\n",
    "a = list('hello')\n",
    "b = a\n",
    "a == b\n",
    "a is b\n",
    "\n",
    "a\n",
    "b\n",
    "a[3] = '1000'\n",
    "a \n",
    "b"
   ]
  },
  {
   "cell_type": "markdown",
   "metadata": {},
   "source": [
    "### starred expression, catch-all unpacking"
   ]
  },
  {
   "cell_type": "code",
   "execution_count": 372,
   "metadata": {},
   "outputs": [
    {
     "data": {
      "text/plain": [
       "[8, 4, 0, 7]"
      ]
     },
     "execution_count": 372,
     "metadata": {},
     "output_type": "execute_result"
    },
    {
     "data": {
      "text/plain": [
       "0"
      ]
     },
     "execution_count": 372,
     "metadata": {},
     "output_type": "execute_result"
    },
    {
     "data": {
      "text/plain": [
       "[0, 8, 4, 0]"
      ]
     },
     "execution_count": 372,
     "metadata": {},
     "output_type": "execute_result"
    },
    {
     "data": {
      "text/plain": [
       "7"
      ]
     },
     "execution_count": 372,
     "metadata": {},
     "output_type": "execute_result"
    }
   ],
   "source": [
    "car_ages = [9, 0, 8, 4, 0, 7]\n",
    "oldest, second_old, *others = car_ages\n",
    "others\n",
    "second_old\n",
    "oldest, *other, youngest = car_ages\n",
    "other \n",
    "youngest"
   ]
  },
  {
   "cell_type": "markdown",
   "metadata": {},
   "source": [
    "### sort list using key parameter"
   ]
  },
  {
   "cell_type": "markdown",
   "metadata": {},
   "source": [
    "list.sort() sort string, interger, float etc by natural order, but it does not work for object unless you implement special comparison method"
   ]
  },
  {
   "cell_type": "code",
   "execution_count": 392,
   "metadata": {},
   "outputs": [
    {
     "name": "stdout",
     "output_type": "stream",
     "text": [
      "[Tool('level', 3.5), Tool('hammer', 1.25), Tool('screwdriver', 0.5), Tool('plier', 0.3), Tool('chisel', 0.5)]\n",
      "[Tool('chisel', 0.5), Tool('hammer', 1.25), Tool('level', 3.5), Tool('plier', 0.3), Tool('screwdriver', 0.5)]\n",
      "[Tool('plier', 0.3), Tool('chisel', 0.5), Tool('screwdriver', 0.5), Tool('hammer', 1.25), Tool('level', 3.5)]\n"
     ]
    },
    {
     "data": {
      "text/plain": [
       "[Tool('level', 3.5),\n",
       " Tool('hammer', 1.25),\n",
       " Tool('screwdriver', 0.5),\n",
       " Tool('chisel', 0.5),\n",
       " Tool('plier', 0.3)]"
      ]
     },
     "execution_count": 392,
     "metadata": {},
     "output_type": "execute_result"
    },
    {
     "data": {
      "text/plain": [
       "[Tool('level', 3.5),\n",
       " Tool('hammer', 1.25),\n",
       " Tool('chisel', 0.5),\n",
       " Tool('screwdriver', 0.5),\n",
       " Tool('plier', 0.3)]"
      ]
     },
     "execution_count": 392,
     "metadata": {},
     "output_type": "execute_result"
    },
    {
     "data": {
      "text/plain": [
       "[Tool('level', 3.5),\n",
       " Tool('hammer', 1.25),\n",
       " Tool('chisel', 0.5),\n",
       " Tool('screwdriver', 0.5),\n",
       " Tool('plier', 0.3)]"
      ]
     },
     "execution_count": 392,
     "metadata": {},
     "output_type": "execute_result"
    }
   ],
   "source": [
    "class Tool:\n",
    "    def __init__(self, name, weight):\n",
    "        self.name = name\n",
    "        self.weight = weight\n",
    "        \n",
    "    def __repr__(self):\n",
    "        return f'Tool({self.name!r}, {self.weight})'\n",
    "    \n",
    "tools = [\n",
    "    Tool('level', 3.5),\n",
    "    Tool('hammer', 1.25),\n",
    "    Tool('screwdriver', 0.5), \n",
    "    Tool('plier', 0.3), \n",
    "    Tool('chisel', 0.5)\n",
    "]\n",
    "\n",
    "# tools.sort()\n",
    "print(repr(tools))\n",
    "tools.sort(key=lambda x: x.name)\n",
    "print(repr(tools))\n",
    "\n",
    "tools.sort(key=lambda x: x.weight)\n",
    "print(repr(tools))\n",
    "\n",
    "# sort first by  weight and then by name\n",
    "# tuple comparison, compare first position and then the next position in the tuples\n",
    "tools.sort(key=lambda x: (x.weight, x.name), reverse=True)\n",
    "tools\n",
    "\n",
    "# negate numerical value, sort name and weight in different order\n",
    "tools.sort(key=lambda x: (-x.weight, x.name), reverse=False)\n",
    "tools\n",
    "\n",
    "# stable sort preserve the input order when key function return the same value\n",
    "# sort by weight descending and then name ascending, two step sort needs to sort on name first then weight\n",
    "tools.sort(key=lambda x: x.name) # name ascending\n",
    "tools.sort(key=lambda x: x.weight, reverse=True) # wight descending\n",
    "tools"
   ]
  },
  {
   "cell_type": "code",
   "execution_count": 384,
   "metadata": {},
   "outputs": [
    {
     "data": {
      "text/plain": [
       "['New York', 'Paris', 'home', 'work']"
      ]
     },
     "execution_count": 384,
     "metadata": {},
     "output_type": "execute_result"
    },
    {
     "data": {
      "text/plain": [
       "['home', 'New York', 'Paris', 'work']"
      ]
     },
     "execution_count": 384,
     "metadata": {},
     "output_type": "execute_result"
    }
   ],
   "source": [
    "places = ['home', 'work', 'New York', 'Paris']\n",
    "places.sort()\n",
    "places\n",
    "\n",
    "places.sort(key=lambda x: x.lower())\n",
    "places"
   ]
  },
  {
   "cell_type": "markdown",
   "metadata": {},
   "source": [
    "### type annotation"
   ]
  },
  {
   "cell_type": "code",
   "execution_count": 409,
   "metadata": {},
   "outputs": [
    {
     "data": {
      "text/plain": [
       "'dog'"
      ]
     },
     "execution_count": 409,
     "metadata": {},
     "output_type": "execute_result"
    },
    {
     "data": {
      "text/plain": [
       "{'dog': 'xxx', 'cat': 40}"
      ]
     },
     "execution_count": 409,
     "metadata": {},
     "output_type": "execute_result"
    },
    {
     "data": {
      "text/plain": [
       "'dog'"
      ]
     },
     "execution_count": 409,
     "metadata": {},
     "output_type": "execute_result"
    }
   ],
   "source": [
    "from typing import Dict\n",
    "\n",
    "def get_winner(ranks: Dict[str, int]) -> str:\n",
    "    return next(iter(ranks))\n",
    "\n",
    "ranks = {'cat': 40, 'dog': 3}\n",
    "names = list(ranks.keys())\n",
    "names.sort(key=ranks.get)\n",
    "sorted_ranks = {k:ranks[k] for k in names}\n",
    "get_winner(sorted_ranks)\n",
    "\n",
    "\n",
    "# type annotation is not doing what I expected\n",
    "sorted_ranks['dog'] = 'xxx'\n",
    "sorted_ranks\n",
    "get_winner(sorted_ranks)\n"
   ]
  },
  {
   "cell_type": "code",
   "execution_count": 419,
   "metadata": {},
   "outputs": [],
   "source": [
    "def careful_divide(a: float, b: int) -> float:\n",
    "    return a / b"
   ]
  },
  {
   "cell_type": "code",
   "execution_count": 420,
   "metadata": {},
   "outputs": [
    {
     "data": {
      "text/plain": [
       "3.8636363636363633"
      ]
     },
     "execution_count": 420,
     "metadata": {},
     "output_type": "execute_result"
    }
   ],
   "source": [
    "careful_divide(3.4, 0.88)"
   ]
  },
  {
   "cell_type": "code",
   "execution_count": 400,
   "metadata": {},
   "outputs": [
    {
     "data": {
      "text/plain": [
       "3"
      ]
     },
     "execution_count": 400,
     "metadata": {},
     "output_type": "execute_result"
    }
   ],
   "source": [
    "ranks.get('dog')"
   ]
  },
  {
   "cell_type": "markdown",
   "metadata": {},
   "source": [
    "### dictionary: handle missing keys"
   ]
  },
  {
   "cell_type": "code",
   "execution_count": 424,
   "metadata": {},
   "outputs": [
    {
     "data": {
      "text/plain": [
       "3"
      ]
     },
     "execution_count": 424,
     "metadata": {},
     "output_type": "execute_result"
    },
    {
     "data": {
      "text/plain": [
       "0"
      ]
     },
     "execution_count": 424,
     "metadata": {},
     "output_type": "execute_result"
    },
    {
     "data": {
      "text/plain": [
       "{'apple': 2, 'orange': 3}"
      ]
     },
     "execution_count": 424,
     "metadata": {},
     "output_type": "execute_result"
    },
    {
     "data": {
      "text/plain": [
       "{'apple': 2, 'orange': 3, 'carrot': 1}"
      ]
     },
     "execution_count": 424,
     "metadata": {},
     "output_type": "execute_result"
    }
   ],
   "source": [
    "counters = {'apple':2, 'orange':3}\n",
    "counters.get('orange', 0)\n",
    "counters.get('banana', 0)\n",
    "counters\n",
    "\n",
    "\n",
    "key = 'carrot'\n",
    "count = counters.get(key, 0)\n",
    "counters[key] = count + 1\n",
    "counters"
   ]
  },
  {
   "cell_type": "markdown",
   "metadata": {},
   "source": [
    "use collections.Counter to maintain counts"
   ]
  },
  {
   "cell_type": "code",
   "execution_count": 432,
   "metadata": {},
   "outputs": [
    {
     "data": {
      "text/plain": [
       "Counter({'i': 2,\n",
       "         ' ': 3,\n",
       "         'a': 2,\n",
       "         'm': 1,\n",
       "         'l': 1,\n",
       "         't': 4,\n",
       "         'e': 2,\n",
       "         'r': 1,\n",
       "         'p': 1,\n",
       "         'o': 1,\n",
       "         '!': 1})"
      ]
     },
     "execution_count": 432,
     "metadata": {},
     "output_type": "execute_result"
    },
    {
     "data": {
      "text/plain": [
       "[('t', 4), (' ', 3), ('i', 2)]"
      ]
     },
     "execution_count": 432,
     "metadata": {},
     "output_type": "execute_result"
    }
   ],
   "source": [
    "from collections import Counter\n",
    "# Counter?\n",
    "c = Counter('i am litter teapot!')\n",
    "c\n",
    "c.most_common(3)\n"
   ]
  },
  {
   "cell_type": "markdown",
   "metadata": {},
   "source": [
    "### triple assignment"
   ]
  },
  {
   "cell_type": "code",
   "execution_count": 446,
   "metadata": {},
   "outputs": [
    {
     "data": {
      "text/plain": [
       "{'Biden': ['A', 'B'], 'Warren': ['C'], 'Sanders': ['H', 'I', 'J']}"
      ]
     },
     "execution_count": 446,
     "metadata": {},
     "output_type": "execute_result"
    },
    {
     "name": "stdout",
     "output_type": "stream",
     "text": [
      "None\n",
      "['X']\n"
     ]
    },
    {
     "data": {
      "text/plain": [
       "{'Biden': ['A', 'B'],\n",
       " 'Warren': ['C'],\n",
       " 'Sanders': ['H', 'I', 'J'],\n",
       " 'Obama': ['X']}"
      ]
     },
     "execution_count": 446,
     "metadata": {},
     "output_type": "execute_result"
    },
    {
     "name": "stdout",
     "output_type": "stream",
     "text": [
      "['H', 'I', 'J', 'Y']\n"
     ]
    },
    {
     "data": {
      "text/plain": [
       "{'Biden': ['A', 'B'],\n",
       " 'Warren': ['C'],\n",
       " 'Sanders': ['H', 'I', 'J', 'Y'],\n",
       " 'Obama': ['X']}"
      ]
     },
     "execution_count": 446,
     "metadata": {},
     "output_type": "execute_result"
    },
    {
     "data": {
      "text/plain": [
       "{'Biden': ['A', 'B'],\n",
       " 'Warren': ['C'],\n",
       " 'Sanders': ['H', 'I', 'J', 'Y'],\n",
       " 'Obama': ['X'],\n",
       " 'Trump': ['X']}"
      ]
     },
     "execution_count": 446,
     "metadata": {},
     "output_type": "execute_result"
    }
   ],
   "source": [
    "votes = {'Biden': ['A', 'B'], 'Warren': ['C'], 'Sanders': ['H', 'I', 'J']}\n",
    "votes\n",
    "\n",
    "# populate key in one line\n",
    "\n",
    "\n",
    "def populate_dict(key, who):\n",
    "    if (names := votes.get(key)) is None:\n",
    "        print(names)\n",
    "        votes[key] = names = []\n",
    "    names.append(who)\n",
    "    print(names)\n",
    "    return votes\n",
    "\n",
    "key = 'Obama'\n",
    "who = 'X'\n",
    "populate_dict(key, who)\n",
    "\n",
    "key = 'Sanders'\n",
    "who = 'Y'\n",
    "populate_dict(key, who)\n",
    "\n",
    "# use setdefault be careful, you need to contruct a default value for each key\n",
    "key = 'Trump'\n",
    "who = 'X'\n",
    "names = votes.setdefault(key, [])\n",
    "names.append(who)\n",
    "votes"
   ]
  },
  {
   "cell_type": "markdown",
   "metadata": {},
   "source": [
    "### defaultdict is much better than setdefault if you control the creation of the dictionary"
   ]
  },
  {
   "cell_type": "code",
   "execution_count": 454,
   "metadata": {},
   "outputs": [
    {
     "data": {
      "text/plain": [
       "defaultdict(set, {})"
      ]
     },
     "execution_count": 454,
     "metadata": {},
     "output_type": "execute_result"
    },
    {
     "data": {
      "text/plain": [
       "defaultdict(set, {'England': {'Batch', 'London'}, 'China': {'Beijing'}})"
      ]
     },
     "execution_count": 454,
     "metadata": {},
     "output_type": "execute_result"
    },
    {
     "data": {
      "text/plain": [
       "{'Beijing'}"
      ]
     },
     "execution_count": 454,
     "metadata": {},
     "output_type": "execute_result"
    },
    {
     "data": {
      "text/plain": [
       "set()"
      ]
     },
     "execution_count": 454,
     "metadata": {},
     "output_type": "execute_result"
    }
   ],
   "source": [
    "from collections import defaultdict\n",
    "class Visits:\n",
    "    def __init__(self):\n",
    "        self.data = defaultdict(set)\n",
    "        \n",
    "    def add(self, country, city):\n",
    "        self.data[country].add(city)\n",
    "        \n",
    "visits = Visits()\n",
    "visits.data\n",
    "visits.add('England', 'Batch')\n",
    "visits.add('England', 'London')\n",
    "visits.add('China', 'Beijing')\n",
    "visits.add('England', 'London')\n",
    "visits.data\n",
    "\n",
    "visits.data['China']\n",
    "visits.data['France']"
   ]
  },
  {
   "cell_type": "markdown",
   "metadata": {},
   "source": [
    "### ITEM 20: PREFER RAISING EXCEPTIONS TO RETURNING NONE"
   ]
  },
  {
   "cell_type": "code",
   "execution_count": 9,
   "metadata": {},
   "outputs": [],
   "source": [
    "def careful_divide(a, b):\n",
    "    try:\n",
    "        return a / b\n",
    "    except ZeroDivisionError:\n",
    "        return None"
   ]
  },
  {
   "cell_type": "code",
   "execution_count": 11,
   "metadata": {},
   "outputs": [],
   "source": [
    "def careful_divide(a, b):\n",
    "    try:\n",
    "        return a / b\n",
    "    except ZeroDivisionError as e:\n",
    "        raise ValueError('Invalid inputs')"
   ]
  },
  {
   "cell_type": "code",
   "execution_count": 12,
   "metadata": {},
   "outputs": [
    {
     "name": "stdout",
     "output_type": "stream",
     "text": [
      "Invalid inputs\n"
     ]
    }
   ],
   "source": [
    "x, y = 5, 0\n",
    "try:\n",
    "    result = careful_divide(x, y)\n",
    "except ValueError:\n",
    "    print('Invalid inputs')\n",
    "else:\n",
    "    print('Result is %.1f' % result)"
   ]
  },
  {
   "cell_type": "markdown",
   "metadata": {},
   "source": [
    "### ITEM 21: KNOW HOW CLOSURES INTERACT WITH VARIABLE SCOPE"
   ]
  },
  {
   "cell_type": "code",
   "execution_count": 5,
   "metadata": {},
   "outputs": [],
   "source": [
    "def sort_priority(values, group):\n",
    "    def helper(x):\n",
    "        print(x)\n",
    "        if x in group:\n",
    "            return (0, x)\n",
    "        return (1, x)\n",
    "    values.sort(key=helper)"
   ]
  },
  {
   "cell_type": "code",
   "execution_count": 4,
   "metadata": {},
   "outputs": [],
   "source": [
    "# numbers.sort??\n",
    "# if key is a function, it is applied to each item in the list and then sort the list"
   ]
  },
  {
   "cell_type": "code",
   "execution_count": 7,
   "metadata": {},
   "outputs": [
    {
     "name": "stdout",
     "output_type": "stream",
     "text": [
      "8\n",
      "3\n",
      "1\n",
      "2\n",
      "5\n",
      "4\n",
      "7\n",
      "6\n",
      "[2, 3, 5, 7, 1, 4, 6, 8]\n"
     ]
    }
   ],
   "source": [
    "numbers = [8, 3, 1, 2, 5, 4, 7, 6]\n",
    "group = {2, 3, 5, 7}\n",
    "sort_priority(numbers, group)\n",
    "print(numbers)"
   ]
  },
  {
   "cell_type": "markdown",
   "metadata": {},
   "source": [
    "it is important to understand the scop. the outside def is called enclosing function, the inside function is called closure function. the closure can access variables in the enclosing scope. when you reference a variable, it looks the inner function scope first, then the enclosing scope, and then the module where this function is define, and lastly the build-in function scope. if it is not found, it raises a nameerror.\n",
    "for variable assignment, if you assign a value to a variable in the inside function, it will not affect the variable with the same name in the outside function scope unless you use nonlocal variable. this is to prevent polluting the scope."
   ]
  },
  {
   "cell_type": "code",
   "execution_count": 11,
   "metadata": {},
   "outputs": [
    {
     "name": "stdout",
     "output_type": "stream",
     "text": [
      "2\n",
      "found in inside scope is True\n",
      "3\n",
      "found in inside scope is True\n",
      "5\n",
      "found in inside scope is True\n",
      "7\n",
      "found in inside scope is True\n",
      "1\n",
      "4\n",
      "6\n",
      "8\n",
      "found in outside scope is False\n"
     ]
    }
   ],
   "source": [
    "def sort_priority(values, group):\n",
    "    found = False\n",
    "    def helper(x):\n",
    "        print(x)\n",
    "        if x in group:\n",
    "            found = True\n",
    "            print(f'found in inside scope is {found}')\n",
    "            return (0, x)\n",
    "        return (1, x)\n",
    "    \n",
    "    values.sort(key=helper)\n",
    "    print(f'found in outside scope is {found}')\n",
    "    \n",
    "sort_priority(numbers, group)"
   ]
  },
  {
   "cell_type": "markdown",
   "metadata": {},
   "source": [
    "### this is easier to understand"
   ]
  },
  {
   "cell_type": "code",
   "execution_count": 27,
   "metadata": {},
   "outputs": [
    {
     "name": "stdout",
     "output_type": "stream",
     "text": [
      "<__main__.Sorter object at 0x7f439b2787b8>\n",
      "[2, 3, 5, 7, 1, 4, 6, 8]\n"
     ]
    }
   ],
   "source": [
    "class Sorter:\n",
    "    def __init__(self, group):\n",
    "        self.group = group\n",
    "        self.found = False\n",
    "\n",
    "    def __call__(self, x):\n",
    "        if x in self.group:\n",
    "            self.found = True\n",
    "            return (0, x)\n",
    "        return (1, x)\n",
    "\n",
    "sorter = Sorter(group)\n",
    "print(sorter)\n",
    "numbers.sort(key=sorter)\n",
    "assert sorter.found is True\n",
    "print(numbers)"
   ]
  },
  {
   "cell_type": "markdown",
   "metadata": {},
   "source": [
    "When you reference a variable in an expression, the Python interpreter traverses the scope to resolve the reference in this order:\n",
    "\n",
    "The current function’s scope.\n",
    "\n",
    "Any enclosing scopes (such as other containing functions).\n",
    "\n",
    "The scope of the module that contains the code (also called the global scope).\n",
    "\n",
    "The built-in scope (that contains functions like len and str)."
   ]
  },
  {
   "cell_type": "code",
   "execution_count": null,
   "metadata": {},
   "outputs": [],
   "source": []
  },
  {
   "cell_type": "code",
   "execution_count": 256,
   "metadata": {},
   "outputs": [
    {
     "data": {
      "text/plain": [
       "True"
      ]
     },
     "execution_count": 256,
     "metadata": {},
     "output_type": "execute_result"
    },
    {
     "data": {
      "text/plain": [
       "True"
      ]
     },
     "execution_count": 256,
     "metadata": {},
     "output_type": "execute_result"
    },
    {
     "data": {
      "text/plain": [
       "True"
      ]
     },
     "execution_count": 256,
     "metadata": {},
     "output_type": "execute_result"
    },
    {
     "data": {
      "text/plain": [
       "True"
      ]
     },
     "execution_count": 256,
     "metadata": {},
     "output_type": "execute_result"
    },
    {
     "data": {
      "text/plain": [
       "True"
      ]
     },
     "execution_count": 256,
     "metadata": {},
     "output_type": "execute_result"
    },
    {
     "data": {
      "text/plain": [
       "True"
      ]
     },
     "execution_count": 256,
     "metadata": {},
     "output_type": "execute_result"
    },
    {
     "data": {
      "text/plain": [
       "True"
      ]
     },
     "execution_count": 256,
     "metadata": {},
     "output_type": "execute_result"
    }
   ],
   "source": [
    "not []\n",
    "not None\n",
    "not 0\n",
    "not False\n",
    "not {}\n",
    "not ()\n",
    "not ''"
   ]
  },
  {
   "cell_type": "code",
   "execution_count": 33,
   "metadata": {},
   "outputs": [
    {
     "name": "stdout",
     "output_type": "stream",
     "text": [
      "alpha = 1.5\n",
      "beta = 9\n",
      "gamma = 4\n",
      "alpha = 1.5\n",
      "beta = 9\n",
      "gamma = 4\n",
      "sigma = 66\n"
     ]
    }
   ],
   "source": [
    "def print_parameters(**kwargs):\n",
    "    for key, value in kwargs.items():\n",
    "        print(f'{key} = {value}')\n",
    "\n",
    "print_parameters(alpha=1.5, beta=9, gamma=4)\n",
    "print_parameters(alpha=1.5, beta=9, gamma=4, sigma=66)"
   ]
  },
  {
   "cell_type": "code",
   "execution_count": null,
   "metadata": {},
   "outputs": [],
   "source": []
  },
  {
   "cell_type": "markdown",
   "metadata": {},
   "source": [
    "### item 26: define function decorators with functools.wraps"
   ]
  },
  {
   "cell_type": "markdown",
   "metadata": {},
   "source": [
    "functools wraps helper function copies all of the important metadata about inner function to the outer function. so you actually get the doc string and the correct function name etc."
   ]
  },
  {
   "cell_type": "code",
   "execution_count": 61,
   "metadata": {},
   "outputs": [
    {
     "name": "stdout",
     "output_type": "stream",
     "text": [
      "sumup((3, 4)) -> 7\n"
     ]
    },
    {
     "data": {
      "text/plain": [
       "7"
      ]
     },
     "execution_count": 61,
     "metadata": {},
     "output_type": "execute_result"
    },
    {
     "name": "stdout",
     "output_type": "stream",
     "text": [
      "sumup((3, 4)) -> 7\n"
     ]
    },
    {
     "data": {
      "text/plain": [
       "<function __main__.deco.<locals>.print_details>"
      ]
     },
     "execution_count": 61,
     "metadata": {},
     "output_type": "execute_result"
    },
    {
     "name": "stdout",
     "output_type": "stream",
     "text": [
      "Help on function sumup in module __main__:\n",
      "\n",
      "sumup(a, b)\n",
      "    calculate sum of two values\n",
      "\n"
     ]
    }
   ],
   "source": [
    "from functools import wraps\n",
    "def deco(func):\n",
    "    @wraps(func)\n",
    "    def print_details(*args):\n",
    "        result = func(*args)\n",
    "        print(f'{func.__name__}({args!r}) -> {result!r}')\n",
    "        return result\n",
    "    return print_details\n",
    "\n",
    "@deco\n",
    "def sumup(a, b):\n",
    "    \"\"\"calculate sum of two values\"\"\"\n",
    "    return a + b\n",
    "\n",
    "# sumpup just return 7 initially, with the decorator, it is modified at runtime, it prints out the input arguments as well\n",
    "sumup(3, 4)\n",
    "\n",
    "deco(sumup(3, 4))\n",
    "help(sumup)"
   ]
  },
  {
   "cell_type": "markdown",
   "metadata": {},
   "source": [
    "#### a more complicated example with a recursive function"
   ]
  },
  {
   "cell_type": "code",
   "execution_count": 66,
   "metadata": {},
   "outputs": [],
   "source": [
    "def trace(func):\n",
    "    def wrapper(*args, **kwargs):\n",
    "        result = func(*args, **kwargs)\n",
    "        print(f'{func.__name__}({args!r}, {kwargs!r}) '\n",
    "              f'-> {result!r}')\n",
    "        return result\n",
    "    return wrapper\n",
    "\n",
    "# @trace # equivalent to fibonacci = trace(fibonacci)\n",
    "def fibonacci(n):\n",
    "    \"\"\"Return the n-th Fibonacci number\"\"\"\n",
    "    print(f'calculate fibonacci number of n={n}')\n",
    "    if n in (0, 1):\n",
    "        return n\n",
    "    return (fibonacci(n - 2) + fibonacci(n - 1))"
   ]
  },
  {
   "cell_type": "code",
   "execution_count": 68,
   "metadata": {},
   "outputs": [
    {
     "name": "stdout",
     "output_type": "stream",
     "text": [
      "calculate fibonacci number of n=3\n",
      "calculate fibonacci number of n=1\n",
      "calculate fibonacci number of n=2\n",
      "calculate fibonacci number of n=0\n",
      "calculate fibonacci number of n=1\n"
     ]
    },
    {
     "data": {
      "text/plain": [
       "2"
      ]
     },
     "execution_count": 68,
     "metadata": {},
     "output_type": "execute_result"
    }
   ],
   "source": [
    "# when there is no decorator, it just find out fibonacci number of 4\n",
    "# decorator can modify a function at runtime\n",
    "# i still don't understand the execution sequence\n",
    "fibonacci(3)"
   ]
  },
  {
   "cell_type": "code",
   "execution_count": 64,
   "metadata": {},
   "outputs": [
    {
     "name": "stdout",
     "output_type": "stream",
     "text": [
      "calculate fibonacci number of n=4\n",
      "calculate fibonacci number of n=2\n",
      "calculate fibonacci number of n=0\n",
      "fibonacci((0,), {}) -> 0\n",
      "calculate fibonacci number of n=1\n",
      "fibonacci((1,), {}) -> 1\n",
      "fibonacci((2,), {}) -> 1\n",
      "calculate fibonacci number of n=3\n",
      "calculate fibonacci number of n=1\n",
      "fibonacci((1,), {}) -> 1\n",
      "calculate fibonacci number of n=2\n",
      "calculate fibonacci number of n=0\n",
      "fibonacci((0,), {}) -> 0\n",
      "calculate fibonacci number of n=1\n",
      "fibonacci((1,), {}) -> 1\n",
      "fibonacci((2,), {}) -> 1\n",
      "fibonacci((3,), {}) -> 2\n",
      "fibonacci((4,), {}) -> 3\n"
     ]
    },
    {
     "data": {
      "text/plain": [
       "3"
      ]
     },
     "execution_count": 64,
     "metadata": {},
     "output_type": "execute_result"
    }
   ],
   "source": [
    "fibonacci(4)"
   ]
  },
  {
   "cell_type": "code",
   "execution_count": 65,
   "metadata": {},
   "outputs": [
    {
     "name": "stdout",
     "output_type": "stream",
     "text": [
      "calculate fibonacci number of n=4\n",
      "calculate fibonacci number of n=2\n",
      "calculate fibonacci number of n=0\n",
      "fibonacci((0,), {}) -> 0\n",
      "calculate fibonacci number of n=1\n",
      "fibonacci((1,), {}) -> 1\n",
      "fibonacci((2,), {}) -> 1\n",
      "calculate fibonacci number of n=3\n",
      "calculate fibonacci number of n=1\n",
      "fibonacci((1,), {}) -> 1\n",
      "calculate fibonacci number of n=2\n",
      "calculate fibonacci number of n=0\n",
      "fibonacci((0,), {}) -> 0\n",
      "calculate fibonacci number of n=1\n",
      "fibonacci((1,), {}) -> 1\n",
      "fibonacci((2,), {}) -> 1\n",
      "fibonacci((3,), {}) -> 2\n",
      "fibonacci((4,), {}) -> 3\n"
     ]
    },
    {
     "data": {
      "text/plain": [
       "<function __main__.trace.<locals>.wrapper(*args, **kwargs)>"
      ]
     },
     "execution_count": 65,
     "metadata": {},
     "output_type": "execute_result"
    }
   ],
   "source": [
    "trace(fibonacci(4))"
   ]
  },
  {
   "cell_type": "markdown",
   "metadata": {},
   "source": [
    "### position and keyword arguments, position-only and keyword-only argument"
   ]
  },
  {
   "cell_type": "code",
   "execution_count": 33,
   "metadata": {},
   "outputs": [
    {
     "name": "stdout",
     "output_type": "stream",
     "text": [
      "[1, 2, 4]\n",
      "1 2 4\n"
     ]
    }
   ],
   "source": [
    "nums = [1, 2, 4]\n",
    "print(nums)\n",
    "print(*nums) #unpack a sequence"
   ]
  },
  {
   "cell_type": "code",
   "execution_count": null,
   "metadata": {},
   "outputs": [],
   "source": [
    "# *args, unknown number of position argumeents\n",
    "# **kargs, unknown number of keyword arguments\n",
    "def some_func(*args, **kargs):\n",
    "    print(args[0]+args[1], args, kargs)\n",
    "    \n",
    "some_func(1, 2, 'arg1', kargs1='arg2')"
   ]
  },
  {
   "cell_type": "code",
   "execution_count": 26,
   "metadata": {
    "scrolled": true
   },
   "outputs": [
    {
     "name": "stdout",
     "output_type": "stream",
     "text": [
      "(1, 2, 4) {'John': 'forward', 'Mike': 'defense'}\n"
     ]
    },
    {
     "data": {
      "text/plain": [
       "(1, 2, 4)"
      ]
     },
     "execution_count": 26,
     "metadata": {},
     "output_type": "execute_result"
    },
    {
     "data": {
      "text/plain": [
       "{'John': 'forward', 'Mike': 'defense'}"
      ]
     },
     "execution_count": 26,
     "metadata": {},
     "output_type": "execute_result"
    },
    {
     "data": {
      "text/plain": [
       "2"
      ]
     },
     "execution_count": 26,
     "metadata": {},
     "output_type": "execute_result"
    }
   ],
   "source": [
    "def some_func(*args, **kargs):\n",
    "    print(args, kargs)\n",
    "    return args, kargs\n",
    "    \n",
    "nums = [1, 2, 4]\n",
    "players = {'John':'forward', 'Mike': 'defense'}\n",
    "# some_func(nums, players) # this is not correct\n",
    "# some_func(nums, **players) # this is not correct\n",
    "# * operator instructs python to pass values from a sequence as positional arguments to the function\n",
    "# ** operator instructs python to pass values in the dictionary as corresponding keyword arguments.\n",
    "a, b = some_func(*nums, **players) # this unpacks both the list and dictionary \n",
    "a\n",
    "b\n",
    "a[1]"
   ]
  },
  {
   "cell_type": "code",
   "execution_count": 60,
   "metadata": {},
   "outputs": [
    {
     "name": "stdout",
     "output_type": "stream",
     "text": [
      "113\n",
      "106\n",
      "16\n"
     ]
    }
   ],
   "source": [
    "def some_func(a, b, k1=10, k2=100):\n",
    "    print(a+b+k1+k2)\n",
    "    \n",
    "some_func(1, 2)\n",
    "some_func(1, 2, 3)\n",
    "some_func(1, 2, k2=3)"
   ]
  },
  {
   "cell_type": "code",
   "execution_count": 4,
   "metadata": {},
   "outputs": [
    {
     "name": "stdout",
     "output_type": "stream",
     "text": [
      "Python 3.8.1\r\n"
     ]
    }
   ],
   "source": [
    "!python --version"
   ]
  },
  {
   "cell_type": "code",
   "execution_count": 10,
   "metadata": {},
   "outputs": [
    {
     "data": {
      "text/plain": [
       "5"
      ]
     },
     "execution_count": 10,
     "metadata": {},
     "output_type": "execute_result"
    },
    {
     "data": {
      "text/plain": [
       "5"
      ]
     },
     "execution_count": 10,
     "metadata": {},
     "output_type": "execute_result"
    },
    {
     "data": {
      "text/plain": [
       "5"
      ]
     },
     "execution_count": 10,
     "metadata": {},
     "output_type": "execute_result"
    }
   ],
   "source": [
    "# you can provide positional using keyword, you can also provide keyword argument by position\n",
    "def some_func(a, b=3):\n",
    "    return a + b\n",
    "some_func(2, 3)\n",
    "some_func(a=2)\n",
    "some_func(a=2, b=3)\n",
    "# some_func(a=2, 3) this does not work, positional argument has to be before keyword argument"
   ]
  },
  {
   "cell_type": "code",
   "execution_count": 27,
   "metadata": {},
   "outputs": [
    {
     "name": "stdout",
     "output_type": "stream",
     "text": [
      "113\n",
      "16\n",
      "16\n"
     ]
    }
   ],
   "source": [
    "# arguments before / are position-only\n",
    "# arguments after * are keyword-only\n",
    "# in between can be either\n",
    "def some_func(a, b, /, c, *, k1=10, k2=100):\n",
    "    print(a+b+k1+k2)\n",
    "    \n",
    "\n",
    "some_func(1, 2, 3)\n",
    "some_func(1, 2, c=2, k2=3)\n",
    "some_func(1, 2, 2, k2=3)"
   ]
  },
  {
   "cell_type": "markdown",
   "metadata": {},
   "source": [
    "### list, set, dictionary comprehension and generator expression"
   ]
  },
  {
   "cell_type": "code",
   "execution_count": 1,
   "metadata": {},
   "outputs": [],
   "source": [
    "stock = {\n",
    "    'nails': 125,\n",
    "    'screws': 35,\n",
    "    'wingnuts': 8,\n",
    "    'washers': 24,\n",
    "}\n",
    "\n",
    "order = ['screws', 'wingnuts', 'clips']\n",
    "\n",
    "def get_batches(count, size):\n",
    "    return count // size"
   ]
  },
  {
   "cell_type": "code",
   "execution_count": 7,
   "metadata": {},
   "outputs": [
    {
     "data": {
      "text/plain": [
       "[9, 36]"
      ]
     },
     "execution_count": 7,
     "metadata": {},
     "output_type": "execute_result"
    }
   ],
   "source": [
    "# list comprehesion\n",
    "nums = [1, 3, 4, 5, 6]\n",
    "squares = [x**2 for x in nums if x % 3 == 0]\n",
    "squares"
   ]
  },
  {
   "cell_type": "code",
   "execution_count": 14,
   "metadata": {},
   "outputs": [
    {
     "data": {
      "text/plain": [
       "[9, 36]"
      ]
     },
     "execution_count": 14,
     "metadata": {},
     "output_type": "execute_result"
    }
   ],
   "source": [
    "# this can also be achieved by using map and filter, but visually noisy\n",
    "list(map(lambda x: x**2, filter(lambda x: x % 3 == 0, nums)))"
   ]
  },
  {
   "cell_type": "code",
   "execution_count": 6,
   "metadata": {},
   "outputs": [
    {
     "data": {
      "text/plain": [
       "{64, 216}"
      ]
     },
     "execution_count": 6,
     "metadata": {},
     "output_type": "execute_result"
    }
   ],
   "source": [
    "# set comprehension\n",
    "{x**3 for x in nums if x % 2 == 0}"
   ]
  },
  {
   "cell_type": "code",
   "execution_count": 36,
   "metadata": {},
   "outputs": [],
   "source": [
    "stock.get??"
   ]
  },
  {
   "cell_type": "code",
   "execution_count": 4,
   "metadata": {},
   "outputs": [
    {
     "data": {
      "text/plain": [
       "dict_items([('nails', 125), ('screws', 35), ('wingnuts', 8), ('washers', 24)])"
      ]
     },
     "execution_count": 4,
     "metadata": {},
     "output_type": "execute_result"
    }
   ],
   "source": [
    "stock.items()"
   ]
  },
  {
   "cell_type": "code",
   "execution_count": 3,
   "metadata": {},
   "outputs": [
    {
     "data": {
      "text/plain": [
       "{'screws': 35, 'wingnuts': 8, 'clips': 0}"
      ]
     },
     "execution_count": 3,
     "metadata": {},
     "output_type": "execute_result"
    }
   ],
   "source": [
    "# dictionary comprehesion\n",
    "# get value by key, default to 0\n",
    "{name: stock.get(name, 0) for name in order}"
   ]
  },
  {
   "cell_type": "code",
   "execution_count": 17,
   "metadata": {},
   "outputs": [],
   "source": [
    "get_batches??"
   ]
  },
  {
   "cell_type": "code",
   "execution_count": 16,
   "metadata": {},
   "outputs": [
    {
     "data": {
      "text/plain": [
       "{'screws': 4, 'wingnuts': 1}"
      ]
     },
     "execution_count": 16,
     "metadata": {},
     "output_type": "execute_result"
    }
   ],
   "source": [
    "# walrus assignment :=\n",
    "found = {name: batches for name in order\n",
    "         if (batches := get_batches(stock.get(name, 0), 8))}\n",
    "\n",
    "found"
   ]
  },
  {
   "cell_type": "code",
   "execution_count": 45,
   "metadata": {},
   "outputs": [
    {
     "data": {
      "text/plain": [
       "{'screws': 4, 'wingnuts': 1, 'clips': 0}"
      ]
     },
     "execution_count": 45,
     "metadata": {},
     "output_type": "execute_result"
    }
   ],
   "source": [
    "# why it does not output clips: 0, because if 0 evaluated to False\n",
    "{name: get_batches(stock.get(name, 0), 8) for name in order}"
   ]
  },
  {
   "cell_type": "code",
   "execution_count": 87,
   "metadata": {},
   "outputs": [
    {
     "data": {
      "text/plain": [
       "[[1, 2, 3], [4, 5, 6], [7, 8, 9]]"
      ]
     },
     "execution_count": 87,
     "metadata": {},
     "output_type": "execute_result"
    },
    {
     "data": {
      "text/plain": [
       "[1, 4, 9, 16, 25, 36, 49, 64, 81]"
      ]
     },
     "execution_count": 87,
     "metadata": {},
     "output_type": "execute_result"
    },
    {
     "data": {
      "text/plain": [
       "[[1, 4, 9], [16, 25, 36], [49, 64, 81]]"
      ]
     },
     "execution_count": 87,
     "metadata": {},
     "output_type": "execute_result"
    }
   ],
   "source": [
    "nums = [[1, 2, 3], [4, 5, 6], [7, 8, 9]]\n",
    "nums\n",
    "\n",
    "# subexpression runs from left to right\n",
    "[x**2 for row in nums for x in row]\n",
    "[[x**2 for x in row] for row in nums]"
   ]
  },
  {
   "cell_type": "code",
   "execution_count": 119,
   "metadata": {},
   "outputs": [
    {
     "data": {
      "text/plain": [
       "<generator object <genexpr> at 0x109117f90>"
      ]
     },
     "execution_count": 119,
     "metadata": {},
     "output_type": "execute_result"
    },
    {
     "name": "stdout",
     "output_type": "stream",
     "text": [
      "----\n"
     ]
    },
    {
     "data": {
      "text/plain": [
       "<generator object yf at 0x109117270>"
      ]
     },
     "execution_count": 119,
     "metadata": {},
     "output_type": "execute_result"
    }
   ],
   "source": [
    "nums = [1, 4, 7]\n",
    "# generator expression is same as list comprehension, but with () instead of [], it is evaluated to an iterator\n",
    "it = (x for x in nums)\n",
    "it\n",
    "# list(it)\n",
    "# next(it)\n",
    "\n",
    "# generators can be composed together\n",
    "# it = (x**2 for x in it)\n",
    "# list(it)\n",
    "\n",
    "# this composition can also be achieved by using yield from\n",
    "nums = [1, 4, 7]\n",
    "# it = (x for x in nums)\n",
    "def it():\n",
    "    for i in range(1_000_000):\n",
    "        yield i**2\n",
    "        \n",
    "def square(x):\n",
    "    for i in x:\n",
    "        yield i**2\n",
    "    \n",
    "def yf():    \n",
    "    yield from it()\n",
    "    \n",
    "print('----')\n",
    "# list(square(it))\n",
    "\n",
    "yf()"
   ]
  },
  {
   "cell_type": "code",
   "execution_count": null,
   "metadata": {},
   "outputs": [],
   "source": []
  },
  {
   "cell_type": "code",
   "execution_count": null,
   "metadata": {},
   "outputs": [],
   "source": []
  },
  {
   "cell_type": "markdown",
   "metadata": {},
   "source": [
    "### Item 30: consider generators instead of returning list"
   ]
  },
  {
   "cell_type": "code",
   "execution_count": 35,
   "metadata": {},
   "outputs": [],
   "source": [
    "def index_words_iter(text):\n",
    "    if text:\n",
    "        yield 0\n",
    "    for index, letter in enumerate(text):\n",
    "        if letter == ' ':\n",
    "             yield index + 1"
   ]
  },
  {
   "cell_type": "code",
   "execution_count": 38,
   "metadata": {},
   "outputs": [
    {
     "name": "stdout",
     "output_type": "stream",
     "text": [
      "0\n",
      "5\n"
     ]
    },
    {
     "data": {
      "text/plain": [
       "[11, 15, 21, 27]"
      ]
     },
     "execution_count": 38,
     "metadata": {},
     "output_type": "execute_result"
    }
   ],
   "source": [
    "# yield produces generator, it returns a item at a time when you call next build-in method\n",
    "address = 'Four score and seven years ago...'\n",
    "it = index_words_iter(address)\n",
    "print(next(it))\n",
    "print(next(it))\n",
    "\n",
    "list(it)"
   ]
  },
  {
   "cell_type": "code",
   "execution_count": 67,
   "metadata": {},
   "outputs": [
    {
     "data": {
      "text/plain": [
       "[(0, 'F'), (1, 'o')]"
      ]
     },
     "execution_count": 67,
     "metadata": {},
     "output_type": "execute_result"
    }
   ],
   "source": [
    "list(enumerate(address))[:2]"
   ]
  },
  {
   "cell_type": "code",
   "execution_count": 44,
   "metadata": {},
   "outputs": [],
   "source": [
    "# generator is stateful and can not be resued. It is exhausted after you read each element once,\n",
    "# does not consume huge amount of memories, one a line in the memory\n",
    "# good for data streaming\n",
    "# generator can be composed together\n",
    "\n",
    "nums = list(range(100))\n",
    "it = (len(x) for x in open('wages.txt'))\n",
    "# next(it)\n",
    "# next(it)\n",
    "# next(it)\n",
    "\n",
    "double = ((x, x*2) for x in it)\n",
    "# next(double)\n",
    "# next(double)\n",
    "# next(double)"
   ]
  },
  {
   "cell_type": "code",
   "execution_count": 46,
   "metadata": {},
   "outputs": [],
   "source": [
    "def yf(it):\n",
    "    yield from it\n",
    "    \n",
    "# list(yf(it))"
   ]
  },
  {
   "cell_type": "code",
   "execution_count": 47,
   "metadata": {},
   "outputs": [],
   "source": [
    " \n",
    "# help(itertools)"
   ]
  },
  {
   "cell_type": "markdown",
   "metadata": {},
   "source": [
    "### Item 31: be defensive when iterating over arguments"
   ]
  },
  {
   "cell_type": "markdown",
   "metadata": {},
   "source": [
    "difference between iterator and container, iterator and generator raise stopiteration exception when they are exhausted, you can not repeated access the content of a iterator or generator. On the other hand, list, sequence or container type can be accessed multiple times."
   ]
  },
  {
   "cell_type": "code",
   "execution_count": 53,
   "metadata": {},
   "outputs": [
    {
     "data": {
      "text/plain": [
       "2"
      ]
     },
     "execution_count": 53,
     "metadata": {},
     "output_type": "execute_result"
    },
    {
     "data": {
      "text/plain": [
       "2"
      ]
     },
     "execution_count": 53,
     "metadata": {},
     "output_type": "execute_result"
    },
    {
     "data": {
      "text/plain": [
       "[1, 2, 5]"
      ]
     },
     "execution_count": 53,
     "metadata": {},
     "output_type": "execute_result"
    },
    {
     "ename": "StopIteration",
     "evalue": "",
     "output_type": "error",
     "traceback": [
      "\u001b[0;31m---------------------------------------------------------------------------\u001b[0m",
      "\u001b[0;31mStopIteration\u001b[0m                             Traceback (most recent call last)",
      "\u001b[0;32m<ipython-input-53-df865f41142c>\u001b[0m in \u001b[0;36m<module>\u001b[0;34m\u001b[0m\n\u001b[1;32m      4\u001b[0m \u001b[0mit\u001b[0m \u001b[0;34m=\u001b[0m \u001b[0miter\u001b[0m\u001b[0;34m(\u001b[0m\u001b[0mnums\u001b[0m\u001b[0;34m)\u001b[0m\u001b[0;34m\u001b[0m\u001b[0;34m\u001b[0m\u001b[0m\n\u001b[1;32m      5\u001b[0m \u001b[0mlist\u001b[0m\u001b[0;34m(\u001b[0m\u001b[0mit\u001b[0m\u001b[0;34m)\u001b[0m\u001b[0;34m\u001b[0m\u001b[0;34m\u001b[0m\u001b[0m\n\u001b[0;32m----> 6\u001b[0;31m \u001b[0mnext\u001b[0m\u001b[0;34m(\u001b[0m\u001b[0mit\u001b[0m\u001b[0;34m)\u001b[0m\u001b[0;34m\u001b[0m\u001b[0;34m\u001b[0m\u001b[0m\n\u001b[0m",
      "\u001b[0;31mStopIteration\u001b[0m: "
     ]
    }
   ],
   "source": [
    "nums = [1, 2, 5]\n",
    "nums[1]\n",
    "nums[1]\n",
    "it = iter(nums)\n",
    "list(it)\n",
    "next(it)"
   ]
  },
  {
   "cell_type": "code",
   "execution_count": 55,
   "metadata": {},
   "outputs": [
    {
     "name": "stdout",
     "output_type": "stream",
     "text": [
      "Object `get_iter` not found.\n"
     ]
    }
   ],
   "source": [
    "# iter??"
   ]
  },
  {
   "cell_type": "code",
   "execution_count": 68,
   "metadata": {},
   "outputs": [
    {
     "data": {
      "text/plain": [
       "<generator object read_visit at 0x1090a2820>"
      ]
     },
     "execution_count": 68,
     "metadata": {},
     "output_type": "execute_result"
    },
    {
     "data": {
      "text/plain": [
       "[12, 22, 34, 6612, 22, 34, 66]"
      ]
     },
     "execution_count": 68,
     "metadata": {},
     "output_type": "execute_result"
    }
   ],
   "source": [
    "# implement a generator\n",
    "def read_visit(data_path):\n",
    "    with open(data_path) as f:\n",
    "        for line in f:\n",
    "            yield int(line)\n",
    "            \n",
    "f = '/Users/stuartzong/data_science/visits.txt'\n",
    "gr = read_visit(f)\n",
    "gr\n",
    "list(gr)"
   ]
  },
  {
   "cell_type": "code",
   "execution_count": 73,
   "metadata": {},
   "outputs": [],
   "source": [
    "# implement a container\n",
    "class ReadVisits:\n",
    "    def __init__(self, data_path):\n",
    "        self.data_path = data_path\n",
    "        \n",
    "    def __iter__(self):\n",
    "        with open(self.data_path) as f:\n",
    "            for line in f:\n",
    "                yield int(line)"
   ]
  },
  {
   "cell_type": "code",
   "execution_count": 79,
   "metadata": {},
   "outputs": [
    {
     "data": {
      "text/plain": [
       "__main__.ReadVisits"
      ]
     },
     "execution_count": 79,
     "metadata": {},
     "output_type": "execute_result"
    },
    {
     "data": {
      "text/plain": [
       "False"
      ]
     },
     "execution_count": 79,
     "metadata": {},
     "output_type": "execute_result"
    },
    {
     "data": {
      "text/plain": [
       "True"
      ]
     },
     "execution_count": 79,
     "metadata": {},
     "output_type": "execute_result"
    },
    {
     "data": {
      "text/plain": [
       "<__main__.ReadVisits at 0x1090c2a30>"
      ]
     },
     "execution_count": 79,
     "metadata": {},
     "output_type": "execute_result"
    },
    {
     "data": {
      "text/plain": [
       "[12, 22, 34, 6612, 22, 34, 66]"
      ]
     },
     "execution_count": 79,
     "metadata": {},
     "output_type": "execute_result"
    },
    {
     "data": {
      "text/plain": [
       "[12, 22, 34, 6612, 22, 34, 66]"
      ]
     },
     "execution_count": 79,
     "metadata": {},
     "output_type": "execute_result"
    }
   ],
   "source": [
    "from collections.abc import Iterator\n",
    "visits = ReadVisits(f)\n",
    "type(visits)\n",
    "isinstance(visits, Iterator)\n",
    "isinstance(iter(visits), Iterator)\n",
    "visits\n",
    "list(visits)\n",
    "list(visits)"
   ]
  },
  {
   "cell_type": "markdown",
   "metadata": {},
   "source": [
    "### class"
   ]
  },
  {
   "cell_type": "code",
   "execution_count": 16,
   "metadata": {},
   "outputs": [],
   "source": [
    "class SimpleGradebook:\n",
    "    def __init__(self):\n",
    "        self._grades = {}\n",
    "\n",
    "    def add_student(self, name):\n",
    "      self._grades[name] = []\n",
    "\n",
    "    def report_grade(self, name, score):\n",
    "      self._grades[name].append(score)\n",
    "\n",
    "    def average_grade(self, name):\n",
    "      grades = self._grades[name]\n",
    "      return sum(grades) / len(grades)"
   ]
  },
  {
   "cell_type": "code",
   "execution_count": null,
   "metadata": {},
   "outputs": [],
   "source": []
  },
  {
   "cell_type": "code",
   "execution_count": 18,
   "metadata": {},
   "outputs": [
    {
     "name": "stdout",
     "output_type": "stream",
     "text": [
      "90.0\n"
     ]
    }
   ],
   "source": [
    "book = SimpleGradebook()\n",
    "book.add_student('Isaac Newton')\n",
    "book.report_grade('Isaac Newton', 90)\n",
    "book.report_grade('Isaac Newton', 95)\n",
    "book.report_grade('Isaac Newton', 85)\n",
    "\n",
    "print(book.average_grade('Isaac Newton'))"
   ]
  },
  {
   "cell_type": "code",
   "execution_count": 20,
   "metadata": {},
   "outputs": [
    {
     "data": {
      "text/plain": [
       "{'_grades': {'Isaac Newton': [90, 95, 85]}}"
      ]
     },
     "execution_count": 20,
     "metadata": {},
     "output_type": "execute_result"
    },
    {
     "ename": "AttributeError",
     "evalue": "'SimpleGradebook' object has no attribute '__getattr__'",
     "output_type": "error",
     "traceback": [
      "\u001b[0;31m---------------------------------------------------------------------------\u001b[0m",
      "\u001b[0;31mAttributeError\u001b[0m                            Traceback (most recent call last)",
      "\u001b[0;32m<ipython-input-20-2d95bbc71c8a>\u001b[0m in \u001b[0;36m<module>\u001b[0;34m\u001b[0m\n\u001b[1;32m      1\u001b[0m \u001b[0mbook\u001b[0m\u001b[0;34m.\u001b[0m\u001b[0m__dict__\u001b[0m\u001b[0;34m\u001b[0m\u001b[0;34m\u001b[0m\u001b[0m\n\u001b[0;32m----> 2\u001b[0;31m \u001b[0mbook\u001b[0m\u001b[0;34m.\u001b[0m\u001b[0m__getattr__\u001b[0m\u001b[0;34m\u001b[0m\u001b[0;34m\u001b[0m\u001b[0m\n\u001b[0m",
      "\u001b[0;31mAttributeError\u001b[0m: 'SimpleGradebook' object has no attribute '__getattr__'"
     ]
    }
   ],
   "source": [
    "book.__dict__\n",
    "book.__getattr__"
   ]
  },
  {
   "cell_type": "markdown",
   "metadata": {},
   "source": [
    "### item 39: use @classmethod polymorphism to construct object generically"
   ]
  },
  {
   "cell_type": "markdown",
   "metadata": {},
   "source": [
    "In python, both object and class support polymorphism. polymorphism allows multiple class in a hiearchy to implement their own unique version of a method. so many of the these class can have the same interface or abstraction base class while providing different functionality."
   ]
  },
  {
   "cell_type": "markdown",
   "metadata": {},
   "source": [
    "still not completely understand how this whole thing works"
   ]
  },
  {
   "cell_type": "code",
   "execution_count": 120,
   "metadata": {},
   "outputs": [],
   "source": [
    "# this class provide standard interface, child class have to implemet these methods\n",
    "class GenericInputData:\n",
    "    def read(self):\n",
    "        raise NotImplementedError\n",
    "        \n",
    "    # different subclasses implement this method differently\n",
    "    @classmethod\n",
    "    def generate_inputs(cls, config):\n",
    "        raise NotImplementedError\n"
   ]
  },
  {
   "cell_type": "code",
   "execution_count": 131,
   "metadata": {},
   "outputs": [],
   "source": [
    "class PathInputData(GenericInputData):\n",
    "    def __init__(self, path):\n",
    "        super().__init__()\n",
    "        self.path = path\n",
    "        \n",
    "    def read(self):\n",
    "        with open(self.path) as f:\n",
    "            return f.read()\n",
    "        \n",
    "    @classmethod\n",
    "    def generate_inputs(cls, config):\n",
    "        data_dir = config['data_dir']\n",
    "        for name in os.listdir(data_dir):\n",
    "            yield cls(os.path.join(data_dir, name))"
   ]
  },
  {
   "cell_type": "code",
   "execution_count": 137,
   "metadata": {},
   "outputs": [],
   "source": [
    "class GenericWorker:\n",
    "    def __init__(self, input_data):\n",
    "        self.input_data = input_data\n",
    "        self.result = None\n",
    "        \n",
    "    def map(self):\n",
    "        raise NotImplementedError\n",
    "        \n",
    "    def reduce(self, other):\n",
    "        raise NotImplementedError\n",
    "        \n",
    "    @classmethod\n",
    "    def create_workers(cls, input_class, cofig):\n",
    "        workers = []\n",
    "        for input_data in input_class.generate_inputs(config):\n",
    "            workers.append(cls(input_data))\n",
    "        return workers        "
   ]
  },
  {
   "cell_type": "code",
   "execution_count": 138,
   "metadata": {},
   "outputs": [],
   "source": [
    "class LineCountWorker(GenericWorker):\n",
    "    def map(self):\n",
    "        data = self.input_data.read()\n",
    "        self.result = data.count('\\n')\n",
    "        \n",
    "    def reduce(self, other):\n",
    "        self.result += other.result"
   ]
  },
  {
   "cell_type": "code",
   "execution_count": 141,
   "metadata": {},
   "outputs": [],
   "source": [
    "from threading import Thread\n",
    "\n",
    "def execute(workers):\n",
    "    threads = [Thread(target=w.map) for w in workers]\n",
    "    for thread in threads: thread.start()\n",
    "    for thread in threads: thread.join()\n",
    "    \n",
    "    first, *rest = workers\n",
    "    for worker in rest:\n",
    "        first.reduce(worker)\n",
    "    return first.result\n",
    "        \n",
    "        "
   ]
  },
  {
   "cell_type": "code",
   "execution_count": 139,
   "metadata": {},
   "outputs": [],
   "source": [
    "def mapreduce(worker_class, input_class, config):\n",
    "    workers = worker_class.create_workers(input_class, config)\n",
    "    return execute(workers)\n"
   ]
  },
  {
   "cell_type": "code",
   "execution_count": 146,
   "metadata": {},
   "outputs": [
    {
     "data": {
      "text/plain": [
       "'/Users/stuartzong/data_science/python_general'"
      ]
     },
     "execution_count": 146,
     "metadata": {},
     "output_type": "execute_result"
    }
   ],
   "source": [
    "pwd"
   ]
  },
  {
   "cell_type": "code",
   "execution_count": 147,
   "metadata": {},
   "outputs": [
    {
     "name": "stdout",
     "output_type": "stream",
     "text": [
      "There are 9 lines!\n"
     ]
    }
   ],
   "source": [
    "\n",
    "tmpdir = 'test_inputs'\n",
    "config = {'data_dir': tmpdir}\n",
    "result = mapreduce(LineCountWorker, PathInputData, config)\n",
    "print(f'There are {result} lines!')"
   ]
  },
  {
   "cell_type": "code",
   "execution_count": null,
   "metadata": {},
   "outputs": [],
   "source": []
  },
  {
   "cell_type": "markdown",
   "metadata": {},
   "source": [
    "### metaclass and attribute"
   ]
  },
  {
   "cell_type": "code",
   "execution_count": 25,
   "metadata": {},
   "outputs": [
    {
     "data": {
      "text/plain": [
       "{'ohms': 10000.0, 'voltage': 0, 'current': 0}"
      ]
     },
     "execution_count": 25,
     "metadata": {},
     "output_type": "execute_result"
    },
    {
     "data": {
      "text/plain": [
       "10000.0"
      ]
     },
     "execution_count": 25,
     "metadata": {},
     "output_type": "execute_result"
    }
   ],
   "source": [
    "# no need to implement getter and setter\n",
    "class Resistor:\n",
    "    def __init__(self, ohms):\n",
    "        self.ohms = ohms\n",
    "        self.voltage = 0\n",
    "        self.current = 0\n",
    "\n",
    "r1 = Resistor(50e3)\n",
    "r1.ohms = 10e3\n",
    "r1.__dict__\n",
    "r1.ohms"
   ]
  },
  {
   "cell_type": "code",
   "execution_count": 26,
   "metadata": {},
   "outputs": [],
   "source": [
    "# subclass Resistor, @property to implement getter and setter\n",
    "class VoltageResistance(Resistor):\n",
    "    def __init__(self, ohms):\n",
    "        super().__init__(ohms)\n",
    "        self._voltage = 0\n",
    "\n",
    "    @property\n",
    "    def voltage(self):\n",
    "        return self._voltage\n",
    "\n",
    "    @voltage.setter\n",
    "    def voltage(self, voltage):\n",
    "        self._voltage = voltage\n",
    "        self.current = self._voltage / self.ohms"
   ]
  },
  {
   "cell_type": "code",
   "execution_count": 27,
   "metadata": {},
   "outputs": [
    {
     "name": "stdout",
     "output_type": "stream",
     "text": [
      "Before: 0.00 amps\n",
      "After:  0.01 amps\n"
     ]
    }
   ],
   "source": [
    "r2 = VoltageResistance(1e3)\n",
    "print(f'Before: {r2.current:.2f} amps')\n",
    "r2.voltage = 10\n",
    "print(f'After:  {r2.current:.2f} amps')"
   ]
  },
  {
   "cell_type": "code",
   "execution_count": 28,
   "metadata": {},
   "outputs": [],
   "source": [
    "class BoundedResistance(Resistor):\n",
    "    def __init__(self, ohms):\n",
    "        super().__init__(ohms)\n",
    "\n",
    "    @property\n",
    "    def ohms(self):\n",
    "        return self._ohms\n",
    "\n",
    "    @ohms.setter\n",
    "    def ohms(self, ohms):\n",
    "        if ohms <= 0:\n",
    "            raise ValueError(f'ohms must be > 0; got {ohms}')\n",
    "        self._ohms = ohms"
   ]
  },
  {
   "cell_type": "code",
   "execution_count": 34,
   "metadata": {},
   "outputs": [
    {
     "data": {
      "text/plain": [
       "1000.0"
      ]
     },
     "execution_count": 34,
     "metadata": {},
     "output_type": "execute_result"
    },
    {
     "ename": "ValueError",
     "evalue": "ohms must be > 0; got 0",
     "output_type": "error",
     "traceback": [
      "\u001b[0;31m---------------------------------------------------------------------------\u001b[0m",
      "\u001b[0;31mValueError\u001b[0m                                Traceback (most recent call last)",
      "\u001b[0;32m<ipython-input-34-0d11982460ec>\u001b[0m in \u001b[0;36m<module>\u001b[0;34m\u001b[0m\n\u001b[1;32m      1\u001b[0m \u001b[0mr3\u001b[0m \u001b[0;34m=\u001b[0m \u001b[0mBoundedResistance\u001b[0m\u001b[0;34m(\u001b[0m\u001b[0;36m1e3\u001b[0m\u001b[0;34m)\u001b[0m\u001b[0;34m\u001b[0m\u001b[0;34m\u001b[0m\u001b[0m\n\u001b[1;32m      2\u001b[0m \u001b[0mr3\u001b[0m\u001b[0;34m.\u001b[0m\u001b[0mohms\u001b[0m\u001b[0;34m\u001b[0m\u001b[0;34m\u001b[0m\u001b[0m\n\u001b[0;32m----> 3\u001b[0;31m \u001b[0mr3\u001b[0m\u001b[0;34m.\u001b[0m\u001b[0mohms\u001b[0m \u001b[0;34m=\u001b[0m \u001b[0;36m0\u001b[0m\u001b[0;34m\u001b[0m\u001b[0;34m\u001b[0m\u001b[0m\n\u001b[0m",
      "\u001b[0;32m<ipython-input-28-71975c648873>\u001b[0m in \u001b[0;36mohms\u001b[0;34m(self, ohms)\u001b[0m\n\u001b[1;32m     10\u001b[0m     \u001b[0;32mdef\u001b[0m \u001b[0mohms\u001b[0m\u001b[0;34m(\u001b[0m\u001b[0mself\u001b[0m\u001b[0;34m,\u001b[0m \u001b[0mohms\u001b[0m\u001b[0;34m)\u001b[0m\u001b[0;34m:\u001b[0m\u001b[0;34m\u001b[0m\u001b[0;34m\u001b[0m\u001b[0m\n\u001b[1;32m     11\u001b[0m         \u001b[0;32mif\u001b[0m \u001b[0mohms\u001b[0m \u001b[0;34m<=\u001b[0m \u001b[0;36m0\u001b[0m\u001b[0;34m:\u001b[0m\u001b[0;34m\u001b[0m\u001b[0;34m\u001b[0m\u001b[0m\n\u001b[0;32m---> 12\u001b[0;31m             \u001b[0;32mraise\u001b[0m \u001b[0mValueError\u001b[0m\u001b[0;34m(\u001b[0m\u001b[0;34mf'ohms must be > 0; got {ohms}'\u001b[0m\u001b[0;34m)\u001b[0m\u001b[0;34m\u001b[0m\u001b[0;34m\u001b[0m\u001b[0m\n\u001b[0m\u001b[1;32m     13\u001b[0m         \u001b[0mself\u001b[0m\u001b[0;34m.\u001b[0m\u001b[0m_ohms\u001b[0m \u001b[0;34m=\u001b[0m \u001b[0mohms\u001b[0m\u001b[0;34m\u001b[0m\u001b[0;34m\u001b[0m\u001b[0m\n",
      "\u001b[0;31mValueError\u001b[0m: ohms must be > 0; got 0"
     ]
    }
   ],
   "source": [
    "r3 = BoundedResistance(1e3)\n",
    "r3.ohms\n",
    "r3.ohms = 0"
   ]
  },
  {
   "cell_type": "code",
   "execution_count": 33,
   "metadata": {},
   "outputs": [
    {
     "ename": "ValueError",
     "evalue": "ohms must be > 0; got -5",
     "output_type": "error",
     "traceback": [
      "\u001b[0;31m---------------------------------------------------------------------------\u001b[0m",
      "\u001b[0;31mValueError\u001b[0m                                Traceback (most recent call last)",
      "\u001b[0;32m<ipython-input-33-9fc5cf3426e1>\u001b[0m in \u001b[0;36m<module>\u001b[0;34m\u001b[0m\n\u001b[0;32m----> 1\u001b[0;31m \u001b[0mBoundedResistance\u001b[0m\u001b[0;34m(\u001b[0m\u001b[0;34m-\u001b[0m\u001b[0;36m5\u001b[0m\u001b[0;34m)\u001b[0m\u001b[0;34m\u001b[0m\u001b[0;34m\u001b[0m\u001b[0m\n\u001b[0m",
      "\u001b[0;32m<ipython-input-28-71975c648873>\u001b[0m in \u001b[0;36m__init__\u001b[0;34m(self, ohms)\u001b[0m\n\u001b[1;32m      1\u001b[0m \u001b[0;32mclass\u001b[0m \u001b[0mBoundedResistance\u001b[0m\u001b[0;34m(\u001b[0m\u001b[0mResistor\u001b[0m\u001b[0;34m)\u001b[0m\u001b[0;34m:\u001b[0m\u001b[0;34m\u001b[0m\u001b[0;34m\u001b[0m\u001b[0m\n\u001b[1;32m      2\u001b[0m     \u001b[0;32mdef\u001b[0m \u001b[0m__init__\u001b[0m\u001b[0;34m(\u001b[0m\u001b[0mself\u001b[0m\u001b[0;34m,\u001b[0m \u001b[0mohms\u001b[0m\u001b[0;34m)\u001b[0m\u001b[0;34m:\u001b[0m\u001b[0;34m\u001b[0m\u001b[0;34m\u001b[0m\u001b[0m\n\u001b[0;32m----> 3\u001b[0;31m         \u001b[0msuper\u001b[0m\u001b[0;34m(\u001b[0m\u001b[0;34m)\u001b[0m\u001b[0;34m.\u001b[0m\u001b[0m__init__\u001b[0m\u001b[0;34m(\u001b[0m\u001b[0mohms\u001b[0m\u001b[0;34m)\u001b[0m\u001b[0;34m\u001b[0m\u001b[0;34m\u001b[0m\u001b[0m\n\u001b[0m\u001b[1;32m      4\u001b[0m \u001b[0;34m\u001b[0m\u001b[0m\n\u001b[1;32m      5\u001b[0m     \u001b[0;34m@\u001b[0m\u001b[0mproperty\u001b[0m\u001b[0;34m\u001b[0m\u001b[0;34m\u001b[0m\u001b[0m\n",
      "\u001b[0;32m<ipython-input-25-a5d65209f8af>\u001b[0m in \u001b[0;36m__init__\u001b[0;34m(self, ohms)\u001b[0m\n\u001b[1;32m      2\u001b[0m \u001b[0;32mclass\u001b[0m \u001b[0mResistor\u001b[0m\u001b[0;34m:\u001b[0m\u001b[0;34m\u001b[0m\u001b[0;34m\u001b[0m\u001b[0m\n\u001b[1;32m      3\u001b[0m     \u001b[0;32mdef\u001b[0m \u001b[0m__init__\u001b[0m\u001b[0;34m(\u001b[0m\u001b[0mself\u001b[0m\u001b[0;34m,\u001b[0m \u001b[0mohms\u001b[0m\u001b[0;34m)\u001b[0m\u001b[0;34m:\u001b[0m\u001b[0;34m\u001b[0m\u001b[0;34m\u001b[0m\u001b[0m\n\u001b[0;32m----> 4\u001b[0;31m         \u001b[0mself\u001b[0m\u001b[0;34m.\u001b[0m\u001b[0mohms\u001b[0m \u001b[0;34m=\u001b[0m \u001b[0mohms\u001b[0m\u001b[0;34m\u001b[0m\u001b[0;34m\u001b[0m\u001b[0m\n\u001b[0m\u001b[1;32m      5\u001b[0m         \u001b[0mself\u001b[0m\u001b[0;34m.\u001b[0m\u001b[0mvoltage\u001b[0m \u001b[0;34m=\u001b[0m \u001b[0;36m0\u001b[0m\u001b[0;34m\u001b[0m\u001b[0;34m\u001b[0m\u001b[0m\n\u001b[1;32m      6\u001b[0m         \u001b[0mself\u001b[0m\u001b[0;34m.\u001b[0m\u001b[0mcurrent\u001b[0m \u001b[0;34m=\u001b[0m \u001b[0;36m0\u001b[0m\u001b[0;34m\u001b[0m\u001b[0;34m\u001b[0m\u001b[0m\n",
      "\u001b[0;32m<ipython-input-28-71975c648873>\u001b[0m in \u001b[0;36mohms\u001b[0;34m(self, ohms)\u001b[0m\n\u001b[1;32m     10\u001b[0m     \u001b[0;32mdef\u001b[0m \u001b[0mohms\u001b[0m\u001b[0;34m(\u001b[0m\u001b[0mself\u001b[0m\u001b[0;34m,\u001b[0m \u001b[0mohms\u001b[0m\u001b[0;34m)\u001b[0m\u001b[0;34m:\u001b[0m\u001b[0;34m\u001b[0m\u001b[0;34m\u001b[0m\u001b[0m\n\u001b[1;32m     11\u001b[0m         \u001b[0;32mif\u001b[0m \u001b[0mohms\u001b[0m \u001b[0;34m<=\u001b[0m \u001b[0;36m0\u001b[0m\u001b[0;34m:\u001b[0m\u001b[0;34m\u001b[0m\u001b[0;34m\u001b[0m\u001b[0m\n\u001b[0;32m---> 12\u001b[0;31m             \u001b[0;32mraise\u001b[0m \u001b[0mValueError\u001b[0m\u001b[0;34m(\u001b[0m\u001b[0;34mf'ohms must be > 0; got {ohms}'\u001b[0m\u001b[0;34m)\u001b[0m\u001b[0;34m\u001b[0m\u001b[0;34m\u001b[0m\u001b[0m\n\u001b[0m\u001b[1;32m     13\u001b[0m         \u001b[0mself\u001b[0m\u001b[0;34m.\u001b[0m\u001b[0m_ohms\u001b[0m \u001b[0;34m=\u001b[0m \u001b[0mohms\u001b[0m\u001b[0;34m\u001b[0m\u001b[0;34m\u001b[0m\u001b[0m\n",
      "\u001b[0;31mValueError\u001b[0m: ohms must be > 0; got -5"
     ]
    }
   ],
   "source": [
    "BoundedResistance(-5)"
   ]
  },
  {
   "cell_type": "code",
   "execution_count": 35,
   "metadata": {},
   "outputs": [],
   "source": [
    "class FixedResistance(Resistor):\n",
    "    def __init__(self, ohms):\n",
    "        super().__init__(ohms)\n",
    "\n",
    "    @property\n",
    "    def ohms(self):\n",
    "        return self._ohms\n",
    "\n",
    "    @ohms.setter\n",
    "    def ohms(self, ohms):\n",
    "        if hasattr(self, '_ohms'):\n",
    "            raise AttributeError(\"Ohms is immutable\")\n",
    "        self._ohms = ohms"
   ]
  },
  {
   "cell_type": "code",
   "execution_count": 36,
   "metadata": {},
   "outputs": [
    {
     "ename": "AttributeError",
     "evalue": "Ohms is immutable",
     "output_type": "error",
     "traceback": [
      "\u001b[0;31m---------------------------------------------------------------------------\u001b[0m",
      "\u001b[0;31mAttributeError\u001b[0m                            Traceback (most recent call last)",
      "\u001b[0;32m<ipython-input-36-7fbedb722fb3>\u001b[0m in \u001b[0;36m<module>\u001b[0;34m\u001b[0m\n\u001b[1;32m      1\u001b[0m \u001b[0mr4\u001b[0m \u001b[0;34m=\u001b[0m \u001b[0mFixedResistance\u001b[0m\u001b[0;34m(\u001b[0m\u001b[0;36m1e3\u001b[0m\u001b[0;34m)\u001b[0m\u001b[0;34m\u001b[0m\u001b[0;34m\u001b[0m\u001b[0m\n\u001b[0;32m----> 2\u001b[0;31m \u001b[0mr4\u001b[0m\u001b[0;34m.\u001b[0m\u001b[0mohms\u001b[0m \u001b[0;34m=\u001b[0m \u001b[0;36m2e3\u001b[0m\u001b[0;34m\u001b[0m\u001b[0;34m\u001b[0m\u001b[0m\n\u001b[0m",
      "\u001b[0;32m<ipython-input-35-0c9785a19de1>\u001b[0m in \u001b[0;36mohms\u001b[0;34m(self, ohms)\u001b[0m\n\u001b[1;32m     10\u001b[0m     \u001b[0;32mdef\u001b[0m \u001b[0mohms\u001b[0m\u001b[0;34m(\u001b[0m\u001b[0mself\u001b[0m\u001b[0;34m,\u001b[0m \u001b[0mohms\u001b[0m\u001b[0;34m)\u001b[0m\u001b[0;34m:\u001b[0m\u001b[0;34m\u001b[0m\u001b[0;34m\u001b[0m\u001b[0m\n\u001b[1;32m     11\u001b[0m         \u001b[0;32mif\u001b[0m \u001b[0mhasattr\u001b[0m\u001b[0;34m(\u001b[0m\u001b[0mself\u001b[0m\u001b[0;34m,\u001b[0m \u001b[0;34m'_ohms'\u001b[0m\u001b[0;34m)\u001b[0m\u001b[0;34m:\u001b[0m\u001b[0;34m\u001b[0m\u001b[0;34m\u001b[0m\u001b[0m\n\u001b[0;32m---> 12\u001b[0;31m             \u001b[0;32mraise\u001b[0m \u001b[0mAttributeError\u001b[0m\u001b[0;34m(\u001b[0m\u001b[0;34m\"Ohms is immutable\"\u001b[0m\u001b[0;34m)\u001b[0m\u001b[0;34m\u001b[0m\u001b[0;34m\u001b[0m\u001b[0m\n\u001b[0m\u001b[1;32m     13\u001b[0m         \u001b[0mself\u001b[0m\u001b[0;34m.\u001b[0m\u001b[0m_ohms\u001b[0m \u001b[0;34m=\u001b[0m \u001b[0mohms\u001b[0m\u001b[0;34m\u001b[0m\u001b[0;34m\u001b[0m\u001b[0m\n",
      "\u001b[0;31mAttributeError\u001b[0m: Ohms is immutable"
     ]
    }
   ],
   "source": [
    "r4 = FixedResistance(1e3)\n",
    "r4.ohms = 2e3"
   ]
  },
  {
   "cell_type": "code",
   "execution_count": 37,
   "metadata": {},
   "outputs": [],
   "source": [
    "class MysteriousResistor(Resistor):\n",
    "    @property\n",
    "    def ohms(self):\n",
    "        self.voltage = self._ohms * self.current\n",
    "        return self._ohms\n",
    "\n",
    "    @ohms.setter\n",
    "    def ohms(self, ohms):\n",
    "        self._ohms = ohms"
   ]
  },
  {
   "cell_type": "code",
   "execution_count": 38,
   "metadata": {},
   "outputs": [
    {
     "name": "stdout",
     "output_type": "stream",
     "text": [
      "Before: 0.00\n"
     ]
    },
    {
     "data": {
      "text/plain": [
       "10"
      ]
     },
     "execution_count": 38,
     "metadata": {},
     "output_type": "execute_result"
    },
    {
     "name": "stdout",
     "output_type": "stream",
     "text": [
      "After:  0.10\n"
     ]
    }
   ],
   "source": [
    "r7 = MysteriousResistor(10)\n",
    "r7.current = 0.01\n",
    "print(f'Before: {r7.voltage:.2f}')\n",
    "r7.ohms\n",
    "print(f'After:  {r7.voltage:.2f}')"
   ]
  },
  {
   "cell_type": "code",
   "execution_count": 44,
   "metadata": {},
   "outputs": [],
   "source": [
    "from datetime import datetime, timedelta"
   ]
  },
  {
   "cell_type": "code",
   "execution_count": 45,
   "metadata": {},
   "outputs": [],
   "source": [
    "class NewBucket:\n",
    "    def __init__(self, period):\n",
    "        self.period_delta = timedelta(seconds=period)\n",
    "        self.reset_time = datetime.now()\n",
    "        self.max_quota = 0\n",
    "        self.quota_consumed = 0\n",
    "\n",
    "    def __repr__(self):\n",
    "        return (f'NewBucket(max_quota={self.max_quota}, '\n",
    "                f'quota_consumed={self.quota_consumed})')\n",
    "    \n",
    "\n",
    "    @property\n",
    "    def quota(self):\n",
    "        return self.max_quota - self.quota_consumed\n",
    "    \n",
    "    @quota.setter\n",
    "    def quota(self, amount):\n",
    "        delta = self.max_quota - amount\n",
    "        if amount == 0:\n",
    "            # Quota being reset for a new period\n",
    "            self.quota_consumed = 0\n",
    "            self.max_quota = 0\n",
    "        elif delta < 0:\n",
    "            # Quota being filled for the new period\n",
    "            assert self.quota_consumed == 0\n",
    "            self.max_quota = amount\n",
    "        else:\n",
    "           # Quota being consumed during the period\n",
    "           assert self.max_quota >= self.quota_consumed\n",
    "           self.quota_consumed += delta"
   ]
  },
  {
   "cell_type": "code",
   "execution_count": 51,
   "metadata": {},
   "outputs": [],
   "source": [
    "def fill(bucket, amount):\n",
    "    now = datetime.now()\n",
    "    if (now - bucket.reset_time) > bucket.period_delta:\n",
    "        bucket.quota = 0\n",
    "        bucket.reset_time = now\n",
    "    bucket.quota += amount\n",
    "\n",
    "def deduct(bucket, amount):\n",
    "    now = datetime.now()\n",
    "    if (now - bucket.reset_time) > bucket.period_delta:\n",
    "        return False  # Bucket hasn't been filled this period\n",
    "    if bucket.quota - amount < 0:\n",
    "        return False  # Bucket was filled, but not enough\n",
    "\n",
    "    bucket.quota -= amount\n",
    "    return True       # Bucket had enough, quota consumed\n"
   ]
  },
  {
   "cell_type": "code",
   "execution_count": 46,
   "metadata": {},
   "outputs": [],
   "source": [
    "bucket = NewBucket(60)"
   ]
  },
  {
   "cell_type": "code",
   "execution_count": 48,
   "metadata": {},
   "outputs": [
    {
     "data": {
      "text/plain": [
       "{'period_delta': datetime.timedelta(seconds=60),\n",
       " 'reset_time': datetime.datetime(2020, 2, 26, 14, 7, 49, 139056),\n",
       " 'max_quota': 0,\n",
       " 'quota_consumed': 0}"
      ]
     },
     "execution_count": 48,
     "metadata": {},
     "output_type": "execute_result"
    },
    {
     "data": {
      "text/plain": [
       "NewBucket(max_quota=0, quota_consumed=0)"
      ]
     },
     "execution_count": 48,
     "metadata": {},
     "output_type": "execute_result"
    }
   ],
   "source": [
    "bucket.__dict__\n",
    "bucket"
   ]
  },
  {
   "cell_type": "code",
   "execution_count": 52,
   "metadata": {},
   "outputs": [
    {
     "name": "stdout",
     "output_type": "stream",
     "text": [
      "Initial NewBucket(max_quota=0, quota_consumed=0)\n",
      "Filled NewBucket(max_quota=100, quota_consumed=0)\n",
      "Had 99 quota\n",
      "Now NewBucket(max_quota=100, quota_consumed=99)\n",
      "Not enough for 3 quota\n",
      "Still NewBucket(max_quota=100, quota_consumed=99)\n"
     ]
    }
   ],
   "source": [
    "bucket = NewBucket(60)\n",
    "print('Initial', bucket)\n",
    "fill(bucket, 100)\n",
    "print('Filled', bucket)\n",
    "\n",
    "if deduct(bucket, 99):\n",
    "    print('Had 99 quota')\n",
    "else:\n",
    "    print('Not enough for 99 quota')\n",
    "print('Now', bucket)\n",
    "\n",
    "if deduct(bucket, 3):\n",
    "    print('Had 3 quota')\n",
    "else:\n",
    "    print('Not enough for 3 quota')\n",
    "\n",
    "print('Still', bucket)"
   ]
  },
  {
   "cell_type": "markdown",
   "metadata": {},
   "source": [
    "### concurrency and parallelism"
   ]
  },
  {
   "cell_type": "code",
   "execution_count": 53,
   "metadata": {},
   "outputs": [
    {
     "name": "stdout",
     "output_type": "stream",
     "text": [
      "Hello from the child!\n",
      "\n"
     ]
    }
   ],
   "source": [
    "import subprocess\n",
    "\n",
    "result = subprocess.run(\n",
    "    ['echo', 'Hello from the child!'],\n",
    "    capture_output=True,\n",
    "    encoding='utf-8')\n",
    "\n",
    "result.check_returncode()  # No exception means clean exit\n",
    "print(result.stdout)"
   ]
  },
  {
   "cell_type": "code",
   "execution_count": 59,
   "metadata": {},
   "outputs": [
    {
     "name": "stdout",
     "output_type": "stream",
     "text": [
      "Working...\n",
      "Working...\n",
      "Working...\n",
      "Working...\n",
      "Working...\n",
      "Working...\n",
      "Working...\n",
      "Working...\n",
      "Working...\n",
      "Working...\n",
      "Working...\n",
      "Working...\n",
      "Working...\n",
      "Working...\n",
      "Working...\n",
      "Working...\n",
      "Working...\n",
      "Working...\n",
      "Working...\n",
      "Exit status 0\n"
     ]
    }
   ],
   "source": [
    "proc = subprocess.Popen(['sleep', '0.001'])\n",
    "while proc.poll() is None:\n",
    "    print('Working...')\n",
    "\n",
    "    # Some time-consuming work here\n",
    "\n",
    "\n",
    "print('Exit status', proc.poll())"
   ]
  },
  {
   "cell_type": "code",
   "execution_count": 63,
   "metadata": {},
   "outputs": [
    {
     "data": {
      "text/plain": [
       "(None, None)"
      ]
     },
     "execution_count": 63,
     "metadata": {},
     "output_type": "execute_result"
    },
    {
     "data": {
      "text/plain": [
       "(None, None)"
      ]
     },
     "execution_count": 63,
     "metadata": {},
     "output_type": "execute_result"
    },
    {
     "data": {
      "text/plain": [
       "(None, None)"
      ]
     },
     "execution_count": 63,
     "metadata": {},
     "output_type": "execute_result"
    },
    {
     "data": {
      "text/plain": [
       "(None, None)"
      ]
     },
     "execution_count": 63,
     "metadata": {},
     "output_type": "execute_result"
    },
    {
     "data": {
      "text/plain": [
       "(None, None)"
      ]
     },
     "execution_count": 63,
     "metadata": {},
     "output_type": "execute_result"
    },
    {
     "data": {
      "text/plain": [
       "(None, None)"
      ]
     },
     "execution_count": 63,
     "metadata": {},
     "output_type": "execute_result"
    },
    {
     "data": {
      "text/plain": [
       "(None, None)"
      ]
     },
     "execution_count": 63,
     "metadata": {},
     "output_type": "execute_result"
    },
    {
     "data": {
      "text/plain": [
       "(None, None)"
      ]
     },
     "execution_count": 63,
     "metadata": {},
     "output_type": "execute_result"
    },
    {
     "data": {
      "text/plain": [
       "(None, None)"
      ]
     },
     "execution_count": 63,
     "metadata": {},
     "output_type": "execute_result"
    },
    {
     "data": {
      "text/plain": [
       "(None, None)"
      ]
     },
     "execution_count": 63,
     "metadata": {},
     "output_type": "execute_result"
    },
    {
     "name": "stdout",
     "output_type": "stream",
     "text": [
      "Finished in 1.06 seconds\n"
     ]
    }
   ],
   "source": [
    "import time\n",
    "\n",
    "start = time.time()\n",
    "sleep_procs = []\n",
    "for _ in range(10):\n",
    "    proc = subprocess.Popen(['sleep', '1'])\n",
    "    sleep_procs.append(proc)\n",
    "for proc in sleep_procs:\n",
    "    proc.communicate()\n",
    "\n",
    "end = time.time()\n",
    "delta = end - start\n",
    "print(f'Finished in {delta:.3} seconds')"
   ]
  },
  {
   "cell_type": "code",
   "execution_count": 65,
   "metadata": {},
   "outputs": [
    {
     "name": "stdout",
     "output_type": "stream",
     "text": [
      "b'\\x86\\xba\\xf5[\\xa7{\\xaf\\x12\\xe3\\x06'\n",
      "b'lT[\\x9d\\t_\\xb9\\x1c\\x8fk'\n",
      "b'8\\x18:ea6h:UZ'\n"
     ]
    }
   ],
   "source": [
    "import os\n",
    "def run_encrypt(data):\n",
    "    env = os.environ.copy()\n",
    "\n",
    "    env['password'] = 'zf7ShyBhZOraQDdE/FiZpm/m/8f9X+M1'\n",
    "    proc = subprocess.Popen(\n",
    "        ['openssl', 'enc', '-des3', '-pass', 'env:password'],\n",
    "        env=env,\n",
    "        stdin=subprocess.PIPE,\n",
    "        stdout=subprocess.PIPE)\n",
    "    proc.stdin.write(data)\n",
    "    proc.stdin.flush()  # Ensure that the child gets input\n",
    "    return proc\n",
    "\n",
    "procs = []\n",
    "for _ in range(3):\n",
    "    data = os.urandom(10)\n",
    "    proc = run_encrypt(data)\n",
    "    procs.append(proc)\n",
    "    \n",
    "for proc in procs:\n",
    "    out, _ = proc.communicate()\n",
    "    print(out[-10:])"
   ]
  },
  {
   "cell_type": "code",
   "execution_count": 66,
   "metadata": {},
   "outputs": [],
   "source": [
    "def run_hash(input_stdin):\n",
    "    return subprocess.Popen(\n",
    "        ['openssl', 'dgst', '-whirlpool', '-binary'],\n",
    "        stdin=input_stdin,\n",
    "        stdout=subprocess.PIPE)"
   ]
  },
  {
   "cell_type": "code",
   "execution_count": 67,
   "metadata": {},
   "outputs": [],
   "source": [
    "encrypt_procs = []\n",
    "hash_procs = []\n",
    "for _ in range(3):\n",
    "    data = os.urandom(100)\n",
    "\n",
    "    encrypt_proc = run_encrypt(data)\n",
    "    encrypt_procs.append(encrypt_proc)\n",
    "\n",
    "    hash_proc = run_hash(encrypt_proc.stdout)\n",
    "    hash_procs.append(hash_proc)\n",
    "\n",
    "    # Ensure that the child consumes the input stream and\n",
    "    # the communicate() method doesn't inadvertently steal\n",
    "    # input from the child. Also lets SIGPIPE propagate to\n",
    "    # the upstream process if the downstream process dies.\n",
    "    encrypt_proc.stdout.close()\n",
    "    encrypt_proc.stdout = None"
   ]
  },
  {
   "cell_type": "code",
   "execution_count": 68,
   "metadata": {},
   "outputs": [
    {
     "data": {
      "text/plain": [
       "(None, None)"
      ]
     },
     "execution_count": 68,
     "metadata": {},
     "output_type": "execute_result"
    },
    {
     "data": {
      "text/plain": [
       "(None, None)"
      ]
     },
     "execution_count": 68,
     "metadata": {},
     "output_type": "execute_result"
    },
    {
     "data": {
      "text/plain": [
       "(None, None)"
      ]
     },
     "execution_count": 68,
     "metadata": {},
     "output_type": "execute_result"
    },
    {
     "name": "stdout",
     "output_type": "stream",
     "text": [
      "b'\\xda\\xcf\\xa1\\xc0]\\x9d\\x91tF\\xae'\n",
      "b'\\x05\\xb1&\\r\\xa11\\xca#\\x9cu'\n",
      "b'P4F=\\xf0\\xd9\\xd3\\r\\x99\\xd3'\n"
     ]
    }
   ],
   "source": [
    "for proc in encrypt_procs:\n",
    "    proc.communicate()\n",
    "    assert proc.returncode == 0\n",
    "\n",
    "for proc in hash_procs:\n",
    "    out, _ = proc.communicate()\n",
    "    print(out[-10:])\n",
    "    assert proc.returncode == 0"
   ]
  },
  {
   "cell_type": "code",
   "execution_count": 69,
   "metadata": {},
   "outputs": [
    {
     "data": {
      "text/plain": [
       "-15"
      ]
     },
     "execution_count": 69,
     "metadata": {},
     "output_type": "execute_result"
    },
    {
     "name": "stdout",
     "output_type": "stream",
     "text": [
      "Exit status -15\n"
     ]
    }
   ],
   "source": [
    "proc = subprocess.Popen(['sleep', '10'])\n",
    "try:\n",
    "    proc.communicate(timeout=0.1)\n",
    "\n",
    "except subprocess.TimeoutExpired:\n",
    "    proc.terminate()\n",
    "    proc.wait()\n",
    "\n",
    "print('Exit status', proc.poll())"
   ]
  },
  {
   "cell_type": "markdown",
   "metadata": {},
   "source": [
    "### threading"
   ]
  },
  {
   "cell_type": "code",
   "execution_count": 74,
   "metadata": {},
   "outputs": [],
   "source": [
    "def factorize(number):\n",
    "    for i in range(1, number + 1):\n",
    "        if number % i == 0:\n",
    "            yield i"
   ]
  },
  {
   "cell_type": "code",
   "execution_count": 75,
   "metadata": {},
   "outputs": [
    {
     "data": {
      "text/plain": [
       "[1, 101, 21179, 2139079]"
      ]
     },
     "execution_count": 75,
     "metadata": {},
     "output_type": "execute_result"
    },
    {
     "data": {
      "text/plain": [
       "[1, 7, 13, 49, 91, 637, 1907, 13349, 24791, 93443, 173537, 1214759]"
      ]
     },
     "execution_count": 75,
     "metadata": {},
     "output_type": "execute_result"
    },
    {
     "data": {
      "text/plain": [
       "[1, 19, 79823, 1516637]"
      ]
     },
     "execution_count": 75,
     "metadata": {},
     "output_type": "execute_result"
    },
    {
     "data": {
      "text/plain": [
       "[1, 5, 271, 1355, 1367, 6835, 370457, 1852285]"
      ]
     },
     "execution_count": 75,
     "metadata": {},
     "output_type": "execute_result"
    },
    {
     "name": "stdout",
     "output_type": "stream",
     "text": [
      "Took 0.811 seconds\n"
     ]
    }
   ],
   "source": [
    "import time\n",
    "\n",
    "numbers = [2139079, 1214759, 1516637, 1852285]\n",
    "start = time.time()\n",
    "\n",
    "for number in numbers:\n",
    "    list(factorize(number))\n",
    "\n",
    "end = time.time()\n",
    "delta = end - start\n",
    "print(f'Took {delta:.3f} seconds')"
   ]
  },
  {
   "cell_type": "code",
   "execution_count": 76,
   "metadata": {},
   "outputs": [
    {
     "name": "stdout",
     "output_type": "stream",
     "text": [
      "Took 1.229 seconds\n"
     ]
    }
   ],
   "source": [
    "from threading import Thread\n",
    "\n",
    "class FactorizeThread(Thread):\n",
    "    def __init__(self, number):\n",
    "        super().__init__()\n",
    "        self.number = number\n",
    "\n",
    "    def run(self):\n",
    "        self.factors = list(factorize(self.number))\n",
    "        \n",
    "        \n",
    "start = time.time()\n",
    "\n",
    "threads = []\n",
    "for number in numbers:\n",
    "    thread = FactorizeThread(number)\n",
    "    thread.start()\n",
    "    threads.append(thread)\n",
    "    \n",
    "for thread in threads:\n",
    "    thread.join()\n",
    "\n",
    "end = time.time()\n",
    "delta = end - start\n",
    "print(f'Took {delta:.3f} seconds')\n"
   ]
  },
  {
   "cell_type": "code",
   "execution_count": null,
   "metadata": {},
   "outputs": [],
   "source": []
  },
  {
   "cell_type": "markdown",
   "metadata": {},
   "source": [
    "### use cprofiler to profile your program before optimizing"
   ]
  },
  {
   "cell_type": "code",
   "execution_count": 130,
   "metadata": {},
   "outputs": [],
   "source": [
    "def insertion_sort(data):\n",
    "    results = [9]\n",
    "    for value in data:\n",
    "        print('aaa', value)\n",
    "        insert_value(result, value)\n",
    "    return result\n",
    "\n",
    "def insert_value(arr, value):\n",
    "    print('bbb', arr)\n",
    "    for i, existing in enumerate(arr):\n",
    "        print('aaaaaaaaa')\n",
    "        if existing > value:\n",
    "            print('xxxxxxxxx')\n",
    "            arr.insert(i, value)\n",
    "            return arr\n",
    "    arr.append(value)\n",
    "    return arr"
   ]
  },
  {
   "cell_type": "code",
   "execution_count": 131,
   "metadata": {},
   "outputs": [
    {
     "name": "stdout",
     "output_type": "stream",
     "text": [
      "bbb [9]\n",
      "aaaaaaaaa\n"
     ]
    },
    {
     "data": {
      "text/plain": [
       "[9, 12]"
      ]
     },
     "execution_count": 131,
     "metadata": {},
     "output_type": "execute_result"
    }
   ],
   "source": [
    "insert_value([9], 12)"
   ]
  },
  {
   "cell_type": "code",
   "execution_count": 132,
   "metadata": {},
   "outputs": [
    {
     "name": "stdout",
     "output_type": "stream",
     "text": [
      "aaa 3\n",
      "bbb CompletedProcess(args=['echo', 'Hello from the child!'], returncode=0, stdout='Hello from the child!\\n', stderr='')\n"
     ]
    },
    {
     "ename": "TypeError",
     "evalue": "'CompletedProcess' object is not iterable",
     "output_type": "error",
     "traceback": [
      "\u001b[0;31m---------------------------------------------------------------------------\u001b[0m",
      "\u001b[0;31mTypeError\u001b[0m                                 Traceback (most recent call last)",
      "\u001b[0;32m<ipython-input-132-5fc242571ed1>\u001b[0m in \u001b[0;36m<module>\u001b[0;34m\u001b[0m\n\u001b[1;32m      1\u001b[0m \u001b[0mdata\u001b[0m \u001b[0;34m=\u001b[0m \u001b[0;34m[\u001b[0m\u001b[0;36m3\u001b[0m\u001b[0;34m,\u001b[0m \u001b[0;36m5\u001b[0m\u001b[0;34m,\u001b[0m \u001b[0;36m2\u001b[0m\u001b[0;34m]\u001b[0m\u001b[0;34m\u001b[0m\u001b[0;34m\u001b[0m\u001b[0m\n\u001b[0;32m----> 2\u001b[0;31m \u001b[0minsertion_sort\u001b[0m\u001b[0;34m(\u001b[0m\u001b[0mdata\u001b[0m\u001b[0;34m)\u001b[0m\u001b[0;34m\u001b[0m\u001b[0;34m\u001b[0m\u001b[0m\n\u001b[0m",
      "\u001b[0;32m<ipython-input-130-bf48dd7f5dee>\u001b[0m in \u001b[0;36minsertion_sort\u001b[0;34m(data)\u001b[0m\n\u001b[1;32m      3\u001b[0m     \u001b[0;32mfor\u001b[0m \u001b[0mvalue\u001b[0m \u001b[0;32min\u001b[0m \u001b[0mdata\u001b[0m\u001b[0;34m:\u001b[0m\u001b[0;34m\u001b[0m\u001b[0;34m\u001b[0m\u001b[0m\n\u001b[1;32m      4\u001b[0m         \u001b[0mprint\u001b[0m\u001b[0;34m(\u001b[0m\u001b[0;34m'aaa'\u001b[0m\u001b[0;34m,\u001b[0m \u001b[0mvalue\u001b[0m\u001b[0;34m)\u001b[0m\u001b[0;34m\u001b[0m\u001b[0;34m\u001b[0m\u001b[0m\n\u001b[0;32m----> 5\u001b[0;31m         \u001b[0minsert_value\u001b[0m\u001b[0;34m(\u001b[0m\u001b[0mresult\u001b[0m\u001b[0;34m,\u001b[0m \u001b[0mvalue\u001b[0m\u001b[0;34m)\u001b[0m\u001b[0;34m\u001b[0m\u001b[0;34m\u001b[0m\u001b[0m\n\u001b[0m\u001b[1;32m      6\u001b[0m     \u001b[0;32mreturn\u001b[0m \u001b[0mresult\u001b[0m\u001b[0;34m\u001b[0m\u001b[0;34m\u001b[0m\u001b[0m\n\u001b[1;32m      7\u001b[0m \u001b[0;34m\u001b[0m\u001b[0m\n",
      "\u001b[0;32m<ipython-input-130-bf48dd7f5dee>\u001b[0m in \u001b[0;36minsert_value\u001b[0;34m(arr, value)\u001b[0m\n\u001b[1;32m      8\u001b[0m \u001b[0;32mdef\u001b[0m \u001b[0minsert_value\u001b[0m\u001b[0;34m(\u001b[0m\u001b[0marr\u001b[0m\u001b[0;34m,\u001b[0m \u001b[0mvalue\u001b[0m\u001b[0;34m)\u001b[0m\u001b[0;34m:\u001b[0m\u001b[0;34m\u001b[0m\u001b[0;34m\u001b[0m\u001b[0m\n\u001b[1;32m      9\u001b[0m     \u001b[0mprint\u001b[0m\u001b[0;34m(\u001b[0m\u001b[0;34m'bbb'\u001b[0m\u001b[0;34m,\u001b[0m \u001b[0marr\u001b[0m\u001b[0;34m)\u001b[0m\u001b[0;34m\u001b[0m\u001b[0;34m\u001b[0m\u001b[0m\n\u001b[0;32m---> 10\u001b[0;31m     \u001b[0;32mfor\u001b[0m \u001b[0mi\u001b[0m\u001b[0;34m,\u001b[0m \u001b[0mexisting\u001b[0m \u001b[0;32min\u001b[0m \u001b[0menumerate\u001b[0m\u001b[0;34m(\u001b[0m\u001b[0marr\u001b[0m\u001b[0;34m)\u001b[0m\u001b[0;34m:\u001b[0m\u001b[0;34m\u001b[0m\u001b[0;34m\u001b[0m\u001b[0m\n\u001b[0m\u001b[1;32m     11\u001b[0m         \u001b[0mprint\u001b[0m\u001b[0;34m(\u001b[0m\u001b[0;34m'aaaaaaaaa'\u001b[0m\u001b[0;34m)\u001b[0m\u001b[0;34m\u001b[0m\u001b[0;34m\u001b[0m\u001b[0m\n\u001b[1;32m     12\u001b[0m         \u001b[0;32mif\u001b[0m \u001b[0mexisting\u001b[0m \u001b[0;34m>\u001b[0m \u001b[0mvalue\u001b[0m\u001b[0;34m:\u001b[0m\u001b[0;34m\u001b[0m\u001b[0;34m\u001b[0m\u001b[0m\n",
      "\u001b[0;31mTypeError\u001b[0m: 'CompletedProcess' object is not iterable"
     ]
    }
   ],
   "source": [
    "data = [3, 5, 2]\n",
    "insertion_sort(data)"
   ]
  },
  {
   "cell_type": "code",
   "execution_count": 91,
   "metadata": {},
   "outputs": [
    {
     "ename": "TypeError",
     "evalue": "'CompletedProcess' object is not iterable",
     "output_type": "error",
     "traceback": [
      "\u001b[0;31m---------------------------------------------------------------------------\u001b[0m",
      "\u001b[0;31mTypeError\u001b[0m                                 Traceback (most recent call last)",
      "\u001b[0;32m<ipython-input-91-7e72fc618675>\u001b[0m in \u001b[0;36m<module>\u001b[0;34m\u001b[0m\n\u001b[1;32m      6\u001b[0m \u001b[0;32mfrom\u001b[0m \u001b[0mcProfile\u001b[0m \u001b[0;32mimport\u001b[0m \u001b[0mProfile\u001b[0m\u001b[0;34m\u001b[0m\u001b[0;34m\u001b[0m\u001b[0m\n\u001b[1;32m      7\u001b[0m \u001b[0mprofiler\u001b[0m \u001b[0;34m=\u001b[0m \u001b[0mProfile\u001b[0m\u001b[0;34m(\u001b[0m\u001b[0;34m)\u001b[0m\u001b[0;34m\u001b[0m\u001b[0;34m\u001b[0m\u001b[0m\n\u001b[0;32m----> 8\u001b[0;31m \u001b[0mprofiler\u001b[0m\u001b[0;34m.\u001b[0m\u001b[0mruncall\u001b[0m\u001b[0;34m(\u001b[0m\u001b[0mtest\u001b[0m\u001b[0;34m)\u001b[0m\u001b[0;34m\u001b[0m\u001b[0;34m\u001b[0m\u001b[0m\n\u001b[0m",
      "\u001b[0;32m/projects/da_workspace/software/miniconda/envs/py38/lib/python3.8/cProfile.py\u001b[0m in \u001b[0;36mruncall\u001b[0;34m(*args, **kw)\u001b[0m\n\u001b[1;32m    122\u001b[0m         \u001b[0mself\u001b[0m\u001b[0;34m.\u001b[0m\u001b[0menable\u001b[0m\u001b[0;34m(\u001b[0m\u001b[0;34m)\u001b[0m\u001b[0;34m\u001b[0m\u001b[0;34m\u001b[0m\u001b[0m\n\u001b[1;32m    123\u001b[0m         \u001b[0;32mtry\u001b[0m\u001b[0;34m:\u001b[0m\u001b[0;34m\u001b[0m\u001b[0;34m\u001b[0m\u001b[0m\n\u001b[0;32m--> 124\u001b[0;31m             \u001b[0;32mreturn\u001b[0m \u001b[0mfunc\u001b[0m\u001b[0;34m(\u001b[0m\u001b[0;34m*\u001b[0m\u001b[0margs\u001b[0m\u001b[0;34m,\u001b[0m \u001b[0;34m**\u001b[0m\u001b[0mkw\u001b[0m\u001b[0;34m)\u001b[0m\u001b[0;34m\u001b[0m\u001b[0;34m\u001b[0m\u001b[0m\n\u001b[0m\u001b[1;32m    125\u001b[0m         \u001b[0;32mfinally\u001b[0m\u001b[0;34m:\u001b[0m\u001b[0;34m\u001b[0m\u001b[0;34m\u001b[0m\u001b[0m\n\u001b[1;32m    126\u001b[0m             \u001b[0mself\u001b[0m\u001b[0;34m.\u001b[0m\u001b[0mdisable\u001b[0m\u001b[0;34m(\u001b[0m\u001b[0;34m)\u001b[0m\u001b[0;34m\u001b[0m\u001b[0;34m\u001b[0m\u001b[0m\n",
      "\u001b[0;32m<ipython-input-91-7e72fc618675>\u001b[0m in \u001b[0;36m<lambda>\u001b[0;34m()\u001b[0m\n\u001b[1;32m      2\u001b[0m \u001b[0mmax_size\u001b[0m \u001b[0;34m=\u001b[0m \u001b[0;36m10\u001b[0m \u001b[0;34m**\u001b[0m \u001b[0;36m4\u001b[0m\u001b[0;34m\u001b[0m\u001b[0;34m\u001b[0m\u001b[0m\n\u001b[1;32m      3\u001b[0m \u001b[0mdata\u001b[0m \u001b[0;34m=\u001b[0m \u001b[0;34m[\u001b[0m\u001b[0mrandint\u001b[0m\u001b[0;34m(\u001b[0m\u001b[0;36m0\u001b[0m\u001b[0;34m,\u001b[0m \u001b[0mmax_size\u001b[0m\u001b[0;34m)\u001b[0m \u001b[0;32mfor\u001b[0m \u001b[0m_\u001b[0m \u001b[0;32min\u001b[0m \u001b[0mrange\u001b[0m\u001b[0;34m(\u001b[0m\u001b[0mmax_size\u001b[0m\u001b[0;34m)\u001b[0m\u001b[0;34m]\u001b[0m\u001b[0;34m\u001b[0m\u001b[0;34m\u001b[0m\u001b[0m\n\u001b[0;32m----> 4\u001b[0;31m \u001b[0mtest\u001b[0m \u001b[0;34m=\u001b[0m \u001b[0;32mlambda\u001b[0m\u001b[0;34m:\u001b[0m \u001b[0minsertion_sort\u001b[0m\u001b[0;34m(\u001b[0m\u001b[0mdata\u001b[0m\u001b[0;34m)\u001b[0m\u001b[0;34m\u001b[0m\u001b[0;34m\u001b[0m\u001b[0m\n\u001b[0m\u001b[1;32m      5\u001b[0m \u001b[0;34m\u001b[0m\u001b[0m\n\u001b[1;32m      6\u001b[0m \u001b[0;32mfrom\u001b[0m \u001b[0mcProfile\u001b[0m \u001b[0;32mimport\u001b[0m \u001b[0mProfile\u001b[0m\u001b[0;34m\u001b[0m\u001b[0;34m\u001b[0m\u001b[0m\n",
      "\u001b[0;32m<ipython-input-90-0be6ac5b30c3>\u001b[0m in \u001b[0;36minsertion_sort\u001b[0;34m(data)\u001b[0m\n\u001b[1;32m      2\u001b[0m     \u001b[0mresults\u001b[0m \u001b[0;34m=\u001b[0m \u001b[0;34m[\u001b[0m\u001b[0;34m]\u001b[0m\u001b[0;34m\u001b[0m\u001b[0;34m\u001b[0m\u001b[0m\n\u001b[1;32m      3\u001b[0m     \u001b[0;32mfor\u001b[0m \u001b[0mvalue\u001b[0m \u001b[0;32min\u001b[0m \u001b[0mdata\u001b[0m\u001b[0;34m:\u001b[0m\u001b[0;34m\u001b[0m\u001b[0;34m\u001b[0m\u001b[0m\n\u001b[0;32m----> 4\u001b[0;31m         \u001b[0minsert_value\u001b[0m\u001b[0;34m(\u001b[0m\u001b[0mresult\u001b[0m\u001b[0;34m,\u001b[0m \u001b[0mvalue\u001b[0m\u001b[0;34m)\u001b[0m\u001b[0;34m\u001b[0m\u001b[0;34m\u001b[0m\u001b[0m\n\u001b[0m\u001b[1;32m      5\u001b[0m     \u001b[0;32mreturn\u001b[0m \u001b[0mresult\u001b[0m\u001b[0;34m\u001b[0m\u001b[0;34m\u001b[0m\u001b[0m\n\u001b[1;32m      6\u001b[0m \u001b[0;34m\u001b[0m\u001b[0m\n",
      "\u001b[0;32m<ipython-input-90-0be6ac5b30c3>\u001b[0m in \u001b[0;36minsert_value\u001b[0;34m(array, value)\u001b[0m\n\u001b[1;32m      6\u001b[0m \u001b[0;34m\u001b[0m\u001b[0m\n\u001b[1;32m      7\u001b[0m \u001b[0;32mdef\u001b[0m \u001b[0minsert_value\u001b[0m\u001b[0;34m(\u001b[0m\u001b[0marray\u001b[0m\u001b[0;34m,\u001b[0m \u001b[0mvalue\u001b[0m\u001b[0;34m)\u001b[0m\u001b[0;34m:\u001b[0m\u001b[0;34m\u001b[0m\u001b[0;34m\u001b[0m\u001b[0m\n\u001b[0;32m----> 8\u001b[0;31m     \u001b[0;32mfor\u001b[0m \u001b[0mi\u001b[0m\u001b[0;34m,\u001b[0m \u001b[0mexisting\u001b[0m \u001b[0;32min\u001b[0m \u001b[0menumerate\u001b[0m\u001b[0;34m(\u001b[0m\u001b[0marray\u001b[0m\u001b[0;34m)\u001b[0m\u001b[0;34m:\u001b[0m\u001b[0;34m\u001b[0m\u001b[0;34m\u001b[0m\u001b[0m\n\u001b[0m\u001b[1;32m      9\u001b[0m         \u001b[0;32mif\u001b[0m \u001b[0mexisting\u001b[0m \u001b[0;34m>\u001b[0m \u001b[0mvalue\u001b[0m\u001b[0;34m:\u001b[0m\u001b[0;34m\u001b[0m\u001b[0;34m\u001b[0m\u001b[0m\n\u001b[1;32m     10\u001b[0m             \u001b[0mprint\u001b[0m\u001b[0;34m(\u001b[0m\u001b[0;34m'xxxxxxxxx'\u001b[0m\u001b[0;34m)\u001b[0m\u001b[0;34m\u001b[0m\u001b[0;34m\u001b[0m\u001b[0m\n",
      "\u001b[0;31mTypeError\u001b[0m: 'CompletedProcess' object is not iterable"
     ]
    }
   ],
   "source": [
    "from random import randint\n",
    "max_size = 10 ** 4\n",
    "data = [randint(0, max_size) for _ in range(max_size)]\n",
    "test = lambda: insertion_sort(data)\n",
    "\n",
    "from cProfile import Profile\n",
    "profiler = Profile()\n",
    "profiler.runcall(test)"
   ]
  },
  {
   "cell_type": "markdown",
   "metadata": {},
   "source": [
    "### heapq (priority queue)"
   ]
  },
  {
   "cell_type": "code",
   "execution_count": 157,
   "metadata": {},
   "outputs": [
    {
     "data": {
      "text/plain": [
       "[<__main__.Book at 0x7f861768e070>,\n",
       " <__main__.Book at 0x7f861768e250>,\n",
       " <__main__.Book at 0x7f861768eee0>,\n",
       " <__main__.Book at 0x7f861768e5b0>]"
      ]
     },
     "execution_count": 157,
     "metadata": {},
     "output_type": "execute_result"
    }
   ],
   "source": [
    "class Book:\n",
    "    def __init__(self, title, due_date):\n",
    "        self.title = title\n",
    "        self.due_date = due_date\n",
    "        \n",
    "class NoOverdueBooks(Exception):\n",
    "    pass\n",
    "        \n",
    "def add_book(queue, book):\n",
    "    queue.append(book)\n",
    "    queue.sort(key=lambda x: x.due_date, reverse=True)\n",
    "\n",
    "queue = []\n",
    "add_book(queue, Book('aaaaaaa', '2019-06-07'))\n",
    "add_book(queue, Book('bbbbbbb', '2019-06-05'))\n",
    "add_book(queue, Book('cccccccc', '2019-06-08'))\n",
    "add_book(queue, Book('ddddddd', '2019-06-03'))\n",
    "\n",
    "queue"
   ]
  },
  {
   "cell_type": "code",
   "execution_count": 145,
   "metadata": {},
   "outputs": [],
   "source": [
    "def next_overdue_book(queue, now):\n",
    "    if queue:\n",
    "        book = queue[-1]\n",
    "        if book.due_date < now:\n",
    "            queue.pop()\n",
    "            return book\n",
    "    raise NoOverdueBooks"
   ]
  },
  {
   "cell_type": "code",
   "execution_count": 146,
   "metadata": {},
   "outputs": [
    {
     "name": "stdout",
     "output_type": "stream",
     "text": [
      "ddddddd\n",
      "bbbbbbb\n"
     ]
    }
   ],
   "source": [
    "now = '2019-06-10'\n",
    "found = next_overdue_book(queue, now)\n",
    "print(found.title)\n",
    "found = next_overdue_book(queue, now)\n",
    "print(found.title)"
   ]
  },
  {
   "cell_type": "code",
   "execution_count": 147,
   "metadata": {},
   "outputs": [],
   "source": [
    "def return_book(queue, book):\n",
    "    queue.remove(book)"
   ]
  },
  {
   "cell_type": "code",
   "execution_count": 153,
   "metadata": {},
   "outputs": [
    {
     "name": "stdout",
     "output_type": "stream",
     "text": [
      "before return [('xxxx', '2019-06-04')]\n",
      "after return []\n"
     ]
    }
   ],
   "source": [
    "queue = []\n",
    "book = Book('xxxx', '2019-06-04')\n",
    "add_book(queue, book)\n",
    "print('before return', [(x.title, x.due_date) for x in queue])\n",
    "return_book(queue, book)\n",
    "print('after return', [(x.title, x.due_date) for x in queue])"
   ]
  },
  {
   "cell_type": "code",
   "execution_count": 163,
   "metadata": {},
   "outputs": [],
   "source": [
    "try:\n",
    "    next_overdue_book(queue, now)\n",
    "except NoOverdueBooks:\n",
    "    pass\n",
    "else:\n",
    "    assert False"
   ]
  },
  {
   "cell_type": "code",
   "execution_count": 164,
   "metadata": {},
   "outputs": [],
   "source": [
    "def print_result(count, tests):\n",
    "    avg_iteration = sum(tests) / len(tests)\n",
    "    print(f'Count {count:>5,} takes {avg_iteration:.6f}s')\n",
    "    return count, avg_iteration"
   ]
  },
  {
   "cell_type": "code",
   "execution_count": 165,
   "metadata": {},
   "outputs": [],
   "source": [
    "def print_delta(before, after):\n",
    "    before_count, before_time = before\n",
    "    after_count, after_time = after\n",
    "    growth = 1 + (after_count - before_count) / before_count\n",
    "    slowdown = 1 + (after_time - before_time) / before_time\n",
    "    print(f'{growth:>4.1f}x data size, {slowdown:>4.1f}x time')"
   ]
  },
  {
   "cell_type": "code",
   "execution_count": 180,
   "metadata": {},
   "outputs": [],
   "source": [
    "import random\n",
    "import timeit\n"
   ]
  },
  {
   "cell_type": "code",
   "execution_count": 175,
   "metadata": {},
   "outputs": [
    {
     "data": {
      "text/plain": [
       "' 2.3'"
      ]
     },
     "execution_count": 175,
     "metadata": {},
     "output_type": "execute_result"
    }
   ],
   "source": [
    "a = 2.3333344\n",
    "f'{a:>4.1f}' # width is 4, and 1 decimal place"
   ]
  },
  {
   "cell_type": "code",
   "execution_count": 198,
   "metadata": {},
   "outputs": [],
   "source": [
    "def list_overdue_benchmark(count):\n",
    "    def prepare():\n",
    "        to_add = list(range(count))\n",
    "        random.shuffle(to_add)\n",
    "        return [], to_add\n",
    "    \n",
    "    def run(queue, to_add):\n",
    "        for n, i in enumerate(to_add):\n",
    "#             if n % 100 == 0:\n",
    "#                 print(f'added {n} items')\n",
    "            queue.append(i)\n",
    "            queue.sort(reverse=True)\n",
    "            \n",
    "        while queue:\n",
    "            queue.pop()\n",
    "            \n",
    "    tests = timeit.repeat(\n",
    "        setup='queue, to_add = prepare()',\n",
    "        stmt=f'run(queue, to_add)', \n",
    "        globals=locals(),\n",
    "        repeat=100,\n",
    "        number=1)\n",
    "    return print_result(count, tests)"
   ]
  },
  {
   "cell_type": "code",
   "execution_count": 199,
   "metadata": {},
   "outputs": [
    {
     "name": "stdout",
     "output_type": "stream",
     "text": [
      "Count   500 takes 0.002432s\n",
      "Count 1,000 takes 0.004674s\n",
      " 2.0x data size,  1.9x time\n",
      "Count 1,500 takes 0.007972s\n",
      " 3.0x data size,  3.3x time\n",
      "Count 2,000 takes 0.013013s\n",
      " 4.0x data size,  5.4x time\n"
     ]
    }
   ],
   "source": [
    "baseline = list_overdue_benchmark(500)\n",
    "for count in (1_000, 1_500, 2_000):\n",
    "    comparison = list_overdue_benchmark(count)\n",
    "    print_delta(baseline, comparison)"
   ]
  },
  {
   "cell_type": "code",
   "execution_count": 204,
   "metadata": {},
   "outputs": [
    {
     "ename": "TypeError",
     "evalue": "'<' not supported between instances of 'Book' and 'Book'",
     "output_type": "error",
     "traceback": [
      "\u001b[0;31m---------------------------------------------------------------------------\u001b[0m",
      "\u001b[0;31mTypeError\u001b[0m                                 Traceback (most recent call last)",
      "\u001b[0;32m<ipython-input-204-e4a9357fe155>\u001b[0m in \u001b[0;36m<module>\u001b[0;34m\u001b[0m\n\u001b[1;32m      6\u001b[0m \u001b[0;31m# will fail, need total ordering on priority queue\u001b[0m\u001b[0;34m\u001b[0m\u001b[0;34m\u001b[0m\u001b[0;34m\u001b[0m\u001b[0m\n\u001b[1;32m      7\u001b[0m \u001b[0madd_book\u001b[0m\u001b[0;34m(\u001b[0m\u001b[0mqueue\u001b[0m\u001b[0;34m,\u001b[0m \u001b[0mBook\u001b[0m\u001b[0;34m(\u001b[0m\u001b[0;34m'xxxx'\u001b[0m\u001b[0;34m,\u001b[0m \u001b[0;34m'2019-06-04'\u001b[0m\u001b[0;34m)\u001b[0m\u001b[0;34m)\u001b[0m\u001b[0;34m\u001b[0m\u001b[0;34m\u001b[0m\u001b[0m\n\u001b[0;32m----> 8\u001b[0;31m \u001b[0madd_book\u001b[0m\u001b[0;34m(\u001b[0m\u001b[0mqueue\u001b[0m\u001b[0;34m,\u001b[0m \u001b[0mBook\u001b[0m\u001b[0;34m(\u001b[0m\u001b[0;34m'ddddddd'\u001b[0m\u001b[0;34m,\u001b[0m \u001b[0;34m'2019-06-03'\u001b[0m\u001b[0;34m)\u001b[0m\u001b[0;34m)\u001b[0m\u001b[0;34m\u001b[0m\u001b[0;34m\u001b[0m\u001b[0m\n\u001b[0m",
      "\u001b[0;32m<ipython-input-204-e4a9357fe155>\u001b[0m in \u001b[0;36madd_book\u001b[0;34m(queue, book)\u001b[0m\n\u001b[1;32m      1\u001b[0m \u001b[0;32mfrom\u001b[0m \u001b[0mheapq\u001b[0m \u001b[0;32mimport\u001b[0m \u001b[0mheappush\u001b[0m\u001b[0;34m\u001b[0m\u001b[0;34m\u001b[0m\u001b[0m\n\u001b[1;32m      2\u001b[0m \u001b[0;32mdef\u001b[0m \u001b[0madd_book\u001b[0m\u001b[0;34m(\u001b[0m\u001b[0mqueue\u001b[0m\u001b[0;34m,\u001b[0m \u001b[0mbook\u001b[0m\u001b[0;34m)\u001b[0m\u001b[0;34m:\u001b[0m\u001b[0;34m\u001b[0m\u001b[0;34m\u001b[0m\u001b[0m\n\u001b[0;32m----> 3\u001b[0;31m     \u001b[0mheappush\u001b[0m\u001b[0;34m(\u001b[0m\u001b[0mqueue\u001b[0m\u001b[0;34m,\u001b[0m \u001b[0mbook\u001b[0m\u001b[0;34m)\u001b[0m\u001b[0;34m\u001b[0m\u001b[0;34m\u001b[0m\u001b[0m\n\u001b[0m\u001b[1;32m      4\u001b[0m \u001b[0;34m\u001b[0m\u001b[0m\n\u001b[1;32m      5\u001b[0m \u001b[0mqueue\u001b[0m \u001b[0;34m=\u001b[0m \u001b[0;34m[\u001b[0m\u001b[0;34m]\u001b[0m\u001b[0;34m\u001b[0m\u001b[0;34m\u001b[0m\u001b[0m\n",
      "\u001b[0;31mTypeError\u001b[0m: '<' not supported between instances of 'Book' and 'Book'"
     ]
    }
   ],
   "source": [
    "from heapq import heappush\n",
    "def add_book(queue, book):\n",
    "    heappush(queue, book)\n",
    "    \n",
    "queue = []\n",
    "# will fail, need total ordering on priority queue\n",
    "add_book(queue, Book('xxxx', '2019-06-04'))\n",
    "add_book(queue, Book('ddddddd', '2019-06-03'))"
   ]
  },
  {
   "cell_type": "code",
   "execution_count": 219,
   "metadata": {},
   "outputs": [],
   "source": [
    "import functools\n",
    "@functools.total_ordering\n",
    "class Book:\n",
    "    def __init__(self, title, due_date):\n",
    "        self.title = title\n",
    "        self.due_date = due_date\n",
    "    def __lt__(self, other):\n",
    "        return self.due_date < other.due_date\n",
    "\n",
    "queue = []\n",
    "add_book(queue, Book('aaaaaaa', '2019-06-07'))\n",
    "add_book(queue, Book('bbbbbbb', '2019-06-05'))\n",
    "add_book(queue, Book('cccccccc', '2019-06-08'))\n",
    "add_book(queue, Book('ddddddd', '2019-06-03'))"
   ]
  },
  {
   "cell_type": "code",
   "execution_count": 210,
   "metadata": {},
   "outputs": [
    {
     "data": {
      "text/plain": [
       "'aaaaaaa'"
      ]
     },
     "execution_count": 210,
     "metadata": {},
     "output_type": "execute_result"
    }
   ],
   "source": [
    "queue[-1].title"
   ]
  },
  {
   "cell_type": "markdown",
   "metadata": {},
   "source": [
    "heapify is faster than sort"
   ]
  },
  {
   "cell_type": "code",
   "execution_count": 221,
   "metadata": {},
   "outputs": [
    {
     "name": "stdout",
     "output_type": "stream",
     "text": [
      "626 ns ± 5.13 ns per loop (mean ± std. dev. of 7 runs, 1000000 loops each)\n"
     ]
    },
    {
     "data": {
      "text/plain": [
       "['ddddddd', 'bbbbbbb', 'cccccccc', 'aaaaaaa']"
      ]
     },
     "execution_count": 221,
     "metadata": {},
     "output_type": "execute_result"
    }
   ],
   "source": [
    "from heapq import heapify\n",
    "# %timeit queue.sort()\n",
    "# [i.title for i in queue]\n",
    "\n",
    "%timeit heapify(queue)\n",
    "[i.title for i in queue]"
   ]
  },
  {
   "cell_type": "code",
   "execution_count": null,
   "metadata": {},
   "outputs": [],
   "source": []
  },
  {
   "cell_type": "markdown",
   "metadata": {},
   "source": [
    "### memoryview, CPython high-performance buffer protocol"
   ]
  },
  {
   "cell_type": "code",
   "execution_count": 222,
   "metadata": {},
   "outputs": [
    {
     "data": {
      "text/plain": [
       "<memory at 0x7f86178acf40>"
      ]
     },
     "execution_count": 222,
     "metadata": {},
     "output_type": "execute_result"
    }
   ],
   "source": [
    "data = b'shave and a haircut, two bits'\n",
    "view = memoryview(data)\n",
    "chunk = view[12:19]\n",
    "chunk"
   ]
  },
  {
   "cell_type": "code",
   "execution_count": 228,
   "metadata": {},
   "outputs": [
    {
     "data": {
      "text/plain": [
       "b'shave and a haircut, two bits'"
      ]
     },
     "execution_count": 228,
     "metadata": {},
     "output_type": "execute_result"
    },
    {
     "data": {
      "text/plain": [
       "7"
      ]
     },
     "execution_count": 228,
     "metadata": {},
     "output_type": "execute_result"
    },
    {
     "data": {
      "text/plain": [
       "b'haircut'"
      ]
     },
     "execution_count": 228,
     "metadata": {},
     "output_type": "execute_result"
    }
   ],
   "source": [
    "chunk.obj\n",
    "chunk.nbytes\n",
    "chunk.tobytes()"
   ]
  },
  {
   "cell_type": "code",
   "execution_count": 239,
   "metadata": {},
   "outputs": [
    {
     "data": {
      "text/plain": [
       "\"'5'\""
      ]
     },
     "execution_count": 239,
     "metadata": {},
     "output_type": "execute_result"
    },
    {
     "data": {
      "text/plain": [
       "'5'"
      ]
     },
     "execution_count": 239,
     "metadata": {},
     "output_type": "execute_result"
    },
    {
     "data": {
      "text/plain": [
       "'5'"
      ]
     },
     "execution_count": 239,
     "metadata": {},
     "output_type": "execute_result"
    },
    {
     "data": {
      "text/plain": [
       "5"
      ]
     },
     "execution_count": 239,
     "metadata": {},
     "output_type": "execute_result"
    },
    {
     "name": "stdout",
     "output_type": "stream",
     "text": [
      "'5'\n",
      "5\n",
      "'5'\n",
      "5\n"
     ]
    }
   ],
   "source": [
    "a = '5'\n",
    "b = 5\n",
    "repr(a)\n",
    "repr(b)\n",
    "a\n",
    "b\n",
    "print(repr(a))  # representation\n",
    "print(repr(b))\n",
    "\n",
    "print(f'{a!r}') # !r printable version representation\n",
    "print(f'{a!s}') # !r human-readable version string"
   ]
  },
  {
   "cell_type": "markdown",
   "metadata": {},
   "source": [
    "### unitest"
   ]
  },
  {
   "cell_type": "code",
   "execution_count": 240,
   "metadata": {},
   "outputs": [],
   "source": [
    "# utils.py\n",
    "def to_str(data):\n",
    "    if isinstance(data, str):\n",
    "        return data\n",
    "    elif isinstance(data, bytes):\n",
    "        return data.decode('utf-8')\n",
    "    else:\n",
    "        raise TypeError('Must supply str or bytes, found: %r' % data)\n",
    "    "
   ]
  },
  {
   "cell_type": "code",
   "execution_count": 243,
   "metadata": {},
   "outputs": [
    {
     "name": "stderr",
     "output_type": "stream",
     "text": [
      "E\n",
      "======================================================================\n",
      "ERROR: /home/szong/ (unittest.loader._FailedTest)\n",
      "----------------------------------------------------------------------\n",
      "AttributeError: module '__main__' has no attribute '/home/szong/'\n",
      "\n",
      "----------------------------------------------------------------------\n",
      "Ran 1 test in 0.001s\n",
      "\n",
      "FAILED (errors=1)\n"
     ]
    },
    {
     "ename": "SystemExit",
     "evalue": "True",
     "output_type": "error",
     "traceback": [
      "An exception has occurred, use %tb to see the full traceback.\n",
      "\u001b[0;31mSystemExit\u001b[0m\u001b[0;31m:\u001b[0m True\n"
     ]
    },
    {
     "name": "stderr",
     "output_type": "stream",
     "text": [
      "/projects/da_workspace/software/miniconda/envs/py38/lib/python3.8/site-packages/IPython/core/interactiveshell.py:3339: UserWarning: To exit: use 'exit', 'quit', or Ctrl-D.\n",
      "  warn(\"To exit: use 'exit', 'quit', or Ctrl-D.\", stacklevel=1)\n"
     ]
    }
   ],
   "source": [
    "# run this using python command line: python3 utils_test.py \n",
    "# or test a specific test method: python3 utils_test.py UtilsTestCase.test_to_str_bytes\n",
    "from unittest import TestCase, main\n",
    "from utils import to_str\n",
    "\n",
    "class UtilsTestCase(TestCase):\n",
    "    def test_to_str_bytes(self):\n",
    "        self.assertEqual('hello', to_str(b'hello'))\n",
    "    \n",
    "    def test_to_str_str(self):\n",
    "        self.assertEqual('hello', to_str('hello'))\n",
    "        \n",
    "    def test_failing(self):\n",
    "        self.assertEqual('incorrect', to_str('hello'))\n",
    "        \n",
    "if __name__ == '__main__':\n",
    "    main()"
   ]
  },
  {
   "cell_type": "code",
   "execution_count": 244,
   "metadata": {},
   "outputs": [
    {
     "name": "stdout",
     "output_type": "stream",
     "text": [
      "Help on class TestCase in module unittest.case:\n",
      "\n",
      "class TestCase(builtins.object)\n",
      " |  TestCase(methodName='runTest')\n",
      " |  \n",
      " |  A class whose instances are single test cases.\n",
      " |  \n",
      " |  By default, the test code itself should be placed in a method named\n",
      " |  'runTest'.\n",
      " |  \n",
      " |  If the fixture may be used for many test cases, create as\n",
      " |  many test methods as are needed. When instantiating such a TestCase\n",
      " |  subclass, specify in the constructor arguments the name of the test method\n",
      " |  that the instance is to execute.\n",
      " |  \n",
      " |  Test authors should subclass TestCase for their own tests. Construction\n",
      " |  and deconstruction of the test's environment ('fixture') can be\n",
      " |  implemented by overriding the 'setUp' and 'tearDown' methods respectively.\n",
      " |  \n",
      " |  If it is necessary to override the __init__ method, the base class\n",
      " |  __init__ method must always be called. It is important that subclasses\n",
      " |  should not change the signature of their __init__ method, since instances\n",
      " |  of the classes are instantiated automatically by parts of the framework\n",
      " |  in order to be run.\n",
      " |  \n",
      " |  When subclassing TestCase, you can set these attributes:\n",
      " |  * failureException: determines which exception will be raised when\n",
      " |      the instance's assertion methods fail; test methods raising this\n",
      " |      exception will be deemed to have 'failed' rather than 'errored'.\n",
      " |  * longMessage: determines whether long messages (including repr of\n",
      " |      objects used in assert methods) will be printed on failure in *addition*\n",
      " |      to any explicit message passed.\n",
      " |  * maxDiff: sets the maximum length of a diff in failure messages\n",
      " |      by assert methods using difflib. It is looked up as an instance\n",
      " |      attribute so can be configured by individual tests if required.\n",
      " |  \n",
      " |  Methods defined here:\n",
      " |  \n",
      " |  __call__(self, *args, **kwds)\n",
      " |      Call self as a function.\n",
      " |  \n",
      " |  __eq__(self, other)\n",
      " |      Return self==value.\n",
      " |  \n",
      " |  __hash__(self)\n",
      " |      Return hash(self).\n",
      " |  \n",
      " |  __init__(self, methodName='runTest')\n",
      " |      Create an instance of the class that will use the named test\n",
      " |      method when executed. Raises a ValueError if the instance does\n",
      " |      not have a method with the specified name.\n",
      " |  \n",
      " |  __repr__(self)\n",
      " |      Return repr(self).\n",
      " |  \n",
      " |  __str__(self)\n",
      " |      Return str(self).\n",
      " |  \n",
      " |  addCleanup(self, function, /, *args, **kwargs)\n",
      " |      Add a function, with arguments, to be called when the test is\n",
      " |      completed. Functions added are called on a LIFO basis and are\n",
      " |      called after tearDown on test failure or success.\n",
      " |      \n",
      " |      Cleanup items are called even if setUp fails (unlike tearDown).\n",
      " |  \n",
      " |  addTypeEqualityFunc(self, typeobj, function)\n",
      " |      Add a type specific assertEqual style function to compare a type.\n",
      " |      \n",
      " |      This method is for use by TestCase subclasses that need to register\n",
      " |      their own type equality functions to provide nicer error messages.\n",
      " |      \n",
      " |      Args:\n",
      " |          typeobj: The data type to call this function on when both values\n",
      " |                  are of the same type in assertEqual().\n",
      " |          function: The callable taking two arguments and an optional\n",
      " |                  msg= argument that raises self.failureException with a\n",
      " |                  useful error message when the two arguments are not equal.\n",
      " |  \n",
      " |  assertAlmostEqual(self, first, second, places=None, msg=None, delta=None)\n",
      " |      Fail if the two objects are unequal as determined by their\n",
      " |      difference rounded to the given number of decimal places\n",
      " |      (default 7) and comparing to zero, or by comparing that the\n",
      " |      difference between the two objects is more than the given\n",
      " |      delta.\n",
      " |      \n",
      " |      Note that decimal places (from zero) are usually not the same\n",
      " |      as significant digits (measured from the most significant digit).\n",
      " |      \n",
      " |      If the two objects compare equal then they will automatically\n",
      " |      compare almost equal.\n",
      " |  \n",
      " |  assertAlmostEquals = deprecated_func(*args, **kwargs)\n",
      " |  \n",
      " |  assertCountEqual(self, first, second, msg=None)\n",
      " |      Asserts that two iterables have the same elements, the same number of\n",
      " |      times, without regard to order.\n",
      " |      \n",
      " |          self.assertEqual(Counter(list(first)),\n",
      " |                           Counter(list(second)))\n",
      " |      \n",
      " |       Example:\n",
      " |          - [0, 1, 1] and [1, 0, 1] compare equal.\n",
      " |          - [0, 0, 1] and [0, 1] compare unequal.\n",
      " |  \n",
      " |  assertDictContainsSubset(self, subset, dictionary, msg=None)\n",
      " |      Checks whether dictionary is a superset of subset.\n",
      " |  \n",
      " |  assertDictEqual(self, d1, d2, msg=None)\n",
      " |  \n",
      " |  assertEqual(self, first, second, msg=None)\n",
      " |      Fail if the two objects are unequal as determined by the '=='\n",
      " |      operator.\n",
      " |  \n",
      " |  assertEquals = deprecated_func(*args, **kwargs)\n",
      " |  \n",
      " |  assertFalse(self, expr, msg=None)\n",
      " |      Check that the expression is false.\n",
      " |  \n",
      " |  assertGreater(self, a, b, msg=None)\n",
      " |      Just like self.assertTrue(a > b), but with a nicer default message.\n",
      " |  \n",
      " |  assertGreaterEqual(self, a, b, msg=None)\n",
      " |      Just like self.assertTrue(a >= b), but with a nicer default message.\n",
      " |  \n",
      " |  assertIn(self, member, container, msg=None)\n",
      " |      Just like self.assertTrue(a in b), but with a nicer default message.\n",
      " |  \n",
      " |  assertIs(self, expr1, expr2, msg=None)\n",
      " |      Just like self.assertTrue(a is b), but with a nicer default message.\n",
      " |  \n",
      " |  assertIsInstance(self, obj, cls, msg=None)\n",
      " |      Same as self.assertTrue(isinstance(obj, cls)), with a nicer\n",
      " |      default message.\n",
      " |  \n",
      " |  assertIsNone(self, obj, msg=None)\n",
      " |      Same as self.assertTrue(obj is None), with a nicer default message.\n",
      " |  \n",
      " |  assertIsNot(self, expr1, expr2, msg=None)\n",
      " |      Just like self.assertTrue(a is not b), but with a nicer default message.\n",
      " |  \n",
      " |  assertIsNotNone(self, obj, msg=None)\n",
      " |      Included for symmetry with assertIsNone.\n",
      " |  \n",
      " |  assertLess(self, a, b, msg=None)\n",
      " |      Just like self.assertTrue(a < b), but with a nicer default message.\n",
      " |  \n",
      " |  assertLessEqual(self, a, b, msg=None)\n",
      " |      Just like self.assertTrue(a <= b), but with a nicer default message.\n",
      " |  \n",
      " |  assertListEqual(self, list1, list2, msg=None)\n",
      " |      A list-specific equality assertion.\n",
      " |      \n",
      " |      Args:\n",
      " |          list1: The first list to compare.\n",
      " |          list2: The second list to compare.\n",
      " |          msg: Optional message to use on failure instead of a list of\n",
      " |                  differences.\n",
      " |  \n",
      " |  assertLogs(self, logger=None, level=None)\n",
      " |      Fail unless a log message of level *level* or higher is emitted\n",
      " |      on *logger_name* or its children.  If omitted, *level* defaults to\n",
      " |      INFO and *logger* defaults to the root logger.\n",
      " |      \n",
      " |      This method must be used as a context manager, and will yield\n",
      " |      a recording object with two attributes: `output` and `records`.\n",
      " |      At the end of the context manager, the `output` attribute will\n",
      " |      be a list of the matching formatted log messages and the\n",
      " |      `records` attribute will be a list of the corresponding LogRecord\n",
      " |      objects.\n",
      " |      \n",
      " |      Example::\n",
      " |      \n",
      " |          with self.assertLogs('foo', level='INFO') as cm:\n",
      " |              logging.getLogger('foo').info('first message')\n",
      " |              logging.getLogger('foo.bar').error('second message')\n",
      " |          self.assertEqual(cm.output, ['INFO:foo:first message',\n",
      " |                                       'ERROR:foo.bar:second message'])\n",
      " |  \n",
      " |  assertMultiLineEqual(self, first, second, msg=None)\n",
      " |      Assert that two multi-line strings are equal.\n",
      " |  \n",
      " |  assertNotAlmostEqual(self, first, second, places=None, msg=None, delta=None)\n",
      " |      Fail if the two objects are equal as determined by their\n",
      " |      difference rounded to the given number of decimal places\n",
      " |      (default 7) and comparing to zero, or by comparing that the\n",
      " |      difference between the two objects is less than the given delta.\n",
      " |      \n",
      " |      Note that decimal places (from zero) are usually not the same\n",
      " |      as significant digits (measured from the most significant digit).\n",
      " |      \n",
      " |      Objects that are equal automatically fail.\n",
      " |  \n",
      " |  assertNotAlmostEquals = deprecated_func(*args, **kwargs)\n",
      " |  \n",
      " |  assertNotEqual(self, first, second, msg=None)\n",
      " |      Fail if the two objects are equal as determined by the '!='\n",
      " |      operator.\n",
      " |  \n",
      " |  assertNotEquals = deprecated_func(*args, **kwargs)\n",
      " |  \n",
      " |  assertNotIn(self, member, container, msg=None)\n",
      " |      Just like self.assertTrue(a not in b), but with a nicer default message.\n",
      " |  \n",
      " |  assertNotIsInstance(self, obj, cls, msg=None)\n",
      " |      Included for symmetry with assertIsInstance.\n",
      " |  \n",
      " |  assertNotRegex(self, text, unexpected_regex, msg=None)\n",
      " |      Fail the test if the text matches the regular expression.\n",
      " |  \n",
      " |  assertNotRegexpMatches = deprecated_func(*args, **kwargs)\n",
      " |  \n",
      " |  assertRaises(self, expected_exception, *args, **kwargs)\n",
      " |      Fail unless an exception of class expected_exception is raised\n",
      " |      by the callable when invoked with specified positional and\n",
      " |      keyword arguments. If a different type of exception is\n",
      " |      raised, it will not be caught, and the test case will be\n",
      " |      deemed to have suffered an error, exactly as for an\n",
      " |      unexpected exception.\n",
      " |      \n",
      " |      If called with the callable and arguments omitted, will return a\n",
      " |      context object used like this::\n",
      " |      \n",
      " |           with self.assertRaises(SomeException):\n",
      " |               do_something()\n",
      " |      \n",
      " |      An optional keyword argument 'msg' can be provided when assertRaises\n",
      " |      is used as a context object.\n",
      " |      \n",
      " |      The context manager keeps a reference to the exception as\n",
      " |      the 'exception' attribute. This allows you to inspect the\n",
      " |      exception after the assertion::\n",
      " |      \n",
      " |          with self.assertRaises(SomeException) as cm:\n",
      " |              do_something()\n",
      " |          the_exception = cm.exception\n",
      " |          self.assertEqual(the_exception.error_code, 3)\n",
      " |  \n",
      " |  assertRaisesRegex(self, expected_exception, expected_regex, *args, **kwargs)\n",
      " |      Asserts that the message in a raised exception matches a regex.\n",
      " |      \n",
      " |      Args:\n",
      " |          expected_exception: Exception class expected to be raised.\n",
      " |          expected_regex: Regex (re.Pattern object or string) expected\n",
      " |                  to be found in error message.\n",
      " |          args: Function to be called and extra positional args.\n",
      " |          kwargs: Extra kwargs.\n",
      " |          msg: Optional message used in case of failure. Can only be used\n",
      " |                  when assertRaisesRegex is used as a context manager.\n",
      " |  \n",
      " |  assertRaisesRegexp = deprecated_func(*args, **kwargs)\n",
      " |  \n",
      " |  assertRegex(self, text, expected_regex, msg=None)\n",
      " |      Fail the test unless the text matches the regular expression.\n",
      " |  \n",
      " |  assertRegexpMatches = deprecated_func(*args, **kwargs)\n",
      " |  \n",
      " |  assertSequenceEqual(self, seq1, seq2, msg=None, seq_type=None)\n",
      " |      An equality assertion for ordered sequences (like lists and tuples).\n",
      " |      \n",
      " |      For the purposes of this function, a valid ordered sequence type is one\n",
      " |      which can be indexed, has a length, and has an equality operator.\n",
      " |      \n",
      " |      Args:\n",
      " |          seq1: The first sequence to compare.\n",
      " |          seq2: The second sequence to compare.\n",
      " |          seq_type: The expected datatype of the sequences, or None if no\n",
      " |                  datatype should be enforced.\n",
      " |          msg: Optional message to use on failure instead of a list of\n",
      " |                  differences.\n",
      " |  \n",
      " |  assertSetEqual(self, set1, set2, msg=None)\n",
      " |      A set-specific equality assertion.\n",
      " |      \n",
      " |      Args:\n",
      " |          set1: The first set to compare.\n",
      " |          set2: The second set to compare.\n",
      " |          msg: Optional message to use on failure instead of a list of\n",
      " |                  differences.\n",
      " |      \n",
      " |      assertSetEqual uses ducktyping to support different types of sets, and\n",
      " |      is optimized for sets specifically (parameters must support a\n",
      " |      difference method).\n",
      " |  \n",
      " |  assertTrue(self, expr, msg=None)\n",
      " |      Check that the expression is true.\n",
      " |  \n",
      " |  assertTupleEqual(self, tuple1, tuple2, msg=None)\n",
      " |      A tuple-specific equality assertion.\n",
      " |      \n",
      " |      Args:\n",
      " |          tuple1: The first tuple to compare.\n",
      " |          tuple2: The second tuple to compare.\n",
      " |          msg: Optional message to use on failure instead of a list of\n",
      " |                  differences.\n",
      " |  \n",
      " |  assertWarns(self, expected_warning, *args, **kwargs)\n",
      " |      Fail unless a warning of class warnClass is triggered\n",
      " |      by the callable when invoked with specified positional and\n",
      " |      keyword arguments.  If a different type of warning is\n",
      " |      triggered, it will not be handled: depending on the other\n",
      " |      warning filtering rules in effect, it might be silenced, printed\n",
      " |      out, or raised as an exception.\n",
      " |      \n",
      " |      If called with the callable and arguments omitted, will return a\n",
      " |      context object used like this::\n",
      " |      \n",
      " |           with self.assertWarns(SomeWarning):\n",
      " |               do_something()\n",
      " |      \n",
      " |      An optional keyword argument 'msg' can be provided when assertWarns\n",
      " |      is used as a context object.\n",
      " |      \n",
      " |      The context manager keeps a reference to the first matching\n",
      " |      warning as the 'warning' attribute; similarly, the 'filename'\n",
      " |      and 'lineno' attributes give you information about the line\n",
      " |      of Python code from which the warning was triggered.\n",
      " |      This allows you to inspect the warning after the assertion::\n",
      " |      \n",
      " |          with self.assertWarns(SomeWarning) as cm:\n",
      " |              do_something()\n",
      " |          the_warning = cm.warning\n",
      " |          self.assertEqual(the_warning.some_attribute, 147)\n",
      " |  \n",
      " |  assertWarnsRegex(self, expected_warning, expected_regex, *args, **kwargs)\n",
      " |      Asserts that the message in a triggered warning matches a regexp.\n",
      " |      Basic functioning is similar to assertWarns() with the addition\n",
      " |      that only warnings whose messages also match the regular expression\n",
      " |      are considered successful matches.\n",
      " |      \n",
      " |      Args:\n",
      " |          expected_warning: Warning class expected to be triggered.\n",
      " |          expected_regex: Regex (re.Pattern object or string) expected\n",
      " |                  to be found in error message.\n",
      " |          args: Function to be called and extra positional args.\n",
      " |          kwargs: Extra kwargs.\n",
      " |          msg: Optional message used in case of failure. Can only be used\n",
      " |                  when assertWarnsRegex is used as a context manager.\n",
      " |  \n",
      " |  assert_ = deprecated_func(*args, **kwargs)\n",
      " |  \n",
      " |  countTestCases(self)\n",
      " |  \n",
      " |  debug(self)\n",
      " |      Run the test without collecting errors in a TestResult\n",
      " |  \n",
      " |  defaultTestResult(self)\n",
      " |  \n",
      " |  doCleanups(self)\n",
      " |      Execute all cleanup functions. Normally called for you after\n",
      " |      tearDown.\n",
      " |  \n",
      " |  fail(self, msg=None)\n",
      " |      Fail immediately, with the given message.\n",
      " |  \n",
      " |  failIf = deprecated_func(*args, **kwargs)\n",
      " |  \n",
      " |  failIfAlmostEqual = deprecated_func(*args, **kwargs)\n",
      " |  \n",
      " |  failIfEqual = deprecated_func(*args, **kwargs)\n",
      " |  \n",
      " |  failUnless = deprecated_func(*args, **kwargs)\n",
      " |  \n",
      " |  failUnlessAlmostEqual = deprecated_func(*args, **kwargs)\n",
      " |  \n",
      " |  failUnlessEqual = deprecated_func(*args, **kwargs)\n",
      " |  \n",
      " |  failUnlessRaises = deprecated_func(*args, **kwargs)\n",
      " |  \n",
      " |  id(self)\n",
      " |  \n",
      " |  run(self, result=None)\n",
      " |  \n",
      " |  setUp(self)\n",
      " |      Hook method for setting up the test fixture before exercising it.\n",
      " |  \n",
      " |  shortDescription(self)\n",
      " |      Returns a one-line description of the test, or None if no\n",
      " |      description has been provided.\n",
      " |      \n",
      " |      The default implementation of this method returns the first line of\n",
      " |      the specified test method's docstring.\n",
      " |  \n",
      " |  skipTest(self, reason)\n",
      " |      Skip this test.\n",
      " |  \n",
      " |  subTest(self, msg=<object object at 0x7f86178cacc0>, **params)\n",
      " |      Return a context manager that will return the enclosed block\n",
      " |      of code in a subtest identified by the optional message and\n",
      " |      keyword parameters.  A failure in the subtest marks the test\n",
      " |      case as failed but resumes execution at the end of the enclosed\n",
      " |      block, allowing further test code to be executed.\n",
      " |  \n",
      " |  tearDown(self)\n",
      " |      Hook method for deconstructing the test fixture after testing it.\n",
      " |  \n",
      " |  ----------------------------------------------------------------------\n",
      " |  Class methods defined here:\n",
      " |  \n",
      " |  addClassCleanup(function, /, *args, **kwargs) from builtins.type\n",
      " |      Same as addCleanup, except the cleanup items are called even if\n",
      " |      setUpClass fails (unlike tearDownClass).\n",
      " |  \n",
      " |  doClassCleanups() from builtins.type\n",
      " |      Execute all class cleanup functions. Normally called for you after\n",
      " |      tearDownClass.\n",
      " |  \n",
      " |  setUpClass() from builtins.type\n",
      " |      Hook method for setting up class fixture before running tests in the class.\n",
      " |  \n",
      " |  tearDownClass() from builtins.type\n",
      " |      Hook method for deconstructing the class fixture after running all tests in the class.\n",
      " |  \n",
      " |  ----------------------------------------------------------------------\n",
      " |  Data descriptors defined here:\n",
      " |  \n",
      " |  __dict__\n",
      " |      dictionary for instance variables (if defined)\n",
      " |  \n",
      " |  __weakref__\n",
      " |      list of weak references to the object (if defined)\n",
      " |  \n",
      " |  ----------------------------------------------------------------------\n",
      " |  Data and other attributes defined here:\n",
      " |  \n",
      " |  failureException = <class 'AssertionError'>\n",
      " |      Assertion failed.\n",
      " |  \n",
      " |  longMessage = True\n",
      " |  \n",
      " |  maxDiff = 640\n",
      "\n"
     ]
    }
   ],
   "source": [
    "help(TestCase)"
   ]
  },
  {
   "cell_type": "markdown",
   "metadata": {},
   "source": [
    "find bugs and troubleshoot program using print, unittest, and interactive python debugger, when the program reaches to breakpoint, it returns a pdb shell, which is a full python shell. it allows you to inpsect all variables, and step through the rest of the program by using step, next, continue, return, quit. you can also do post mortem pdb."
   ]
  },
  {
   "cell_type": "code",
   "execution_count": 254,
   "metadata": {},
   "outputs": [
    {
     "name": "stdout",
     "output_type": "stream",
     "text": [
      "0.5291502622129182\n"
     ]
    }
   ],
   "source": [
    "import math\n",
    "\n",
    "def compute_rmse(observed, ideal):\n",
    "    total_err_2 = 0\n",
    "    count =0\n",
    "    for got, wanted in zip(observed, ideal):\n",
    "        err_2 = (got - wanted) ** 2\n",
    "#         breakpoint() # start the debugger here\n",
    "        total_err_2 += err_2\n",
    "        count += 1\n",
    "        \n",
    "    mean_err = total_err_2 / count\n",
    "    rmse = math.sqrt(mean_err)\n",
    "    return rmse\n",
    "\n",
    "result = compute_rmse([1.8, 1.7, 3.2, 6], \n",
    "                      [2, 1.5, 3, 5])\n",
    "print(result)"
   ]
  }
 ],
 "metadata": {
  "kernelspec": {
   "display_name": "Python 3",
   "language": "python",
   "name": "python3"
  },
  "language_info": {
   "codemirror_mode": {
    "name": "ipython",
    "version": 3
   },
   "file_extension": ".py",
   "mimetype": "text/x-python",
   "name": "python",
   "nbconvert_exporter": "python",
   "pygments_lexer": "ipython3",
   "version": "3.8.1"
  }
 },
 "nbformat": 4,
 "nbformat_minor": 2
}

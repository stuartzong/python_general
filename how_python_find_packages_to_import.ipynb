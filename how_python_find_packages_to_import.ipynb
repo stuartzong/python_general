{
 "cells": [
  {
   "cell_type": "code",
   "execution_count": 1,
   "metadata": {},
   "outputs": [],
   "source": [
    "import sys\n",
    "import os"
   ]
  },
  {
   "cell_type": "markdown",
   "metadata": {},
   "source": [
    "this is a great link:\n",
    "https://leemendelowitz.github.io/blog/how-does-python-find-packages.html\n",
    "\n",
    "python looks for modules in sys.path\n",
    "\n",
    "As the docs explain, sys.path is populated using the current working directory, followed by directories listed in your PYTHONPATH environment variable, followed by installation-dependent default paths, which are controlled by the site module.\n",
    "\n",
    "You can read more about sys.path in the Python docs.\n",
    "\n",
    "Assuming your PYTHONPATH environment variable is not set, sys.path will consist of the current working directory plus any manipulations made to it by the site module.\n",
    "\n",
    "The site module is automatically imported when you start Python, you can read more about how it manipulates your sys.path in the Python docs.\n",
    "\n",
    "It's a bit involved.\n",
    "\n",
    "You can manipulate sys.path\n",
    "\n",
    "You can manipulate sys.path during a Python session and this will change how Python finds modules. For example:"
   ]
  },
  {
   "cell_type": "code",
   "execution_count": 2,
   "metadata": {},
   "outputs": [
    {
     "name": "stdout",
     "output_type": "stream",
     "text": [
      "/projects/trans_scratch/validations/workspace/szong/development/python_general\n",
      "/projects/da_workspace/software/miniconda/envs/da/lib/python37.zip\n",
      "/projects/da_workspace/software/miniconda/envs/da/lib/python3.7\n",
      "/projects/da_workspace/software/miniconda/envs/da/lib/python3.7/lib-dynload\n",
      "\n",
      "/projects/da_workspace/software/miniconda/envs/da/lib/python3.7/site-packages\n",
      "/projects/da_workspace/software/miniconda/envs/da/lib/python3.7/site-packages/IPython/extensions\n",
      "/home/szong/.ipython\n"
     ]
    }
   ],
   "source": [
    "print('\\n'.join(sys.path))"
   ]
  },
  {
   "cell_type": "code",
   "execution_count": 3,
   "metadata": {},
   "outputs": [
    {
     "ename": "ModuleNotFoundError",
     "evalue": "No module named 'hi'",
     "output_type": "error",
     "traceback": [
      "\u001b[0;31m---------------------------------------------------------------------------\u001b[0m",
      "\u001b[0;31mModuleNotFoundError\u001b[0m                       Traceback (most recent call last)",
      "\u001b[0;32m<ipython-input-3-044ff6040119>\u001b[0m in \u001b[0;36m<module>\u001b[0;34m\u001b[0m\n\u001b[1;32m      1\u001b[0m \u001b[0;31m# This won't work - there is no hi module\u001b[0m\u001b[0;34m\u001b[0m\u001b[0;34m\u001b[0m\u001b[0;34m\u001b[0m\u001b[0m\n\u001b[0;32m----> 2\u001b[0;31m \u001b[0;32mimport\u001b[0m \u001b[0mhi\u001b[0m\u001b[0;34m\u001b[0m\u001b[0;34m\u001b[0m\u001b[0m\n\u001b[0m",
      "\u001b[0;31mModuleNotFoundError\u001b[0m: No module named 'hi'"
     ]
    }
   ],
   "source": [
    "# This won't work - there is no hi module\n",
    "import hi "
   ]
  },
  {
   "cell_type": "code",
   "execution_count": 4,
   "metadata": {},
   "outputs": [
    {
     "name": "stdout",
     "output_type": "stream",
     "text": [
      "hi\n",
      "10\n"
     ]
    }
   ],
   "source": [
    "# Create a hi module in your home directory.\n",
    "home_dir = os.path.expanduser(\"~\")\n",
    "my_module_file = os.path.join(home_dir, \"hi.py\")\n",
    "with open(my_module_file, 'w') as f:\n",
    "  f.write('print(\"hi\")\\n')\n",
    "  f.write('a=10\\n')\n",
    "\n",
    "# Add the home directory to sys.path\n",
    "sys.path.append(home_dir)\n",
    "\n",
    "# Now this works, and prints hi!\n",
    "import hi \n",
    "print(hi.a)"
   ]
  },
  {
   "cell_type": "markdown",
   "metadata": {},
   "source": [
    "When you import a module, you usually can check the __file__ attribute of the module to see where the module is in your filesystem:"
   ]
  },
  {
   "cell_type": "code",
   "execution_count": 7,
   "metadata": {},
   "outputs": [
    {
     "data": {
      "text/plain": [
       "'/projects/da_workspace/software/miniconda/envs/da/lib/python3.7/site-packages/numpy/__init__.py'"
      ]
     },
     "execution_count": 7,
     "metadata": {},
     "output_type": "execute_result"
    }
   ],
   "source": [
    "import numpy\n",
    "numpy.__file__"
   ]
  },
  {
   "cell_type": "code",
   "execution_count": 11,
   "metadata": {},
   "outputs": [],
   "source": [
    "import pickle\n",
    "import gzip\n",
    "import numpy\n",
    "\n",
    "f = gzip.open('test.pkl.gz', 'rb')\n",
    "# training_data, validation_data, test_data = pickle.load(f, encoding='latin1')\n"
   ]
  },
  {
   "cell_type": "code",
   "execution_count": 12,
   "metadata": {},
   "outputs": [
    {
     "name": "stdout",
     "output_type": "stream",
     "text": [
      "/projects/da_workspace/software/miniconda/envs/da/bin/python\r\n"
     ]
    }
   ],
   "source": [
    "!which python"
   ]
  }
 ],
 "metadata": {
  "kernelspec": {
   "display_name": "Python 3",
   "language": "python",
   "name": "python3"
  },
  "language_info": {
   "codemirror_mode": {
    "name": "ipython",
    "version": 3
   },
   "file_extension": ".py",
   "mimetype": "text/x-python",
   "name": "python",
   "nbconvert_exporter": "python",
   "pygments_lexer": "ipython3",
   "version": "3.7.3"
  }
 },
 "nbformat": 4,
 "nbformat_minor": 2
}

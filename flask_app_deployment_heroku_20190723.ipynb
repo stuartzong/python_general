{
 "cells": [
  {
   "cell_type": "markdown",
   "metadata": {},
   "source": [
    "### build a igv reader app."
   ]
  },
  {
   "cell_type": "markdown",
   "metadata": {},
   "source": [
    "how i deployed igv reader app on Heroku?"
   ]
  },
  {
   "cell_type": "markdown",
   "metadata": {},
   "source": [
    "http://stuart-bear-classifier.herokuapp.com/"
   ]
  },
  {
   "cell_type": "markdown",
   "metadata": {},
   "source": [
    "web url:\n",
    "    \n",
    "https://flask-microblog-sz1.herokuapp.com/\n",
    "\n",
    "heroku account:\n",
    "\n",
    "zszong@hotmail.com, Flask192020!\n",
    "\n",
    "error email:\n",
    "flaskerror2019@gmail.com, Flask192020\n",
    "\n",
    "microblog login:\n",
    "szong, flask"
   ]
  },
  {
   "cell_type": "markdown",
   "metadata": {},
   "source": [
    "delopyment notes:\n",
    "\n",
    "local repository has two remote, origin and keroku\n",
    "\n",
    "push to heroku master branch from local\n",
    "\n",
    "\n",
    "heroku login\n",
    "\n",
    "heroku apps:create flask-microblog-sz1\n",
    "\n",
    "heroku addons:add heroku-postgresql:hobby-dev\n",
    "\n",
    "heroku config:set LOG_TO_STDOUT=1\n",
    "\n",
    "heroku config:set FLASK_APP=microblog.py\n",
    "\n",
    "git checkout -b deploy\n",
    "\n",
    "git push heroku deploy:master\n"
   ]
  },
  {
   "cell_type": "markdown",
   "metadata": {},
   "source": [
    "need to install postgresql locally, so that you can connect to the heroku database. I don't have root priviledge so i have install from source. follow [this post](https://www.endpoint.com/blog/2013/06/12/installing-postgresql-without-root). for some reason, it can not find readline library. so i chose to install without readline support:\n",
    "\n",
    "./configure --prefix=$HOME/postgres/ --with-python PYTHON=/projects/da_workspace/software/miniconda/envs/flaskenv/bin/python3.7  --without-readline"
   ]
  },
  {
   "cell_type": "markdown",
   "metadata": {},
   "source": [
    "to look at my database:\n",
    "    \n",
    "ssh psql03  \n",
    "heroku pg:psql --app=flask-microblog-sz1   \n",
    "**\\dt** shows all tables in current schema  \n",
    "flask-microblog-sz1::DATABASE=> select * from followers;\n",
    "\n"
   ]
  }
 ],
 "metadata": {
  "kernelspec": {
   "display_name": "Python 3",
   "language": "python",
   "name": "python3"
  },
  "language_info": {
   "codemirror_mode": {
    "name": "ipython",
    "version": 3
   },
   "file_extension": ".py",
   "mimetype": "text/x-python",
   "name": "python",
   "nbconvert_exporter": "python",
   "pygments_lexer": "ipython3",
   "version": "3.8.1"
  }
 },
 "nbformat": 4,
 "nbformat_minor": 2
}

{
 "cells": [
  {
   "cell_type": "markdown",
   "metadata": {},
   "source": [
    "#### installation and command to start project/app etc."
   ]
  },
  {
   "cell_type": "markdown",
   "metadata": {},
   "source": [
    "pip install --upgrade pip\n",
    "\n",
    "pip install Django\n",
    "\n",
    "python -m django --version\n",
    "\n",
    "mkdir django_dev\n",
    "\n",
    "cd django_dev/\n",
    "\n",
    "django-admin startproject mysite\n",
    "\n",
    "cd mysite/\n",
    "\n",
    "python manage.py runserver\n",
    "\n",
    "python manage.py migrate\n",
    "\n",
    "python manage.py startapp polls\n",
    "\n",
    "python manage.py makemigrations polls\n",
    "\n",
    "python manage.py sqlmigrate polls 0001\n",
    "\n",
    "python manage.py migrate\n",
    "\n",
    "python manage.py shell\n",
    "\n",
    "python manage.py createsuperuser\n",
    "\n",
    "python manage.py runserver\n"
   ]
  }
 ],
 "metadata": {
  "kernelspec": {
   "display_name": "Python 3",
   "language": "python",
   "name": "python3"
  },
  "language_info": {
   "codemirror_mode": {
    "name": "ipython",
    "version": 3
   },
   "file_extension": ".py",
   "mimetype": "text/x-python",
   "name": "python",
   "nbconvert_exporter": "python",
   "pygments_lexer": "ipython3",
   "version": "3.6.7"
  }
 },
 "nbformat": 4,
 "nbformat_minor": 2
}

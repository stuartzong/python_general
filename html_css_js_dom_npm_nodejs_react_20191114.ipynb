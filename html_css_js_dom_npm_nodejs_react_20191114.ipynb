{
 "cells": [
  {
   "cell_type": "markdown",
   "metadata": {},
   "source": [
    "# DOM"
   ]
  },
  {
   "cell_type": "markdown",
   "metadata": {},
   "source": [
    "https://www.taniarascia.com/introduction-to-the-dom/"
   ]
  },
  {
   "cell_type": "markdown",
   "metadata": {},
   "source": [
    "DOM is the document object model. It is an essential part to make website interactive. Javascript is the client-side scripting language that connects to DOM in a internet browser. With node.js, javascript can be used on server side as well.\n",
    "\n",
    "npm does not mearn node package manager. but does exactly that. so people refer it anyway.\n",
    "\n",
    "At a basic level, a website is a html document. the web browser interpret the html and css and render the style, content, and structure into the webpage you see. the browser also creates a representation of the docuemnt known as document object model.The model allows javascript to access the DOM objects, for example, the text content and other elements of the website.\n",
    "\n",
    "a client-side javascript can modify the DOM object, for example change the webpage to a different background. you can type in document.body.style.backgroundColor = 'fuchsia'; in the javascript console. this access DOM's document object change the body style backgroundcolor to fuchsia. you can see the change realtime after you hit enter. this change is temporary to this session. if you refresh the page the change will disappear because this client-side modification does not actually change the html source code. \n",
    "\n",
    "react is an open source project created by facebook. it lets you to build user interface quickly on the front end.\n"
   ]
  },
  {
   "cell_type": "markdown",
   "metadata": {},
   "source": [
    "Throughout this lesson, you learned how to select HTML elements with CSS and apply styles to them. Let’s review what you learned:\n",
    "\n",
    "    CSS can change the look of HTML elements. In order to do this, CSS must select HTML elements, then apply styles to them.\n",
    "    CSS can select HTML elements by tag, class, or ID.\n",
    "    Multiple CSS classes can be applied to one HTML element.\n",
    "    Classes can be reusable, while IDs can only be used once.\n",
    "    IDs are more specific than classes, and classes are more specific than tags. That means IDs will override any styles from a class, and classes will override any styles from a tag selector.\n",
    "    Multiple selectors can be chained together to select an element. This raises the specificity, but can be necessary.\n",
    "    Nested elements can be selected by separating selectors with a space.\n",
    "    The !important flag will override any style, however it should almost never be used, as it is extremely difficult to override.\n",
    "    Multiple unrelated selectors can receive the same styles by separating the selector names with commas.\n",
    "\n"
   ]
  },
  {
   "cell_type": "markdown",
   "metadata": {},
   "source": [
    "p {\n",
    "  font-family: Arial;\n",
    "}\n",
    "h1 {\n",
    "  color: maroon;\n",
    "}\n",
    ".title {\n",
    "  color: teal;\n",
    "}\n",
    ".uppercase {\n",
    "  text-transform: uppercase;\n",
    "}\n",
    "\n",
    ".publish-time {\n",
    "  color:gray;\n",
    "}\n",
    ".cursive {\n",
    "  font-family: cursive;\n",
    "  \n",
    "}\n",
    ".capitalize {\n",
    "  text-transform: capitalize;\n",
    "}\n",
    "h2.destination {\n",
    "  font-family: cursive;\n",
    "  color: red;\n",
    "}\n",
    ".description h5 {\n",
    "  color:teal;\n",
    "}\n",
    "\n",
    "h5, \n",
    "p {\n",
    "  font-family: Georgia;\n",
    "  color: red;\n",
    "}"
   ]
  },
  {
   "cell_type": "markdown",
   "metadata": {},
   "source": [
    "Incredible work! You used CSS to alter text and images throughout a website. Throughout this lesson, you learned concepts including:\n",
    "\n",
    "    CSS declarations are structured into property and value pairs.\n",
    "    The font-family property defines the typeface of an element.\n",
    "    font-size controls the size of text displayed.\n",
    "    font-weight defines how thin or thick text is displayed.\n",
    "    The text-align property places text in the left, right, or center of its parent container.\n",
    "    Text can have two different color attributes: color and background-color. color defines the color of the text, while background-color defines the color behind the text.\n",
    "    CSS can make an element transparent with the opacity property.\n",
    "    CSS can also set the background of an element to an image with the background-image property.\n",
    "\n"
   ]
  },
  {
   "cell_type": "markdown",
   "metadata": {},
   "source": [
    "img {\n",
    "  height: 150px;\n",
    "}\n",
    ".description {\n",
    "  font-size: 20px;\n",
    "}\n",
    "#cook-time {\n",
    "  font-weight: bold;\n",
    "}\n",
    ".ingredients li {\n",
    "  list-style: square;\n",
    "}\n",
    "p.time {\n",
    "  color: gray;\n",
    "}\n",
    ".external-link {\n",
    "  color: SeaGreen;\n",
    "}\n",
    "h1,\n",
    "h2,\n",
    "p,\n",
    "li {\n",
    "  font-family: Helvetica;\n",
    "  \n",
    "}"
   ]
  },
  {
   "cell_type": "code",
   "execution_count": null,
   "metadata": {},
   "outputs": [],
   "source": []
  },
  {
   "cell_type": "code",
   "execution_count": null,
   "metadata": {},
   "outputs": [],
   "source": []
  }
 ],
 "metadata": {
  "kernelspec": {
   "display_name": "Python 3",
   "language": "python",
   "name": "python3"
  },
  "language_info": {
   "codemirror_mode": {
    "name": "ipython",
    "version": 3
   },
   "file_extension": ".py",
   "mimetype": "text/x-python",
   "name": "python",
   "nbconvert_exporter": "python",
   "pygments_lexer": "ipython3",
   "version": "3.8.1"
  }
 },
 "nbformat": 4,
 "nbformat_minor": 2
}

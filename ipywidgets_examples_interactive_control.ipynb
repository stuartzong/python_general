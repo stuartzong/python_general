{
 "cells": [
  {
   "cell_type": "code",
   "execution_count": 2,
   "metadata": {},
   "outputs": [
    {
     "data": {
      "text/html": [
       "        <script type=\"text/javascript\">\n",
       "        window.PlotlyConfig = {MathJaxConfig: 'local'};\n",
       "        if (window.MathJax) {MathJax.Hub.Config({SVG: {font: \"STIX-Web\"}});}\n",
       "        if (typeof require !== 'undefined') {\n",
       "        require.undef(\"plotly\");\n",
       "        requirejs.config({\n",
       "            paths: {\n",
       "                'plotly': ['https://cdn.plot.ly/plotly-latest.min']\n",
       "            }\n",
       "        });\n",
       "        require(['plotly'], function(Plotly) {\n",
       "            window._Plotly = Plotly;\n",
       "        });\n",
       "        }\n",
       "        </script>\n",
       "        "
      ]
     },
     "metadata": {},
     "output_type": "display_data"
    },
    {
     "data": {
      "text/html": [
       "        <script type=\"text/javascript\">\n",
       "        window.PlotlyConfig = {MathJaxConfig: 'local'};\n",
       "        if (window.MathJax) {MathJax.Hub.Config({SVG: {font: \"STIX-Web\"}});}\n",
       "        if (typeof require !== 'undefined') {\n",
       "        require.undef(\"plotly\");\n",
       "        requirejs.config({\n",
       "            paths: {\n",
       "                'plotly': ['https://cdn.plot.ly/plotly-latest.min']\n",
       "            }\n",
       "        });\n",
       "        require(['plotly'], function(Plotly) {\n",
       "            window._Plotly = Plotly;\n",
       "        });\n",
       "        }\n",
       "        </script>\n",
       "        "
      ]
     },
     "metadata": {},
     "output_type": "display_data"
    },
    {
     "data": {
      "text/html": [
       "        <script type=\"text/javascript\">\n",
       "        window.PlotlyConfig = {MathJaxConfig: 'local'};\n",
       "        if (window.MathJax) {MathJax.Hub.Config({SVG: {font: \"STIX-Web\"}});}\n",
       "        if (typeof require !== 'undefined') {\n",
       "        require.undef(\"plotly\");\n",
       "        requirejs.config({\n",
       "            paths: {\n",
       "                'plotly': ['https://cdn.plot.ly/plotly-latest.min']\n",
       "            }\n",
       "        });\n",
       "        require(['plotly'], function(Plotly) {\n",
       "            window._Plotly = Plotly;\n",
       "        });\n",
       "        }\n",
       "        </script>\n",
       "        "
      ]
     },
     "metadata": {},
     "output_type": "display_data"
    }
   ],
   "source": [
    "import pandas as pd\n",
    "import numpy as np\n",
    "import matplotlib.pyplot as plt\n",
    "from scipy.stats import binom\n",
    "import  statsmodels.stats.multitest as multitest\n",
    "import itertools\n",
    "\n",
    "# plotly.offline.init_notebook_mode(connected=True)\n",
    "# Standard plotly imports\n",
    "import chart_studio.plotly as py\n",
    "import pandas as pd\n",
    "# import plotly\n",
    "import plotly.graph_objs as go\n",
    "from plotly.offline import iplot\n",
    "\n",
    "from plotly import tools\n",
    "# cufflinks binds plotly directly to python dataframe\n",
    "import cufflinks as cf\n",
    "cf.go_offline()\n",
    "# # Set the global theme\n",
    "cf.set_config_file(world_readable=True, theme='pearl', offline=True)\n",
    "# plotly.offline.init_notebook_mode(connected=True)\n",
    "\n",
    "\n",
    "%matplotlib inline\n",
    "from IPython.core.interactiveshell import InteractiveShell\n",
    "InteractiveShell.ast_node_interactivity = \"all\""
   ]
  },
  {
   "cell_type": "code",
   "execution_count": 3,
   "metadata": {},
   "outputs": [],
   "source": [
    "# to enable jupyter ipython widgets run following line at command line, it does not work by  just running in a bash cel in jupyter notebook\n",
    "# ! jupyter nbextension enable --py widgetsnbextension\n",
    "# to import ipywidgets in jupyter notebook\n",
    "import ipywidgets as widgets\n",
    "from ipywidgets import interact, interact_manual"
   ]
  },
  {
   "cell_type": "code",
   "execution_count": 13,
   "metadata": {},
   "outputs": [],
   "source": [
    "of = '118_patients_integration_long.txt'\n",
    "dfm = pd.read_csv(of, sep='\\t')\n",
    "\n",
    "df = dfm[dfm['chr'] != '-'].copy()\n",
    "df['chr'] = df['chr'].astype(int)\n",
    "df['pos'] = df['pos'].astype(int)\n",
    "df['randnums'] = np.random.randint(1, 100, len(df))"
   ]
  },
  {
   "cell_type": "markdown",
   "metadata": {},
   "source": [
    "# this is very cool. i dont need to repeat executing the cells when i want to look at the data in different range"
   ]
  },
  {
   "cell_type": "code",
   "execution_count": 10,
   "metadata": {},
   "outputs": [
    {
     "data": {
      "text/html": [
       "<div>\n",
       "<style scoped>\n",
       "    .dataframe tbody tr th:only-of-type {\n",
       "        vertical-align: middle;\n",
       "    }\n",
       "\n",
       "    .dataframe tbody tr th {\n",
       "        vertical-align: top;\n",
       "    }\n",
       "\n",
       "    .dataframe thead th {\n",
       "        text-align: right;\n",
       "    }\n",
       "</style>\n",
       "<table border=\"1\" class=\"dataframe\">\n",
       "  <thead>\n",
       "    <tr style=\"text-align: right;\">\n",
       "      <th></th>\n",
       "      <th>patient</th>\n",
       "      <th>virus</th>\n",
       "      <th>comments</th>\n",
       "      <th>integration_status</th>\n",
       "      <th>107_results</th>\n",
       "      <th>101_results</th>\n",
       "      <th>integration_detected</th>\n",
       "      <th>source</th>\n",
       "      <th>DNA_Integration</th>\n",
       "      <th>DNA_human-breakpoint</th>\n",
       "      <th>DNA_human-gene(s)</th>\n",
       "      <th>library</th>\n",
       "      <th>RNA_Integration</th>\n",
       "      <th>RNA_human-breakpoint</th>\n",
       "      <th>RNA_human-gene(s)</th>\n",
       "      <th>DNA_RNA_bpts</th>\n",
       "      <th>chr</th>\n",
       "      <th>pos</th>\n",
       "      <th>randnums</th>\n",
       "    </tr>\n",
       "  </thead>\n",
       "  <tbody>\n",
       "    <tr>\n",
       "      <td>0</td>\n",
       "      <td>HTMCP-03-06-02001</td>\n",
       "      <td>HPV_16</td>\n",
       "      <td>NaN</td>\n",
       "      <td>integrated</td>\n",
       "      <td>integrated</td>\n",
       "      <td>integrated</td>\n",
       "      <td>RNA_INTEGRATED</td>\n",
       "      <td>HTMCP_124</td>\n",
       "      <td>na</td>\n",
       "      <td>na</td>\n",
       "      <td>na</td>\n",
       "      <td>A37700</td>\n",
       "      <td>YES</td>\n",
       "      <td>3_189542968;3_189542598;3_189542597;3_18952631...</td>\n",
       "      <td>TP63</td>\n",
       "      <td>3_189542968;3_189542598;3_189542597;3_18952631...</td>\n",
       "      <td>3</td>\n",
       "      <td>189542968</td>\n",
       "      <td>8</td>\n",
       "    </tr>\n",
       "    <tr>\n",
       "      <td>1</td>\n",
       "      <td>HTMCP-03-06-02001</td>\n",
       "      <td>HPV_16</td>\n",
       "      <td>NaN</td>\n",
       "      <td>integrated</td>\n",
       "      <td>integrated</td>\n",
       "      <td>integrated</td>\n",
       "      <td>RNA_INTEGRATED</td>\n",
       "      <td>HTMCP_124</td>\n",
       "      <td>na</td>\n",
       "      <td>na</td>\n",
       "      <td>na</td>\n",
       "      <td>A37700</td>\n",
       "      <td>YES</td>\n",
       "      <td>3_189542968;3_189542598;3_189542597;3_18952631...</td>\n",
       "      <td>TP63</td>\n",
       "      <td>3_189542968;3_189542598;3_189542597;3_18952631...</td>\n",
       "      <td>3</td>\n",
       "      <td>189542598</td>\n",
       "      <td>13</td>\n",
       "    </tr>\n",
       "    <tr>\n",
       "      <td>2</td>\n",
       "      <td>HTMCP-03-06-02001</td>\n",
       "      <td>HPV_16</td>\n",
       "      <td>NaN</td>\n",
       "      <td>integrated</td>\n",
       "      <td>integrated</td>\n",
       "      <td>integrated</td>\n",
       "      <td>RNA_INTEGRATED</td>\n",
       "      <td>HTMCP_124</td>\n",
       "      <td>na</td>\n",
       "      <td>na</td>\n",
       "      <td>na</td>\n",
       "      <td>A37700</td>\n",
       "      <td>YES</td>\n",
       "      <td>3_189542968;3_189542598;3_189542597;3_18952631...</td>\n",
       "      <td>TP63</td>\n",
       "      <td>3_189542968;3_189542598;3_189542597;3_18952631...</td>\n",
       "      <td>3</td>\n",
       "      <td>189542597</td>\n",
       "      <td>83</td>\n",
       "    </tr>\n",
       "    <tr>\n",
       "      <td>3</td>\n",
       "      <td>HTMCP-03-06-02001</td>\n",
       "      <td>HPV_16</td>\n",
       "      <td>NaN</td>\n",
       "      <td>integrated</td>\n",
       "      <td>integrated</td>\n",
       "      <td>integrated</td>\n",
       "      <td>RNA_INTEGRATED</td>\n",
       "      <td>HTMCP_124</td>\n",
       "      <td>na</td>\n",
       "      <td>na</td>\n",
       "      <td>na</td>\n",
       "      <td>A37700</td>\n",
       "      <td>YES</td>\n",
       "      <td>3_189542968;3_189542598;3_189542597;3_18952631...</td>\n",
       "      <td>TP63</td>\n",
       "      <td>3_189542968;3_189542598;3_189542597;3_18952631...</td>\n",
       "      <td>3</td>\n",
       "      <td>189526317</td>\n",
       "      <td>82</td>\n",
       "    </tr>\n",
       "    <tr>\n",
       "      <td>4</td>\n",
       "      <td>HTMCP-03-06-02001</td>\n",
       "      <td>HPV_16</td>\n",
       "      <td>NaN</td>\n",
       "      <td>integrated</td>\n",
       "      <td>integrated</td>\n",
       "      <td>integrated</td>\n",
       "      <td>RNA_INTEGRATED</td>\n",
       "      <td>HTMCP_124</td>\n",
       "      <td>na</td>\n",
       "      <td>na</td>\n",
       "      <td>na</td>\n",
       "      <td>A37700</td>\n",
       "      <td>YES</td>\n",
       "      <td>3_189542968;3_189542598;3_189542597;3_18952631...</td>\n",
       "      <td>TP63</td>\n",
       "      <td>3_189542968;3_189542598;3_189542597;3_18952631...</td>\n",
       "      <td>3</td>\n",
       "      <td>189526315</td>\n",
       "      <td>25</td>\n",
       "    </tr>\n",
       "  </tbody>\n",
       "</table>\n",
       "</div>"
      ],
      "text/plain": [
       "             patient   virus comments integration_status 107_results  \\\n",
       "0  HTMCP-03-06-02001  HPV_16      NaN         integrated  integrated   \n",
       "1  HTMCP-03-06-02001  HPV_16      NaN         integrated  integrated   \n",
       "2  HTMCP-03-06-02001  HPV_16      NaN         integrated  integrated   \n",
       "3  HTMCP-03-06-02001  HPV_16      NaN         integrated  integrated   \n",
       "4  HTMCP-03-06-02001  HPV_16      NaN         integrated  integrated   \n",
       "\n",
       "  101_results integration_detected     source DNA_Integration  \\\n",
       "0  integrated       RNA_INTEGRATED  HTMCP_124              na   \n",
       "1  integrated       RNA_INTEGRATED  HTMCP_124              na   \n",
       "2  integrated       RNA_INTEGRATED  HTMCP_124              na   \n",
       "3  integrated       RNA_INTEGRATED  HTMCP_124              na   \n",
       "4  integrated       RNA_INTEGRATED  HTMCP_124              na   \n",
       "\n",
       "  DNA_human-breakpoint DNA_human-gene(s) library RNA_Integration  \\\n",
       "0                   na                na  A37700             YES   \n",
       "1                   na                na  A37700             YES   \n",
       "2                   na                na  A37700             YES   \n",
       "3                   na                na  A37700             YES   \n",
       "4                   na                na  A37700             YES   \n",
       "\n",
       "                                RNA_human-breakpoint RNA_human-gene(s)  \\\n",
       "0  3_189542968;3_189542598;3_189542597;3_18952631...              TP63   \n",
       "1  3_189542968;3_189542598;3_189542597;3_18952631...              TP63   \n",
       "2  3_189542968;3_189542598;3_189542597;3_18952631...              TP63   \n",
       "3  3_189542968;3_189542598;3_189542597;3_18952631...              TP63   \n",
       "4  3_189542968;3_189542598;3_189542597;3_18952631...              TP63   \n",
       "\n",
       "                                        DNA_RNA_bpts  chr        pos  randnums  \n",
       "0  3_189542968;3_189542598;3_189542597;3_18952631...    3  189542968         8  \n",
       "1  3_189542968;3_189542598;3_189542597;3_18952631...    3  189542598        13  \n",
       "2  3_189542968;3_189542598;3_189542597;3_18952631...    3  189542597        83  \n",
       "3  3_189542968;3_189542598;3_189542597;3_18952631...    3  189526317        82  \n",
       "4  3_189542968;3_189542598;3_189542597;3_18952631...    3  189526315        25  "
      ]
     },
     "execution_count": 10,
     "metadata": {},
     "output_type": "execute_result"
    }
   ],
   "source": [
    "df.head()"
   ]
  },
  {
   "cell_type": "code",
   "execution_count": 6,
   "metadata": {},
   "outputs": [],
   "source": [
    "dftmp = df.iloc[:, 15:]"
   ]
  },
  {
   "cell_type": "code",
   "execution_count": 7,
   "metadata": {
    "scrolled": true
   },
   "outputs": [
    {
     "data": {
      "application/vnd.jupyter.widget-view+json": {
       "model_id": "4c5048da85a6454a97c9966e2b37ed00",
       "version_major": 2,
       "version_minor": 0
      },
      "text/plain": [
       "interactive(children=(Dropdown(description='column', options=('chr',), value='chr'), IntSlider(value=12, descr…"
      ]
     },
     "metadata": {},
     "output_type": "display_data"
    }
   ],
   "source": [
    "@interact\n",
    "def show_hotspots_strelka_count(column=['chr'], x=(1, 23, 1)):\n",
    "    return dftmp.loc[(dftmp[column] == x)]\n",
    "# the 2 slider bars are independent"
   ]
  },
  {
   "cell_type": "code",
   "execution_count": 15,
   "metadata": {
    "scrolled": true
   },
   "outputs": [
    {
     "data": {
      "application/vnd.jupyter.widget-view+json": {
       "model_id": "2b7daa642d0c409d94d22e13fef71c5a",
       "version_major": 2,
       "version_minor": 0
      },
      "text/plain": [
       "interactive(children=(Dropdown(description='column', options=('chr', 'pos'), value='chr'), IntSlider(value=12,…"
      ]
     },
     "metadata": {},
     "output_type": "display_data"
    }
   ],
   "source": [
    "@interact\n",
    "def show_hotspots_strelka_count(column=['chr', 'pos'], x=(1, 23, 1), y=(1, 50000000, 100000)):\n",
    "    return df.loc[(df[column] > x)&(df[column]<y)]\n",
    "# the 2 slider bars are independent"
   ]
  },
  {
   "cell_type": "code",
   "execution_count": 9,
   "metadata": {},
   "outputs": [
    {
     "data": {
      "text/plain": [
       "['chr', 'pos', 'randnums']"
      ]
     },
     "execution_count": 9,
     "metadata": {},
     "output_type": "execute_result"
    },
    {
     "data": {
      "text/plain": [
       "['pos', 'randnums']"
      ]
     },
     "execution_count": 9,
     "metadata": {},
     "output_type": "execute_result"
    }
   ],
   "source": [
    "list(df.select_dtypes('number').columns)\n",
    "list(df.select_dtypes('number').columns)[1:]"
   ]
  },
  {
   "cell_type": "code",
   "execution_count": 12,
   "metadata": {
    "scrolled": true
   },
   "outputs": [
    {
     "data": {
      "application/vnd.jupyter.widget-view+json": {
       "model_id": "f9e5e13f3b9143a0b73df8cefb72bad8",
       "version_major": 2,
       "version_minor": 0
      },
      "text/plain": [
       "interactive(children=(Dropdown(description='x', options=('chr', 'pos', 'randnums'), value='chr'), Dropdown(des…"
      ]
     },
     "metadata": {},
     "output_type": "display_data"
    }
   ],
   "source": [
    "@interact\n",
    "def scatter_plot(x=list(df.select_dtypes('number').columns), \n",
    "                 y=list(df.select_dtypes('number').columns)[1:],\n",
    "                 theme=list(cf.themes.THEMES.keys()), \n",
    "                 colorscale=list(cf.colors._scales_names.keys())):\n",
    "    \n",
    "    df.iplot(kind='scatter', x=x, y=y, mode='markers', \n",
    "#              xTitle=x.title(), yTitle=y.title(), \n",
    "#              text='title',\n",
    "#              title=f'{y.title()} vs {x.title()}',\n",
    "            theme=theme, colorscale=colorscale)"
   ]
  }
 ],
 "metadata": {
  "kernelspec": {
   "display_name": "Python 3",
   "language": "python",
   "name": "python3"
  },
  "language_info": {
   "codemirror_mode": {
    "name": "ipython",
    "version": 3
   },
   "file_extension": ".py",
   "mimetype": "text/x-python",
   "name": "python",
   "nbconvert_exporter": "python",
   "pygments_lexer": "ipython3",
   "version": "3.7.3"
  }
 },
 "nbformat": 4,
 "nbformat_minor": 2
}

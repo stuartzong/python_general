{
 "cells": [
  {
   "cell_type": "markdown",
   "metadata": {},
   "source": [
    "## mysql"
   ]
  },
  {
   "cell_type": "markdown",
   "metadata": {},
   "source": [
    "general purpose mysql database  \n",
    "ssh mysql01"
   ]
  },
  {
   "cell_type": "markdown",
   "metadata": {},
   "source": [
    "mysql -u szong -p  \n",
    "Enter password:  gscpassword  \n",
    "Welcome to the MySQL monitor.  Commands end with ; or \\g.\n",
    "Your MySQL connection id is 539\n",
    "Server version: 5.1.73 Source distribution\n",
    "\n",
    "Copyright (c) 2000, 2013, Oracle and/or its affiliates. All rights reserved.\n",
    "\n",
    "Oracle is a registered trademark of Oracle Corporation and/or its\n",
    "affiliates. Other names may be trademarks of their respective\n",
    "owners.\n",
    "\n",
    "Type 'help;' or '\\h' for help. Type '\\c' to clear the current input statement.\n",
    "\n",
    "mysql> \n"
   ]
  },
  {
   "cell_type": "markdown",
   "metadata": {},
   "source": [
    "load database: source /home/szong/Downloads/mysqlsampledatabase.sql"
   ]
  },
  {
   "cell_type": "markdown",
   "metadata": {},
   "source": [
    "## .mysql_history has all mysql command ran"
   ]
  },
  {
   "cell_type": "markdown",
   "metadata": {},
   "source": [
    "## sql queries"
   ]
  },
  {
   "cell_type": "markdown",
   "metadata": {},
   "source": [
    "when you see '> prompt, it means you need to close the quote, and always end a command with a ; ctrl c results in exit of mysql."
   ]
  },
  {
   "cell_type": "markdown",
   "metadata": {},
   "source": [
    "[szong@mysql01 ~]$ cat .mysql_history \n",
    "\n",
    "show databases;\n",
    "\n",
    "use classicmodels;\n",
    "\n",
    "show tables;\n",
    "\n",
    "select * from customers order by contactLastName DESC, contactFirstName ASC limit 10;\n",
    "\n",
    "SELECT orderNumber, status FROM orders ORDER BY FIELD(status,'In Process', 'On Hold', 'Cancelled', 'Resolved', 'Disputed', 'Shipped') LIMIT 10;\n",
    "\n",
    "SELECT lastName, firstName, jobTitle, officeCode FROM employees WHERE officeCode BETWEEN 3 AND 5 OR jobTitle='Sales Rep';\n",
    "\n",
    "SELECT lastName, firstName, jobTitle, officeCode, extension FROM employees WHERE ((officeCode BETWEEN 3 AND 5) OR (jobTitle='Sales Rep')) AND (extension IN ('x101', 'x102'))  ORDER BY officeCode DESC;\n",
    "\n",
    "SELECT lastName, firstName, jobTitle, officeCode, extension FROM employees WHERE firstName LIKE '%i_' AND (extension IN ('x101', 'x102', 'x2312'))  ORDER BY officeCode DESC;\n",
    "\n",
    "SELECT lastName, firstName, jobTitle, officeCode, extension FROM employees WHERE firstName LIKE '%i_' AND officeCode>1 ORDER BY officeCode DESC;\n",
    "\n",
    "SELECT DISTINCT state, city FROM customers WHERE state IS NOT NULL ORDER BY state, city;\n",
    "\n",
    "SELECT  state, city FROM customers WHERE state IS NOT NULL ORDER BY state, city;\n",
    "\n",
    "SELECT COUNT(DISTINCT state) AS num_states FROM customers WHERE country='USA';\n",
    "\n",
    "\n",
    "SELECT SUM(quantityOrdered*priceEach) AS total FROM orderdetails GROUP BY orderNumber HAVING total>60000;\n",
    "\n",
    "\n",
    "SELECT * FROM orders WHERE orderNumber IN (SELECT orderNumber FROM orderdetails GROUP BY orderNumber HAVING SUM(quantityOrdered*priceEach)>60000);\n",
    "\n",
    "SELECT requiredDate FROM orders WHERE orderDate BETWEEN CAST('2003-02-03' AS DATE) AND CAST('2003-3-30' AS DATE);\n",
    "\n",
    "SELECT productCode FROM products WHERE productCode LIKE '%_2' LIMIT 10;\n",
    "\n",
    "SELECT productCode FROM products WHERE productCode LIKE '%\\_2' LIMIT 10;\n",
    "\n",
    "SELECT productCode FROM products WHERE productCode LIKE '%$_2%' ESCAPE '$' LIMIT 10;\n"
   ]
  },
  {
   "cell_type": "markdown",
   "metadata": {},
   "source": [
    "* , between columns to order, no , before limit clause\n",
    "\n",
    "select * from customers order by contactLastName DESC, contactFirstName ASC limit 10;\n",
    "\n",
    "* you can do math operations and use alias\n",
    "\n",
    "SELECT orderNumber, orderLineNumber, quantityOrdered * priceEach AS subtotal FROM orderdetails ORDER BY subtotal DESC LIMIT 10;\n",
    "\n",
    "* YOU can specify an order for categorical values use FIELD keyword\n",
    "\n",
    "SELECT orderNumber, status FROM orders ORDER BY FIELD(status,'In Process', 'On Hold', 'Cancelled', 'Resolved', 'Disputed', 'Shipped') LIMIT 10;\n",
    "\n",
    "* use where clause with AND, OR, NOT, LIKE, BETWEEN, IN, IS NULL, other operators like <, > =, != etc.\n",
    "\n",
    "SELECT lastName, firstName, jobTitle, officeCode, extension FROM employees WHERE ((officeCode BETWEEN 3 AND 5) OR (jobTitle='Sales Rep')) AND (extension IN ('x101', 'x102'))  ORDER BY officeCode DESC;\n",
    "\n",
    "* %match 0 to any character, _ match one character\n",
    "\n",
    "SELECT lastName, firstName, jobTitle, officeCode, extension FROM employees WHERE firstName LIKE '%i_' AND officeCode>1 ORDER BY officeCode DESC;\n",
    "\n",
    "* distinct remove duplicates, only keep one NULL if there are multiple Null entries in a column\n",
    "\n",
    "SELECT DISTINCT state, city FROM customers WHERE state IS NOT NULL ORDER BY state, city;\n",
    "\n",
    "* operator precedence, evaluate AND before OR\n",
    "\n",
    "SELECT COUNT(DISTINCT state) AS num_states FROM customers WHERE country='USA';\n",
    "\n",
    "\n",
    "* here you can not use WHERE to replace HAVING, where is to filter before grouping and having is to filter after grouping, for example based on sum.\n",
    "\n",
    "SELECT SUM(quantityOrdered*priceEach) AS total FROM orderdetails GROUP BY orderNumber HAVING total>60000;\n",
    "\n",
    "* IN a set, separated by comma, you can also use a subquery as the set\n",
    "\n",
    "SELECT * FROM orders WHERE orderNumber IN (SELECT orderNumber FROM orderdetails GROUP BY orderNumber HAVING SUM(quantityOrdered*priceEach)>60000);\n",
    "\n",
    "\n",
    "* between dates, it is best to cast as date type\n",
    "\n",
    "SELECT * FROM orders WHERE orderDate BETWEEN CAST('2003-02-03' AS DATE) AND CAST('2003-3-30' AS DATE);\n",
    "\n",
    "* like, match a pattern % 0 to more character, _ one character, default escape character is \\, you can specify with ESCAPE \n",
    "\n",
    "SELECT productCode FROM products WHERE productCode LIKE '%$_2%' ESCAPE '$' LIMIT 10;\n"
   ]
  },
  {
   "cell_type": "markdown",
   "metadata": {},
   "source": [
    "* LIMIT offset 10 rows and show the next 10 rows\n",
    "\n",
    "SELECT customerNumber, customerName FROM customers ORDER BY customerName LIMIT 10, 10;\n",
    "\n",
    "SELECT c.customerName, COUNT(o.orderNumber) total FROM customers c INNER JOIN orders o ON c.customerNumber=o.customerNumber GROUP BY customerName ORDER BY total DESC;"
   ]
  },
  {
   "cell_type": "markdown",
   "metadata": {},
   "source": [
    "SELECT orderNumber, status FROM orders ORDER BY FIELD(status,  'In Process', 'On Hold', 'Cancelled', 'Resolved', 'Disputed', 'Shipped') LIMIT 20;  \n",
    "\n",
    "SELECT lastName, firstName, reportsTo FROM employees WHERE reportsTo IS NULL;  \n",
    "\n",
    "SELECT firstName, lastName, officeCode FROM employees WHERE officeCode IN (1 , 2, 3) ORDER BY officeCode;  \n",
    "\n",
    "SELECT DISTINCT state, city FROM customers WHERE state IS NOT NULL ORDER BY state, city;  \n",
    "\n",
    "SELECT orderNumber, requiredDate, status FROM orders WHERE requireddate BETWEEN CAST('2003-01-01' AS DATE) AND CAST('2003-01-31' AS DATE);  \n",
    "\n",
    "SELECT productCode, productName FROM products WHERE productCode LIKE '%$_20%' ESCAPE '$'; # this means $ is a escape character, default is blackslash.\n",
    "\n",
    "\n",
    "\n",
    "\n"
   ]
  },
  {
   "cell_type": "markdown",
   "metadata": {},
   "source": [
    "https://www.bcgsc.ca/jira/browse/SYS-55426?filter=-2"
   ]
  },
  {
   "cell_type": "markdown",
   "metadata": {},
   "source": [
    "postgres test database on psql03: "
   ]
  },
  {
   "cell_type": "markdown",
   "metadata": {},
   "source": [
    "(base) [szong@szong01 szong]$ ssh psql03.bcgsc.ca \n",
    "\n",
    "Last login: Thu Oct 17 17:23:53 2019 from szong01.phage.bcgsc.ca\n",
    "\n",
    "             Please use \"lrzip\" instead of \"gzip\" to compress files\n",
    "\n",
    "                 Please use GSCcompress to compress hierarchies\n",
    "                    \n",
    "        Details at https://www.bcgsc.ca/wiki/display/SysHelp/GSCcompress\n",
    "\n",
    "                Please use DSRC for  compression of fastq files\n",
    "                \n",
    "                 Details at https://www.bcgsc.ca/wiki/x/uYXJAQ\n",
    "\n",
    "       Please use samtools for compression of BAM files into CRAM format\n",
    "                 Details at https://www.bcgsc.ca/wiki/x/uYXJAQ\n",
    "\n",
    "            \n",
    "(base) [szong@psql03 ~]$ psql -d szong_test\n",
    "Password: \n",
    "psql (9.4.16)\n",
    "Type \"help\" for help."
   ]
  },
  {
   "cell_type": "markdown",
   "metadata": {},
   "source": [
    "## below are postgres commands"
   ]
  },
  {
   "cell_type": "markdown",
   "metadata": {},
   "source": [
    "SELECT * FROM pg_catalog.pg_tables; # see what tables we have\n",
    "\n",
    "create table phone (name character varying(10), phone character varying(10), city character varying(10));\n",
    "\n",
    " \\copy phone(name, phone, city) from '/projects/trans_scratch/validations/workspace/szong/Cervical/variant_bwamem/validation/phone_book.txt' delimiter ',' csv header; # copy from a csv file, copy command is only for super users, use delimiter E'\\t' for tab-delimited data\n",
    "\n",
    "\n",
    " INSERT INTO phone(name, phone, city) VALUES('Smith', 3333,'vancouver'); # manually insert record\n",
    " \n",
    " SELECT * FROM phone; # look at the table\n",
    " \n",
    " \\dp phone # table permissons\n",
    " \n",
    " \\du # see roles for a user\n",
    " \n",
    " \\dt # show tables\n",
    " \n",
    " \\d table_name # show the data types of all columns in table\n",
    " \n",
    " DROP TABLE variants; # drop a table\n",
    " \n",
    "CREATE TABLE variants (chr CHAR(20), pos INT, ref VARCHAR(50), alt VARCHAR(50), patient CHAR(20), impact TEXT, impact_type CHAR(20), type CHAR(20), AA_change CHAR(20), gene CHAR(20), transcript CHAR(20));\n",
    "\n",
    "CREATE TABLE meta(Patient CHAR(20),Tumour CHAR(8), Normal CHAR(8), t_dna TEXT, n_dna TEXT);\n",
    "\n",
    "\\COPY meta(Patient,Tumour,Normal,t_dna,n_dna) FROM '/projects/trans_scratch/validations/workspace/szong/Cervical/variant_bwamem/validation/meta_file_20191016.txt' DELIMITER E'\\t' CSV HEADER;\n",
    "\n",
    "\n",
    "SELECT tumour,t_dna FROM meta WHERE patient='HTMCP-03-06-02061' LIMIT 5\n",
    "\n",
    "SELECT m.tumour,m.t_dna,v.transcript FROM meta m INNER JOIN variants v ON m.patient=v.patient WHERE m.patient='HTMCP-03-06-02061' LIMIT 5;\n",
    "\n",
    "SELECT m.tumour,m.t_dna,v.transcript,v.pos FROM meta m INNER JOIN variants v ON m.patient=v.patient WHERE m.patient='HTMCP-03-06-02061' AND v.pos<142706207 LIMIT 5;\n",
    "\n",
    "SELECT patient,COUNT(*) FROM variants WHERE gene='TERT' GROUP BY patient ORDER BY patient;\n",
    "\n",
    "SELECT chr||':'||pos||'-'||pos+1 AS coordinates FROM variants LIMIT 10; # concatenate columns and use alias\n",
    "\n",
    "SELECT 5*3 AS results; # select operations, use alias, no from clause because not related to any table\n",
    "\n",
    "SELECT * FROM variants ORDER BY patient ASC, transcript DESC LIMIT 10; # order by two columns in ascending and descending order respectively\n",
    "\n",
    "SELECT DISTINCT ON (patient) patient,transcript FROM variants ORDER BY patient ASC, transcript DESC LIMIT 10; # distinct rows on a column\n",
    "\n",
    "SELECT * FROM variants WHERE impact LIKE '%STREAM' LIMIT 10; # LIKE, NOT LIKE\n",
    "\n",
    "SELECT * FROM variants WHERE impact LIKE '%STREAM' AND gene='TERT' LIMIT 10; # AND, OR, IN, NOT IN, BETWEEN, NOT BETWEEN operators\n",
    "\n",
    "SELECT * FROM variants WHERE impact LIKE 'INT%' OR ref IN ('A', 'G' ) LIMIT 10;\n",
    "\n",
    "SELECT * FROM variants WHERE impact LIKE '____ST%' LIMIT 10; # % match any number of characters, _ match one character\n",
    "\n",
    "SELECT patient, COUNT(patient) AS num_patient FROM variants WHERE gene='GPR126' GROUP BY patient HAVING COUNT(patient)>0 LIMIT 10; # WHERE before group by, HAVING after GROUP BY"
   ]
  },
  {
   "cell_type": "markdown",
   "metadata": {},
   "source": [
    "SELECT DISTINCT patient FROM variants WHERE gene='GPR126' UNION SELECT patient FROM meta WHERE patient LIKE '%02044%'; #UNION data from two tables\n",
    "\n",
    "SELECT DISTINCT patient FROM variants WHERE gene='GPR126' INTERSECT SELECT patient FROM meta WHERE patient LIKE '%2111%';\n",
    "\n",
    "SELECT DISTINCT patient FROM variants WHERE gene='GPR126' INTERSECT SELECT patient FROM meta WHERE patient LIKE '%2111___'; # CHAR(20) 20 character, if shorter, the string is padded with space, so '%2111' does not match\n",
    "\n",
    "ALTER TABLE meta ALTER COLUMN patient TYPE VARCHAR(17); # alter table column data type\n",
    "\n",
    "SELECT DISTINCT patient FROM variants WHERE gene='GPR126' EXCEPT SELECT patient FROM meta WHERE patient LIKE '%1'; # patients in table1 but not in table2\n"
   ]
  },
  {
   "cell_type": "markdown",
   "metadata": {},
   "source": [
    " SELECT DISTINCT patient,pos FROM variants WHERE pos > (SELECT AVG(pos)*2 FROM variants); # subquery\n"
   ]
  },
  {
   "cell_type": "markdown",
   "metadata": {},
   "source": [
    "### i have googel docs notes about mysql "
   ]
  },
  {
   "cell_type": "markdown",
   "metadata": {},
   "source": [
    "install cmake first: \n",
    "\n",
    "download from here:\n",
    "\n",
    "https://cmake.org/\n",
    "untar/unzip the tarball file\n",
    "then run this command to install:\n",
    "./bootstrap && make && make install\n",
    "\n",
    "above are unnecessary if not install from source. we could use conda install\n",
    "\n",
    "    "
   ]
  },
  {
   "cell_type": "markdown",
   "metadata": {},
   "source": [
    "install mysql\n",
    "\n",
    "conda install -c anaconda mysql \n",
    "\n",
    "\n"
   ]
  },
  {
   "cell_type": "markdown",
   "metadata": {},
   "source": [
    "how to start mysql server?\n",
    "run from command line:\n",
    "./mysqld -u szong -p\n",
    "i think it does not work on my computer because of permission, i install in my own macbook, it should work fine. check later"
   ]
  },
  {
   "cell_type": "markdown",
   "metadata": {},
   "source": [
    "data we need may come from multiple data sources. we need a tool to collect, intersect, filter, and transform them into one single csv file. \n",
    "mysql is free and a great one. if you have terabytes of data, you should consider hadoop."
   ]
  },
  {
   "cell_type": "markdown",
   "metadata": {},
   "source": [
    "go through this example by using mysql:\n",
    "\n",
    "https://blog.bigml.com/2013/10/30/data-preparation-for-machine-learning-using-mysql/"
   ]
  },
  {
   "cell_type": "markdown",
   "metadata": {},
   "source": [
    "sql vs pandas, see pandas dataframe as a high-level api to sql routines, pandas is optimized for groupby,join, and load data while sql is faster for operations like select, filtering, and sort."
   ]
  },
  {
   "cell_type": "markdown",
   "metadata": {},
   "source": [
    "# there is a general postgres server"
   ]
  },
  {
   "cell_type": "markdown",
   "metadata": {},
   "source": [
    "https://www.bcgsc.ca/jira/browse/SYS-55426?filter=-2"
   ]
  },
  {
   "cell_type": "markdown",
   "metadata": {},
   "source": [
    "created postgres user szong on psql03 \n",
    "\n",
    "created database szong_test with owner szong\n",
    "\n",
    "granted all privileges on public schema in szong_test database"
   ]
  },
  {
   "cell_type": "markdown",
   "metadata": {},
   "source": [
    "ssh psql03.bcgsc.ca"
   ]
  },
  {
   "cell_type": "markdown",
   "metadata": {},
   "source": [
    "(base) [szong@szong01 Downloads]$ ssh psql03.bcgsc.ca    \n",
    "\n",
    "(base) [szong@psql03 ~]$ psql -d szong_test  \n",
    "Password:   \n",
    "psql (9.4.16)  \n",
    "Type \"help\" for help.  \n",
    "\n",
    "szong_test=>   \n"
   ]
  }
 ],
 "metadata": {
  "kernelspec": {
   "display_name": "Python 3",
   "language": "python",
   "name": "python3"
  },
  "language_info": {
   "codemirror_mode": {
    "name": "ipython",
    "version": 3
   },
   "file_extension": ".py",
   "mimetype": "text/x-python",
   "name": "python",
   "nbconvert_exporter": "python",
   "pygments_lexer": "ipython3",
   "version": "3.7.3"
  }
 },
 "nbformat": 4,
 "nbformat_minor": 2
}

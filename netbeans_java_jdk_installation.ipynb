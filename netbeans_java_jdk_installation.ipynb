{
 "cells": [
  {
   "cell_type": "markdown",
   "metadata": {},
   "source": [
    "download java jdk:\n",
    "    https://www.oracle.com/technetwork/java/javase/downloads/jdk8-downloads-2133151.html\n",
    "        jdk-8u191-linux-x64.tar.gz\n",
    "download netbeans:\n",
    "    https://netbeans.org/downloads/\n",
    "        \n",
    "extract jdk and run netbeans installation sh script, point javahome to jdk directory\n",
    "[szong@gphost08 netbeans]$ bash netbeans-8.2-javase-linux.sh --javahome ./jdk1.8.0_191\n",
    "\n",
    "\n",
    "\n"
   ]
  },
  {
   "cell_type": "code",
   "execution_count": null,
   "metadata": {},
   "outputs": [],
   "source": []
  }
 ],
 "metadata": {
  "kernelspec": {
   "display_name": "Python 3",
   "language": "python",
   "name": "python3"
  },
  "language_info": {
   "codemirror_mode": {
    "name": "ipython",
    "version": 3
   },
   "file_extension": ".py",
   "mimetype": "text/x-python",
   "name": "python",
   "nbconvert_exporter": "python",
   "pygments_lexer": "ipython3",
   "version": "3.6.5"
  }
 },
 "nbformat": 4,
 "nbformat_minor": 2
}
